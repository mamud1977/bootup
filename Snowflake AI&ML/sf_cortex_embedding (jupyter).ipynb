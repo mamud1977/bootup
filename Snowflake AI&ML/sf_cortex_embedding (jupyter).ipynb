{
 "cells": [
  {
   "cell_type": "code",
   "execution_count": 2,
   "id": "3ef7b2cb",
   "metadata": {},
   "outputs": [],
   "source": [
    "#!pip install jupyter_contrib_nbextensions"
   ]
  },
  {
   "cell_type": "code",
   "execution_count": 3,
   "id": "3cd11a0a",
   "metadata": {},
   "outputs": [],
   "source": [
    "from snowflake.snowpark import Session, Row\n",
    "from snowflake.snowpark.types import VectorType, StructType, StructField\n",
    "from snowflake.snowpark.functions import col, lit, vector_l2_distance"
   ]
  },
  {
   "cell_type": "code",
   "execution_count": 4,
   "id": "577da61c",
   "metadata": {},
   "outputs": [
    {
     "name": "stdout",
     "output_type": "stream",
     "text": [
      "----------------------------------------------------------------------------------------------------------------------------------------------------------------------------------------------------------------------------------------------------------------------------------------------------------------------------------------------------------------------------------------------------------------------------------------------------------------------\n",
      "|\"created_on\"                      |\"name\"       |\"database_name\"  |\"schema_name\"  |\"kind\"  |\"comment\"  |\"cluster_by\"  |\"rows\"  |\"bytes\"  |\"owner\"       |\"retention_time\"  |\"automatic_clustering\"  |\"change_tracking\"  |\"search_optimization\"  |\"search_optimization_progress\"  |\"search_optimization_bytes\"  |\"is_external\"  |\"enable_schema_evolution\"  |\"owner_role_type\"  |\"is_event\"  |\"budget\"  |\"is_hybrid\"  |\"is_iceberg\"  |\"is_dynamic\"  |\"is_immutable\"  |\n",
      "----------------------------------------------------------------------------------------------------------------------------------------------------------------------------------------------------------------------------------------------------------------------------------------------------------------------------------------------------------------------------------------------------------------------------------------------------------------------\n",
      "|2024-09-08 16:40:22.598000-07:00  |INTERACTION  |DASH_DB          |DASH_SCHEMA    |TABLE   |           |              |5       |16896    |ACCOUNTADMIN  |1                 |OFF                     |OFF                |OFF                    |NULL                            |NULL                         |N              |N                          |ROLE               |N           |NULL      |N            |N             |N             |N               |\n",
      "|2024-09-05 15:05:41.552000-07:00  |TEST         |DASH_DB          |DASH_SCHEMA    |TABLE   |           |              |3972    |177664   |ACCOUNTADMIN  |1                 |OFF                     |OFF                |OFF                    |NULL                            |NULL                         |N              |N                          |ROLE               |N           |NULL      |N            |N             |N             |N               |\n",
      "|2024-09-08 12:44:52.062000-07:00  |VECTORS      |DASH_DB          |DASH_SCHEMA    |TABLE   |           |              |3       |1536     |ACCOUNTADMIN  |1                 |OFF                     |OFF                |OFF                    |NULL                            |NULL                         |N              |N                          |ROLE               |N           |NULL      |N            |N             |N             |N               |\n",
      "----------------------------------------------------------------------------------------------------------------------------------------------------------------------------------------------------------------------------------------------------------------------------------------------------------------------------------------------------------------------------------------------------------------------------------------------------------------------\n",
      "\n"
     ]
    }
   ],
   "source": [
    "\n",
    "sess_connector = {\n",
    "       \"user\":'Welcome123',\n",
    "       \"password\":'Welcome123$',\n",
    "       \"account\":'VVROJOJ-KCB19941',\n",
    "       \"warehouse\":'DASH_S',\n",
    "       \"database\":'DASH_DB',\n",
    "       \"schema\":'DASH_SCHEMA'\n",
    "       }\n",
    "sess = Session.builder.configs(sess_connector).create()\n",
    "\n",
    "df = sess.sql(\"show tables\")\n",
    "df.show()"
   ]
  },
  {
   "cell_type": "code",
   "execution_count": 5,
   "id": "71389f7d",
   "metadata": {},
   "outputs": [
    {
     "name": "stdout",
     "output_type": "stream",
     "text": [
      "-----------------------------\n",
      "|\"ID\"  |\"PRODUCT\"           |\n",
      "-----------------------------\n",
      "|1     |14.0                |\n",
      "|2     |23.0                |\n",
      "|3     |13.699999809265137  |\n",
      "-----------------------------\n",
      "\n"
     ]
    }
   ],
   "source": [
    "df = sess.sql(\"select id, VECTOR_INNER_PRODUCT(a,b) as Product from vectors\")\n",
    "df.show()"
   ]
  },
  {
   "cell_type": "code",
   "execution_count": 14,
   "id": "2e5a060e",
   "metadata": {},
   "outputs": [
    {
     "name": "stdout",
     "output_type": "stream",
     "text": [
      "insert into interaction values ([Row(MAX=3)]\n"
     ]
    }
   ],
   "source": [
    "v_id = sess.sql(\"select max(id) as Max from vectors\").collect()\n",
    "v_text = 'jsdjdhsd ddsdsd'\n",
    "\n",
    "\n",
    "v_sql =  f\"insert into interaction values ({v_id}\"\n",
    "\n",
    "print(v_sql)"
   ]
  },
  {
   "cell_type": "code",
   "execution_count": 7,
   "id": "386ac2cf",
   "metadata": {},
   "outputs": [
    {
     "name": "stdout",
     "output_type": "stream",
     "text": [
      "Please enter your input text: \n",
      "sdsds\n"
     ]
    }
   ],
   "source": [
    "\n",
    "\n",
    "session.sql(\" insert into interaction values \\\n",
    "              ('id1', 10.0, CURRENT_TIMESTAMP()), \\\n",
    "              ('id2', 20.0, CURRENT_TIMESTAMP()), \\\n",
    "              ('id3', 30.0, CURRENT_TIMESTAMP()), \\\n",
    "              ('id4', 40.0, CURRENT_TIMESTAMP()), \\\n",
    "              ('id5', 50.0, CURRENT_TIMESTAMP()), \\\n",
    "              ('id6', 60.0, CURRENT_TIMESTAMP()), \\\n",
    "              ('id7', 70.0, CURRENT_TIMESTAMP()), \\\n",
    "              ('id8', 80.0, CURRENT_TIMESTAMP()), \\\n",
    "              ('id9', 90.0, CURRENT_TIMESTAMP()), \\\n",
    "              ('id10', 100.0, CURRENT_TIMESTAMP()), \\\n",
    "              ('id11', 110.0, CURRENT_TIMESTAMP())\").collect()\n",
    "\n",
    "\n",
    "Create or replace table interaction\n",
    "(\n",
    "interaction_id VARCHAR(100),\t\n",
    "issue_text VARCHAR(4000),\n",
    "issue_text_vec VECTOR(FLOAT,768)\n",
    ")\n",
    "\n",
    "insert into interaction(interaction_id,issue_text) \n",
    "values(1,'IBM is a big software company. Its business spans over multiple country');\n",
    "insert into interaction(interaction_id,issue_text) \n",
    " values(2,'Software companies are facing headwind due to impending recession');\n",
    "insert into interaction(interaction_id,issue_text) \n",
    " values(3,'Virat Koholi is one of the most successful crickter ever played');\n",
    "insert into interaction(interaction_id,issue_text) \n",
    " values(4,'Messi is one of the most successful footballer ever played');\n",
    "insert into interaction(interaction_id,issue_text) \n",
    " values(5,'Eden Garden is a cricket stadium situated in Kolkata');\n",
    "\n",
    "select * from interaction\n",
    "\n",
    "UPDATE interaction\n",
    "  SET issue_text_vec = SNOWFLAKE.CORTEX.EMBED_TEXT_768('snowflake-arctic-embed-m', issue_text);\n",
    "\n",
    "select * from interaction a, \n",
    "\n",
    "\n"
   ]
  },
  {
   "cell_type": "code",
   "execution_count": null,
   "id": "86ba9738",
   "metadata": {},
   "outputs": [],
   "source": [
    "session.sql(\"insert into prices values \\\n",
    "              ('id1', 10.0, CURRENT_TIMESTAMP()), \\\n",
    "              ('id2', 20.0, CURRENT_TIMESTAMP()), \\\n",
    "              ('id3', 30.0, CURRENT_TIMESTAMP()), \\\n",
    "              ('id4', 40.0, CURRENT_TIMESTAMP()), \\\n",
    "              ('id5', 50.0, CURRENT_TIMESTAMP()), \\\n",
    "              ('id6', 60.0, CURRENT_TIMESTAMP()), \\\n",
    "              ('id7', 70.0, CURRENT_TIMESTAMP()), \\\n",
    "              ('id8', 80.0, CURRENT_TIMESTAMP()), \\\n",
    "              ('id9', 90.0, CURRENT_TIMESTAMP()), \\\n",
    "              ('id10', 100.0, CURRENT_TIMESTAMP()), \\\n",
    "              ('id11', 110.0, CURRENT_TIMESTAMP())\").collect()"
   ]
  }
 ],
 "metadata": {
  "kernelspec": {
   "display_name": "Python 3 (ipykernel)",
   "language": "python",
   "name": "python3"
  },
  "language_info": {
   "codemirror_mode": {
    "name": "ipython",
    "version": 3
   },
   "file_extension": ".py",
   "mimetype": "text/x-python",
   "name": "python",
   "nbconvert_exporter": "python",
   "pygments_lexer": "ipython3",
   "version": "3.11.4"
  }
 },
 "nbformat": 4,
 "nbformat_minor": 5
}
