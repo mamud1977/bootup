{
  "nbformat": 4,
  "nbformat_minor": 0,
  "metadata": {
    "colab": {
      "provenance": [],
      "toc_visible": true,
      "authorship_tag": "ABX9TyPbw9jFBYpuRAmEpCxR2kSP",
      "include_colab_link": true
    },
    "kernelspec": {
      "name": "python3",
      "display_name": "Python 3"
    },
    "language_info": {
      "name": "python"
    }
  },
  "cells": [
    {
      "cell_type": "markdown",
      "metadata": {
        "id": "view-in-github",
        "colab_type": "text"
      },
      "source": [
        "<a href=\"https://colab.research.google.com/github/mamud1977/bootup/blob/main/sf_cortex_using_snowpark.ipynb\" target=\"_parent\"><img src=\"https://colab.research.google.com/assets/colab-badge.svg\" alt=\"Open In Colab\"/></a>"
      ]
    },
    {
      "cell_type": "code",
      "source": [
        "#!pip install snowflake-connector-python[pandas]\n"
      ],
      "metadata": {
        "id": "CYisKQ_tX2pH"
      },
      "execution_count": 10,
      "outputs": []
    },
    {
      "cell_type": "code",
      "source": [
        "#!pip install snowflake-snowpark-python"
      ],
      "metadata": {
        "id": "kk3u8buLYCby"
      },
      "execution_count": 11,
      "outputs": []
    },
    {
      "cell_type": "code",
      "source": [
        "import os\n",
        "import json\n",
        "from snowflake.snowpark import Session"
      ],
      "metadata": {
        "id": "buZamMvVYNK6"
      },
      "execution_count": 3,
      "outputs": []
    },
    {
      "cell_type": "code",
      "source": [
        "sess_connector = {\n",
        "   \"user\":'Welcome123',\n",
        "    \"password\":'Welcome123$',\n",
        "    \"account\":'VVROJOJ-KCB19941',\n",
        "    \"warehouse\":'DASH_S',\n",
        "    \"database\":'DASH_DB',\n",
        "    \"schema\":'DASH_SCHEMA'\n",
        "   }\n",
        "\n",
        "sess = Session.builder.configs(sess_connector).create()"
      ],
      "metadata": {
        "id": "hcwa8gd6ZRXC"
      },
      "execution_count": 5,
      "outputs": []
    },
    {
      "cell_type": "code",
      "source": [
        "df = sess.sql(\"show tables\")\n",
        "df.show()"
      ],
      "metadata": {
        "colab": {
          "base_uri": "https://localhost:8080/"
        },
        "id": "GziON8CNaP_3",
        "outputId": "1c50ecd7-cd0d-4480-b889-f112ea54ec17"
      },
      "execution_count": 9,
      "outputs": [
        {
          "output_type": "stream",
          "name": "stdout",
          "text": [
            "-----------------------------------------------------------------------------------------------------------------------------------------------------------------------------------------------------------------------------------------------------------------------------------------------------------------------------------------------------------------------------------------------------------------------------------------------------------------\n",
            "|\"created_on\"                      |\"name\"  |\"database_name\"  |\"schema_name\"  |\"kind\"  |\"comment\"  |\"cluster_by\"  |\"rows\"  |\"bytes\"  |\"owner\"       |\"retention_time\"  |\"automatic_clustering\"  |\"change_tracking\"  |\"search_optimization\"  |\"search_optimization_progress\"  |\"search_optimization_bytes\"  |\"is_external\"  |\"enable_schema_evolution\"  |\"owner_role_type\"  |\"is_event\"  |\"budget\"  |\"is_hybrid\"  |\"is_iceberg\"  |\"is_dynamic\"  |\"is_immutable\"  |\n",
            "-----------------------------------------------------------------------------------------------------------------------------------------------------------------------------------------------------------------------------------------------------------------------------------------------------------------------------------------------------------------------------------------------------------------------------------------------------------------\n",
            "|2024-09-05 15:05:41.552000-07:00  |TEST    |DASH_DB          |DASH_SCHEMA    |TABLE   |           |              |3972    |177664   |ACCOUNTADMIN  |1                 |OFF                     |OFF                |OFF                    |NULL                            |NULL                         |N              |N                          |ROLE               |N           |NULL      |N            |N             |N             |N               |\n",
            "-----------------------------------------------------------------------------------------------------------------------------------------------------------------------------------------------------------------------------------------------------------------------------------------------------------------------------------------------------------------------------------------------------------------------------------------------------------------\n",
            "\n"
          ]
        }
      ]
    },
    {
      "cell_type": "code",
      "execution_count": null,
      "metadata": {
        "id": "WTUnIJGrj8Qq",
        "outputId": "256b36c3-0d1c-4c9a-f76e-b621e7ac15de",
        "colab": {
          "base_uri": "https://localhost:8080/",
          "height": 393
        }
      },
      "outputs": [
        {
          "output_type": "error",
          "ename": "ModuleNotFoundError",
          "evalue": "No module named 'snowflake.cortex'",
          "traceback": [
            "\u001b[0;31m---------------------------------------------------------------------------\u001b[0m",
            "\u001b[0;31mModuleNotFoundError\u001b[0m                       Traceback (most recent call last)",
            "\u001b[0;32m<ipython-input-1-4d222195c840>\u001b[0m in \u001b[0;36m<cell line: 1>\u001b[0;34m()\u001b[0m\n\u001b[0;32m----> 1\u001b[0;31m \u001b[0;32mfrom\u001b[0m \u001b[0msnowflake\u001b[0m\u001b[0;34m.\u001b[0m\u001b[0mcortex\u001b[0m \u001b[0;32mimport\u001b[0m \u001b[0mComplete\u001b[0m\u001b[0;34m,\u001b[0m \u001b[0mExtractAnswer\u001b[0m\u001b[0;34m,\u001b[0m \u001b[0mSentiment\u001b[0m\u001b[0;34m,\u001b[0m \u001b[0mSummarize\u001b[0m\u001b[0;34m,\u001b[0m \u001b[0mTranslate\u001b[0m\u001b[0;34m\u001b[0m\u001b[0;34m\u001b[0m\u001b[0m\n\u001b[0m\u001b[1;32m      2\u001b[0m \u001b[0;34m\u001b[0m\u001b[0m\n\u001b[1;32m      3\u001b[0m text = \"\"\"\n\u001b[1;32m      4\u001b[0m     \u001b[0mThe\u001b[0m \u001b[0mSnowflake\u001b[0m \u001b[0mcompany\u001b[0m \u001b[0mwas\u001b[0m \u001b[0mco\u001b[0m\u001b[0;34m-\u001b[0m\u001b[0mfounded\u001b[0m \u001b[0mby\u001b[0m \u001b[0mThierry\u001b[0m \u001b[0mCruanes\u001b[0m\u001b[0;34m,\u001b[0m \u001b[0mMarcin\u001b[0m \u001b[0mZukowski\u001b[0m\u001b[0;34m,\u001b[0m\u001b[0;34m\u001b[0m\u001b[0;34m\u001b[0m\u001b[0m\n\u001b[1;32m      5\u001b[0m     \u001b[0;32mand\u001b[0m \u001b[0mBenoit\u001b[0m \u001b[0mDageville\u001b[0m \u001b[0;32min\u001b[0m \u001b[0;36m2012\u001b[0m \u001b[0;32mand\u001b[0m \u001b[0;32mis\u001b[0m \u001b[0mheadquartered\u001b[0m \u001b[0;32min\u001b[0m \u001b[0mBozeman\u001b[0m\u001b[0;34m,\u001b[0m \u001b[0mMontana\u001b[0m\u001b[0;34m.\u001b[0m\u001b[0;34m\u001b[0m\u001b[0;34m\u001b[0m\u001b[0m\n",
            "\u001b[0;31mModuleNotFoundError\u001b[0m: No module named 'snowflake.cortex'",
            "",
            "\u001b[0;31m---------------------------------------------------------------------------\u001b[0;32m\nNOTE: If your import is failing due to a missing package, you can\nmanually install dependencies using either !pip or !apt.\n\nTo view examples of installing some common dependencies, click the\n\"Open Examples\" button below.\n\u001b[0;31m---------------------------------------------------------------------------\u001b[0m\n"
          ],
          "errorDetails": {
            "actions": [
              {
                "action": "open_url",
                "actionText": "Open Examples",
                "url": "/notebooks/snippets/importing_libraries.ipynb"
              }
            ]
          }
        }
      ],
      "source": [
        "from snowflake.cortex import Complete, ExtractAnswer, Sentiment, Summarize, Translate\n",
        "\n",
        "text = \"\"\"\n",
        "    The Snowflake company was co-founded by Thierry Cruanes, Marcin Zukowski,\n",
        "    and Benoit Dageville in 2012 and is headquartered in Bozeman, Montana.\n",
        "\"\"\"\n",
        "\n",
        "print(Complete(\"llama2-70b-chat\", \"how do snowflakes get their unique patterns?\"))\n",
        "print(ExtractAnswer(text, \"When was snowflake founded?\"))\n",
        "print(Sentiment(\"I really enjoyed this restaurant. Fantastic service!\"))\n",
        "print(Summarize(text))\n",
        "print(Translate(text, \"en\", \"fr\"))"
      ]
    }
  ]
}
