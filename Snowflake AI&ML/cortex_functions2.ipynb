{
  "nbformat": 4,
  "nbformat_minor": 0,
  "metadata": {
    "colab": {
      "provenance": [],
      "authorship_tag": "ABX9TyOHBVnoJeYe5Kf6qEcH8/pM",
      "include_colab_link": true
    },
    "kernelspec": {
      "name": "python3",
      "display_name": "Python 3"
    },
    "language_info": {
      "name": "python"
    }
  },
  "cells": [
    {
      "cell_type": "markdown",
      "metadata": {
        "id": "view-in-github",
        "colab_type": "text"
      },
      "source": [
        "<a href=\"https://colab.research.google.com/github/mamud1977/bootup/blob/main/Snowflake%20AI%26ML/cortex_functions2.ipynb\" target=\"_parent\"><img src=\"https://colab.research.google.com/assets/colab-badge.svg\" alt=\"Open In Colab\"/></a>"
      ]
    },
    {
      "cell_type": "markdown",
      "source": [
        "Installtion"
      ],
      "metadata": {
        "id": "FW2SDs2HleRk"
      }
    },
    {
      "cell_type": "code",
      "source": [
        "!pip install --upgrade snowflake-snowpark-python"
      ],
      "metadata": {
        "id": "b82e-mkB_UNl",
        "outputId": "ad33ed14-3904-4936-fa9d-a8459d31d913",
        "colab": {
          "base_uri": "https://localhost:8080/",
          "height": 671
        }
      },
      "execution_count": 9,
      "outputs": [
        {
          "output_type": "stream",
          "name": "stdout",
          "text": [
            "Collecting snowflake-snowpark-python\n",
            "  Downloading snowflake_snowpark_python-1.21.1-py3-none-any.whl.metadata (86 kB)\n",
            "\u001b[?25l     \u001b[90m━━━━━━━━━━━━━━━━━━━━━━━━━━━━━━━━━━━━━━━━\u001b[0m \u001b[32m0.0/86.8 kB\u001b[0m \u001b[31m?\u001b[0m eta \u001b[36m-:--:--\u001b[0m\r\u001b[2K     \u001b[90m━━━━━━━━━━━━━━━━━━━━━━━━━━━━━━━━━━━━━━━━\u001b[0m \u001b[32m86.8/86.8 kB\u001b[0m \u001b[31m5.5 MB/s\u001b[0m eta \u001b[36m0:00:00\u001b[0m\n",
            "\u001b[?25hRequirement already satisfied: setuptools>=40.6.0 in /usr/local/lib/python3.10/dist-packages (from snowflake-snowpark-python) (71.0.4)\n",
            "Requirement already satisfied: wheel in /usr/local/lib/python3.10/dist-packages (from snowflake-snowpark-python) (0.44.0)\n",
            "Requirement already satisfied: snowflake-connector-python<4.0.0,>=3.10.0 in /usr/local/lib/python3.10/dist-packages (from snowflake-snowpark-python) (3.12.1)\n",
            "Requirement already satisfied: typing-extensions<5.0.0,>=4.1.0 in /usr/local/lib/python3.10/dist-packages (from snowflake-snowpark-python) (4.12.2)\n",
            "Requirement already satisfied: pyyaml in /usr/local/lib/python3.10/dist-packages (from snowflake-snowpark-python) (6.0.2)\n",
            "Requirement already satisfied: cloudpickle!=2.1.0,!=2.2.0,<=2.2.1,>=1.6.0 in /usr/local/lib/python3.10/dist-packages (from snowflake-snowpark-python) (2.2.1)\n",
            "Requirement already satisfied: asn1crypto<2.0.0,>0.24.0 in /usr/local/lib/python3.10/dist-packages (from snowflake-connector-python<4.0.0,>=3.10.0->snowflake-snowpark-python) (1.5.1)\n",
            "Requirement already satisfied: cffi<2.0.0,>=1.9 in /usr/local/lib/python3.10/dist-packages (from snowflake-connector-python<4.0.0,>=3.10.0->snowflake-snowpark-python) (1.17.0)\n",
            "Requirement already satisfied: cryptography>=3.1.0 in /usr/local/lib/python3.10/dist-packages (from snowflake-connector-python<4.0.0,>=3.10.0->snowflake-snowpark-python) (43.0.0)\n",
            "Requirement already satisfied: pyOpenSSL<25.0.0,>=16.2.0 in /usr/local/lib/python3.10/dist-packages (from snowflake-connector-python<4.0.0,>=3.10.0->snowflake-snowpark-python) (24.2.1)\n",
            "Requirement already satisfied: pyjwt<3.0.0 in /usr/local/lib/python3.10/dist-packages (from snowflake-connector-python<4.0.0,>=3.10.0->snowflake-snowpark-python) (2.9.0)\n",
            "Requirement already satisfied: pytz in /usr/local/lib/python3.10/dist-packages (from snowflake-connector-python<4.0.0,>=3.10.0->snowflake-snowpark-python) (2024.1)\n",
            "Requirement already satisfied: requests<3.0.0 in /usr/local/lib/python3.10/dist-packages (from snowflake-connector-python<4.0.0,>=3.10.0->snowflake-snowpark-python) (2.32.3)\n",
            "Requirement already satisfied: packaging in /usr/local/lib/python3.10/dist-packages (from snowflake-connector-python<4.0.0,>=3.10.0->snowflake-snowpark-python) (24.1)\n",
            "Requirement already satisfied: charset-normalizer<4,>=2 in /usr/local/lib/python3.10/dist-packages (from snowflake-connector-python<4.0.0,>=3.10.0->snowflake-snowpark-python) (3.3.2)\n",
            "Requirement already satisfied: idna<4,>=2.5 in /usr/local/lib/python3.10/dist-packages (from snowflake-connector-python<4.0.0,>=3.10.0->snowflake-snowpark-python) (3.8)\n",
            "Requirement already satisfied: certifi>=2017.4.17 in /usr/local/lib/python3.10/dist-packages (from snowflake-connector-python<4.0.0,>=3.10.0->snowflake-snowpark-python) (2024.8.30)\n",
            "Requirement already satisfied: filelock<4,>=3.5 in /usr/local/lib/python3.10/dist-packages (from snowflake-connector-python<4.0.0,>=3.10.0->snowflake-snowpark-python) (3.15.4)\n",
            "Requirement already satisfied: sortedcontainers>=2.4.0 in /usr/local/lib/python3.10/dist-packages (from snowflake-connector-python<4.0.0,>=3.10.0->snowflake-snowpark-python) (2.4.0)\n",
            "Requirement already satisfied: platformdirs<5.0.0,>=2.6.0 in /usr/local/lib/python3.10/dist-packages (from snowflake-connector-python<4.0.0,>=3.10.0->snowflake-snowpark-python) (4.2.2)\n",
            "Requirement already satisfied: tomlkit in /usr/local/lib/python3.10/dist-packages (from snowflake-connector-python<4.0.0,>=3.10.0->snowflake-snowpark-python) (0.13.2)\n",
            "Requirement already satisfied: pycparser in /usr/local/lib/python3.10/dist-packages (from cffi<2.0.0,>=1.9->snowflake-connector-python<4.0.0,>=3.10.0->snowflake-snowpark-python) (2.22)\n",
            "Requirement already satisfied: urllib3<3,>=1.21.1 in /usr/local/lib/python3.10/dist-packages (from requests<3.0.0->snowflake-connector-python<4.0.0,>=3.10.0->snowflake-snowpark-python) (2.0.7)\n",
            "Downloading snowflake_snowpark_python-1.21.1-py3-none-any.whl (1.3 MB)\n",
            "\u001b[2K   \u001b[90m━━━━━━━━━━━━━━━━━━━━━━━━━━━━━━━━━━━━━━━━\u001b[0m \u001b[32m1.3/1.3 MB\u001b[0m \u001b[31m44.4 MB/s\u001b[0m eta \u001b[36m0:00:00\u001b[0m\n",
            "\u001b[?25hInstalling collected packages: snowflake-snowpark-python\n",
            "Successfully installed snowflake-snowpark-python-1.21.1\n"
          ]
        },
        {
          "output_type": "display_data",
          "data": {
            "application/vnd.colab-display-data+json": {
              "pip_warning": {
                "packages": [
                  "snowflake"
                ]
              },
              "id": "96f6932b206c44a4815d7ec5e02ef602"
            }
          },
          "metadata": {}
        }
      ]
    },
    {
      "cell_type": "code",
      "source": [],
      "metadata": {
        "id": "b8uLfWNb_VTr"
      },
      "execution_count": null,
      "outputs": []
    },
    {
      "cell_type": "code",
      "source": [
        "# !pip install snowflake-connector-python\n"
      ],
      "metadata": {
        "id": "2bF0yD3jllFU"
      },
      "execution_count": 2,
      "outputs": []
    },
    {
      "cell_type": "code",
      "source": [
        "# !pip install snowflake-ml-python"
      ],
      "metadata": {
        "id": "SDN4uerG9rz-"
      },
      "execution_count": 3,
      "outputs": []
    },
    {
      "cell_type": "code",
      "source": [
        "# !pip install snowflake-snowpark-python"
      ],
      "metadata": {
        "id": "_Z4mfOuq_CHO"
      },
      "execution_count": 4,
      "outputs": []
    },
    {
      "cell_type": "code",
      "source": [
        "\n",
        "\n",
        "import snowflake.connector\n",
        "\n",
        "conn = snowflake.connector.connect(\n",
        "       user='Welcome123',\n",
        "       password='Welcome123$',\n",
        "       account='VVROJOJ-KCB19941',\n",
        "       warehouse='DASH_S',\n",
        "       database='DASH_DB',\n",
        "       schema='DASH_SCHEMA'\n",
        "   )"
      ],
      "metadata": {
        "id": "qJjozfY_l55q"
      },
      "execution_count": 5,
      "outputs": []
    },
    {
      "cell_type": "code",
      "source": [
        "cur = conn.cursor()\n",
        "cur.execute(\"select textid, Text from Test where textid in ('aeb0e9d730','c672c9da1d', '33987a8ee5', '6d846d7d50')\")\n",
        "results = cur.fetchall()\n",
        "cur.close()\n",
        "conn.close()\n",
        "\n",
        "for row in results:\n",
        "  print(row)"
      ],
      "metadata": {
        "colab": {
          "base_uri": "https://localhost:8080/"
        },
        "id": "F_hhNCTqp6X1",
        "outputId": "2463f65e-9673-4f9d-dbc5-7a29efc68bfc"
      },
      "execution_count": 6,
      "outputs": [
        {
          "output_type": "stream",
          "name": "stdout",
          "text": [
            "('33987a8ee5', 'iTunes/Apple Music on Windows 10 seems to be buggy, i.e. buttons not working, application not closing, playlists instructions appearing after the fact, etc. The call agent fond the situation abnormal but was not knowledgeable.')\n",
            "('6d846d7d50', 'En el momento de recoger el equipo; realmente tuve que esperar mucho, casi una hora, estaba cansada, porque todo el tiempo está uno de pie. Gracias')\n",
            "('aeb0e9d730', 'My experience went very smoothly, and the person I spoke to was incredibly patient, knowledgeable, and clearly dedicated to finding a solution for my problem. However, the last resort he suggested required that I reinstall the OS on my device. Since the process could take up to thirty minutes, he suggested that we set up a call back, just in case my problem was not resolved after the reinstallation is finished. The callback was not really needed because my problem was resolved. When I received the call, I was ready to answer and thank the person I had spoken to earlier. I was surprised to find that I was speaking to an automated machine; I was being told that I had missed my callback and would be called again later. The same thing happened with the second call as well. This did not really affect my experience because my issue was resolved; however, if it were not, I would have been extremely frustrated for not being able to speak to a customer service representative.')\n",
            "('c672c9da1d', 'The level 2 manager I dealt with was the \"WORST\" I have ve ever dealt with.. He was more in tune to letting me know his title about 6 times and after spending an hour on phone with him he told me I had to have a credit card for the new phone being sent. I have a debit card but he told me required to have a credit card.. . Finally after being given bad information to start with from T mobile it was finally rectified after more than 3.5 hours on calls and over 5 hours of traveling and time spent waiting at the Apple store which was a total waste of time.  After hour on calls i was told to go to apple store.  Apple store told me they would not look at the phone because it was a refurbed phone from 3 party .    Huge waste of my only day off Sunday.   Spent ENTIRE day dealing with something that should not have taken 30 mins most..')\n"
          ]
        }
      ]
    },
    {
      "cell_type": "code",
      "source": [
        "from snowflake.snowpark import Session\n",
        "\n",
        "from snowflake.cortex import Complete, ExtractAnswer, Sentiment, Summarize, Translate\n",
        "\n",
        "print(Complete(\"llama2-70b-chat\", \"how do snowflakes get their unique patterns?\"))\n",
        "\n",
        "\n"
      ],
      "metadata": {
        "colab": {
          "base_uri": "https://localhost:8080/",
          "height": 393
        },
        "id": "KcgguyFK7YYH",
        "outputId": "5cdc7774-e771-4186-9f01-c5e32657ad6e"
      },
      "execution_count": 1,
      "outputs": [
        {
          "output_type": "error",
          "ename": "ModuleNotFoundError",
          "evalue": "No module named 'snowflake.cortex'",
          "traceback": [
            "\u001b[0;31m---------------------------------------------------------------------------\u001b[0m",
            "\u001b[0;31mModuleNotFoundError\u001b[0m                       Traceback (most recent call last)",
            "\u001b[0;32m<ipython-input-1-35d160c8d066>\u001b[0m in \u001b[0;36m<cell line: 3>\u001b[0;34m()\u001b[0m\n\u001b[1;32m      1\u001b[0m \u001b[0;32mfrom\u001b[0m \u001b[0msnowflake\u001b[0m\u001b[0;34m.\u001b[0m\u001b[0msnowpark\u001b[0m \u001b[0;32mimport\u001b[0m \u001b[0mSession\u001b[0m\u001b[0;34m\u001b[0m\u001b[0;34m\u001b[0m\u001b[0m\n\u001b[1;32m      2\u001b[0m \u001b[0;34m\u001b[0m\u001b[0m\n\u001b[0;32m----> 3\u001b[0;31m \u001b[0;32mfrom\u001b[0m \u001b[0msnowflake\u001b[0m\u001b[0;34m.\u001b[0m\u001b[0mcortex\u001b[0m \u001b[0;32mimport\u001b[0m \u001b[0mComplete\u001b[0m\u001b[0;34m,\u001b[0m \u001b[0mExtractAnswer\u001b[0m\u001b[0;34m,\u001b[0m \u001b[0mSentiment\u001b[0m\u001b[0;34m,\u001b[0m \u001b[0mSummarize\u001b[0m\u001b[0;34m,\u001b[0m \u001b[0mTranslate\u001b[0m\u001b[0;34m\u001b[0m\u001b[0;34m\u001b[0m\u001b[0m\n\u001b[0m\u001b[1;32m      4\u001b[0m \u001b[0;34m\u001b[0m\u001b[0m\n\u001b[1;32m      5\u001b[0m \u001b[0mprint\u001b[0m\u001b[0;34m(\u001b[0m\u001b[0mComplete\u001b[0m\u001b[0;34m(\u001b[0m\u001b[0;34m\"llama2-70b-chat\"\u001b[0m\u001b[0;34m,\u001b[0m \u001b[0;34m\"how do snowflakes get their unique patterns?\"\u001b[0m\u001b[0;34m)\u001b[0m\u001b[0;34m)\u001b[0m\u001b[0;34m\u001b[0m\u001b[0;34m\u001b[0m\u001b[0m\n",
            "\u001b[0;31mModuleNotFoundError\u001b[0m: No module named 'snowflake.cortex'",
            "",
            "\u001b[0;31m---------------------------------------------------------------------------\u001b[0;32m\nNOTE: If your import is failing due to a missing package, you can\nmanually install dependencies using either !pip or !apt.\n\nTo view examples of installing some common dependencies, click the\n\"Open Examples\" button below.\n\u001b[0;31m---------------------------------------------------------------------------\u001b[0m\n"
          ],
          "errorDetails": {
            "actions": [
              {
                "action": "open_url",
                "actionText": "Open Examples",
                "url": "/notebooks/snippets/importing_libraries.ipynb"
              }
            ]
          }
        }
      ]
    },
    {
      "cell_type": "code",
      "source": [
        "sess_connector = {\n",
        "       \"user\":'Welcome123',\n",
        "       \"password\":'Welcome123$',\n",
        "       \"account\":'VVROJOJ-KCB19941',\n",
        "       \"warehouse\":'DASH_S',\n",
        "       \"database\":'DASH_DB',\n",
        "       \"schema\":'DASH_SCHEMA'\n",
        "       }\n",
        "\n",
        "sess = Session.builder.configs(sess_connector).create()"
      ],
      "metadata": {
        "id": "7XE2RT5BGs-N"
      },
      "execution_count": 4,
      "outputs": []
    },
    {
      "cell_type": "code",
      "source": [
        "v_text = \"\"\"\n",
        "    The Snowflake company was co-founded by Thierry Cruanes, Marcin Zukowski,\n",
        "    and Benoit Dageville in 2012 and is headquartered in Bozeman, Montana.\n",
        "\"\"\"\n",
        "\n",
        "Summarize(v_text, session=sess)"
      ],
      "metadata": {
        "id": "927Wjuc8vwjq",
        "outputId": "218039d8-b607-49ed-af8c-8cfd64141a71",
        "colab": {
          "base_uri": "https://localhost:8080/",
          "height": 180
        }
      },
      "execution_count": 5,
      "outputs": [
        {
          "output_type": "error",
          "ename": "NameError",
          "evalue": "name 'Summarize' is not defined",
          "traceback": [
            "\u001b[0;31m---------------------------------------------------------------------------\u001b[0m",
            "\u001b[0;31mNameError\u001b[0m                                 Traceback (most recent call last)",
            "\u001b[0;32m<ipython-input-5-d696b865d72c>\u001b[0m in \u001b[0;36m<cell line: 6>\u001b[0;34m()\u001b[0m\n\u001b[1;32m      4\u001b[0m \"\"\"\n\u001b[1;32m      5\u001b[0m \u001b[0;34m\u001b[0m\u001b[0m\n\u001b[0;32m----> 6\u001b[0;31m \u001b[0mSummarize\u001b[0m\u001b[0;34m(\u001b[0m\u001b[0mv_text\u001b[0m\u001b[0;34m,\u001b[0m \u001b[0msession\u001b[0m\u001b[0;34m=\u001b[0m\u001b[0msess\u001b[0m\u001b[0;34m)\u001b[0m\u001b[0;34m\u001b[0m\u001b[0;34m\u001b[0m\u001b[0m\n\u001b[0m",
            "\u001b[0;31mNameError\u001b[0m: name 'Summarize' is not defined"
          ]
        }
      ]
    },
    {
      "cell_type": "code",
      "source": [
        "\n",
        "#print(ExtractAnswer(text, \"When was snowflake founded?\"))\n",
        "#print(Sentiment(\"I really enjoyed this restaurant. Fantastic service!\"))\n",
        "#print(Summarize(text))\n",
        "#print(Translate(text, \"en\", \"fr\"))\n",
        "\n",
        "f = open(\"/content/sample_data/espncricinfo.txt\", \"r\")\n",
        "print(f.read())\n",
        "\n",
        "s = snowflake.cortex.summarize(f.read())\n",
        "\n",
        "print(s)\n",
        "f.close()"
      ],
      "metadata": {
        "id": "1Vr-r3LZ-1b8",
        "outputId": "9b93d6f7-66f3-45f3-8b9b-73a189d59667",
        "colab": {
          "base_uri": "https://localhost:8080/",
          "height": 216
        }
      },
      "execution_count": 2,
      "outputs": [
        {
          "output_type": "error",
          "ename": "FileNotFoundError",
          "evalue": "[Errno 2] No such file or directory: '/content/sample_data/espncricinfo.txt'",
          "traceback": [
            "\u001b[0;31m---------------------------------------------------------------------------\u001b[0m",
            "\u001b[0;31mFileNotFoundError\u001b[0m                         Traceback (most recent call last)",
            "\u001b[0;32m<ipython-input-2-6aea3d0fb163>\u001b[0m in \u001b[0;36m<cell line: 6>\u001b[0;34m()\u001b[0m\n\u001b[1;32m      4\u001b[0m \u001b[0;31m#print(Translate(text, \"en\", \"fr\"))\u001b[0m\u001b[0;34m\u001b[0m\u001b[0;34m\u001b[0m\u001b[0m\n\u001b[1;32m      5\u001b[0m \u001b[0;34m\u001b[0m\u001b[0m\n\u001b[0;32m----> 6\u001b[0;31m \u001b[0mf\u001b[0m \u001b[0;34m=\u001b[0m \u001b[0mopen\u001b[0m\u001b[0;34m(\u001b[0m\u001b[0;34m\"/content/sample_data/espncricinfo.txt\"\u001b[0m\u001b[0;34m,\u001b[0m \u001b[0;34m\"r\"\u001b[0m\u001b[0;34m)\u001b[0m\u001b[0;34m\u001b[0m\u001b[0;34m\u001b[0m\u001b[0m\n\u001b[0m\u001b[1;32m      7\u001b[0m \u001b[0mprint\u001b[0m\u001b[0;34m(\u001b[0m\u001b[0mf\u001b[0m\u001b[0;34m.\u001b[0m\u001b[0mread\u001b[0m\u001b[0;34m(\u001b[0m\u001b[0;34m)\u001b[0m\u001b[0;34m)\u001b[0m\u001b[0;34m\u001b[0m\u001b[0;34m\u001b[0m\u001b[0m\n\u001b[1;32m      8\u001b[0m \u001b[0;34m\u001b[0m\u001b[0m\n",
            "\u001b[0;31mFileNotFoundError\u001b[0m: [Errno 2] No such file or directory: '/content/sample_data/espncricinfo.txt'"
          ]
        }
      ]
    }
  ]
}