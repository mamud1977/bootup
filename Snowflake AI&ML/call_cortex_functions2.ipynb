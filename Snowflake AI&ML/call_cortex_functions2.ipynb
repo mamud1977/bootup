{
  "nbformat": 4,
  "nbformat_minor": 0,
  "metadata": {
    "colab": {
      "provenance": [],
      "authorship_tag": "ABX9TyNu3c+OB+Wx0BUs4XigwlOY",
      "include_colab_link": true
    },
    "kernelspec": {
      "name": "python3",
      "display_name": "Python 3"
    },
    "language_info": {
      "name": "python"
    }
  },
  "cells": [
    {
      "cell_type": "markdown",
      "metadata": {
        "id": "view-in-github",
        "colab_type": "text"
      },
      "source": [
        "<a href=\"https://colab.research.google.com/github/mamud1977/bootup/blob/main/call_cortex_functions2.ipynb\" target=\"_parent\"><img src=\"https://colab.research.google.com/assets/colab-badge.svg\" alt=\"Open In Colab\"/></a>"
      ]
    },
    {
      "cell_type": "markdown",
      "source": [
        "Installtion"
      ],
      "metadata": {
        "id": "FW2SDs2HleRk"
      }
    },
    {
      "cell_type": "code",
      "source": [
        "!pip install --upgrade snowflake-snowpark-python"
      ],
      "metadata": {
        "id": "b82e-mkB_UNl",
        "outputId": "3ed52068-2de0-40ca-9791-32c6996eaae8",
        "colab": {
          "base_uri": "https://localhost:8080/"
        }
      },
      "execution_count": 1,
      "outputs": [
        {
          "output_type": "stream",
          "name": "stdout",
          "text": [
            "Requirement already satisfied: snowflake-snowpark-python in /usr/local/lib/python3.10/dist-packages (1.21.1)\n",
            "Requirement already satisfied: setuptools>=40.6.0 in /usr/local/lib/python3.10/dist-packages (from snowflake-snowpark-python) (71.0.4)\n",
            "Requirement already satisfied: wheel in /usr/local/lib/python3.10/dist-packages (from snowflake-snowpark-python) (0.44.0)\n",
            "Requirement already satisfied: snowflake-connector-python<4.0.0,>=3.10.0 in /usr/local/lib/python3.10/dist-packages (from snowflake-snowpark-python) (3.12.1)\n",
            "Requirement already satisfied: typing-extensions<5.0.0,>=4.1.0 in /usr/local/lib/python3.10/dist-packages (from snowflake-snowpark-python) (4.12.2)\n",
            "Requirement already satisfied: pyyaml in /usr/local/lib/python3.10/dist-packages (from snowflake-snowpark-python) (6.0.2)\n",
            "Requirement already satisfied: cloudpickle!=2.1.0,!=2.2.0,<=2.2.1,>=1.6.0 in /usr/local/lib/python3.10/dist-packages (from snowflake-snowpark-python) (2.2.1)\n",
            "Requirement already satisfied: asn1crypto<2.0.0,>0.24.0 in /usr/local/lib/python3.10/dist-packages (from snowflake-connector-python<4.0.0,>=3.10.0->snowflake-snowpark-python) (1.5.1)\n",
            "Requirement already satisfied: cffi<2.0.0,>=1.9 in /usr/local/lib/python3.10/dist-packages (from snowflake-connector-python<4.0.0,>=3.10.0->snowflake-snowpark-python) (1.17.0)\n",
            "Requirement already satisfied: cryptography>=3.1.0 in /usr/local/lib/python3.10/dist-packages (from snowflake-connector-python<4.0.0,>=3.10.0->snowflake-snowpark-python) (43.0.0)\n",
            "Requirement already satisfied: pyOpenSSL<25.0.0,>=16.2.0 in /usr/local/lib/python3.10/dist-packages (from snowflake-connector-python<4.0.0,>=3.10.0->snowflake-snowpark-python) (24.2.1)\n",
            "Requirement already satisfied: pyjwt<3.0.0 in /usr/local/lib/python3.10/dist-packages (from snowflake-connector-python<4.0.0,>=3.10.0->snowflake-snowpark-python) (2.9.0)\n",
            "Requirement already satisfied: pytz in /usr/local/lib/python3.10/dist-packages (from snowflake-connector-python<4.0.0,>=3.10.0->snowflake-snowpark-python) (2024.1)\n",
            "Requirement already satisfied: requests<3.0.0 in /usr/local/lib/python3.10/dist-packages (from snowflake-connector-python<4.0.0,>=3.10.0->snowflake-snowpark-python) (2.32.3)\n",
            "Requirement already satisfied: packaging in /usr/local/lib/python3.10/dist-packages (from snowflake-connector-python<4.0.0,>=3.10.0->snowflake-snowpark-python) (23.2)\n",
            "Requirement already satisfied: charset-normalizer<4,>=2 in /usr/local/lib/python3.10/dist-packages (from snowflake-connector-python<4.0.0,>=3.10.0->snowflake-snowpark-python) (3.3.2)\n",
            "Requirement already satisfied: idna<4,>=2.5 in /usr/local/lib/python3.10/dist-packages (from snowflake-connector-python<4.0.0,>=3.10.0->snowflake-snowpark-python) (3.8)\n",
            "Requirement already satisfied: certifi>=2017.4.17 in /usr/local/lib/python3.10/dist-packages (from snowflake-connector-python<4.0.0,>=3.10.0->snowflake-snowpark-python) (2024.8.30)\n",
            "Requirement already satisfied: filelock<4,>=3.5 in /usr/local/lib/python3.10/dist-packages (from snowflake-connector-python<4.0.0,>=3.10.0->snowflake-snowpark-python) (3.15.4)\n",
            "Requirement already satisfied: sortedcontainers>=2.4.0 in /usr/local/lib/python3.10/dist-packages (from snowflake-connector-python<4.0.0,>=3.10.0->snowflake-snowpark-python) (2.4.0)\n",
            "Requirement already satisfied: platformdirs<5.0.0,>=2.6.0 in /usr/local/lib/python3.10/dist-packages (from snowflake-connector-python<4.0.0,>=3.10.0->snowflake-snowpark-python) (4.2.2)\n",
            "Requirement already satisfied: tomlkit in /usr/local/lib/python3.10/dist-packages (from snowflake-connector-python<4.0.0,>=3.10.0->snowflake-snowpark-python) (0.13.2)\n",
            "Requirement already satisfied: pycparser in /usr/local/lib/python3.10/dist-packages (from cffi<2.0.0,>=1.9->snowflake-connector-python<4.0.0,>=3.10.0->snowflake-snowpark-python) (2.22)\n",
            "Requirement already satisfied: urllib3<3,>=1.21.1 in /usr/local/lib/python3.10/dist-packages (from requests<3.0.0->snowflake-connector-python<4.0.0,>=3.10.0->snowflake-snowpark-python) (2.0.7)\n"
          ]
        }
      ]
    },
    {
      "cell_type": "code",
      "source": [],
      "metadata": {
        "id": "b8uLfWNb_VTr"
      },
      "execution_count": null,
      "outputs": []
    },
    {
      "cell_type": "code",
      "source": [
        "!pip install snowflake-connector-python\n"
      ],
      "metadata": {
        "colab": {
          "base_uri": "https://localhost:8080/"
        },
        "id": "2bF0yD3jllFU",
        "outputId": "1268ed0e-6b7f-486f-8d98-efe4d4db505c"
      },
      "execution_count": 3,
      "outputs": [
        {
          "output_type": "stream",
          "name": "stdout",
          "text": [
            "Requirement already satisfied: snowflake-connector-python in /usr/local/lib/python3.10/dist-packages (3.12.1)\n",
            "Requirement already satisfied: asn1crypto<2.0.0,>0.24.0 in /usr/local/lib/python3.10/dist-packages (from snowflake-connector-python) (1.5.1)\n",
            "Requirement already satisfied: cffi<2.0.0,>=1.9 in /usr/local/lib/python3.10/dist-packages (from snowflake-connector-python) (1.17.0)\n",
            "Requirement already satisfied: cryptography>=3.1.0 in /usr/local/lib/python3.10/dist-packages (from snowflake-connector-python) (43.0.0)\n",
            "Requirement already satisfied: pyOpenSSL<25.0.0,>=16.2.0 in /usr/local/lib/python3.10/dist-packages (from snowflake-connector-python) (24.2.1)\n",
            "Requirement already satisfied: pyjwt<3.0.0 in /usr/local/lib/python3.10/dist-packages (from snowflake-connector-python) (2.9.0)\n",
            "Requirement already satisfied: pytz in /usr/local/lib/python3.10/dist-packages (from snowflake-connector-python) (2024.1)\n",
            "Requirement already satisfied: requests<3.0.0 in /usr/local/lib/python3.10/dist-packages (from snowflake-connector-python) (2.32.3)\n",
            "Requirement already satisfied: packaging in /usr/local/lib/python3.10/dist-packages (from snowflake-connector-python) (24.1)\n",
            "Requirement already satisfied: charset-normalizer<4,>=2 in /usr/local/lib/python3.10/dist-packages (from snowflake-connector-python) (3.3.2)\n",
            "Requirement already satisfied: idna<4,>=2.5 in /usr/local/lib/python3.10/dist-packages (from snowflake-connector-python) (3.8)\n",
            "Requirement already satisfied: certifi>=2017.4.17 in /usr/local/lib/python3.10/dist-packages (from snowflake-connector-python) (2024.8.30)\n",
            "Requirement already satisfied: typing-extensions<5,>=4.3 in /usr/local/lib/python3.10/dist-packages (from snowflake-connector-python) (4.12.2)\n",
            "Requirement already satisfied: filelock<4,>=3.5 in /usr/local/lib/python3.10/dist-packages (from snowflake-connector-python) (3.15.4)\n",
            "Requirement already satisfied: sortedcontainers>=2.4.0 in /usr/local/lib/python3.10/dist-packages (from snowflake-connector-python) (2.4.0)\n",
            "Requirement already satisfied: platformdirs<5.0.0,>=2.6.0 in /usr/local/lib/python3.10/dist-packages (from snowflake-connector-python) (4.2.2)\n",
            "Requirement already satisfied: tomlkit in /usr/local/lib/python3.10/dist-packages (from snowflake-connector-python) (0.13.2)\n",
            "Requirement already satisfied: pycparser in /usr/local/lib/python3.10/dist-packages (from cffi<2.0.0,>=1.9->snowflake-connector-python) (2.22)\n",
            "Requirement already satisfied: urllib3<3,>=1.21.1 in /usr/local/lib/python3.10/dist-packages (from requests<3.0.0->snowflake-connector-python) (2.0.7)\n"
          ]
        }
      ]
    },
    {
      "cell_type": "code",
      "source": [
        "!pip install snowflake-ml-python"
      ],
      "metadata": {
        "colab": {
          "base_uri": "https://localhost:8080/",
          "height": 1000
        },
        "id": "SDN4uerG9rz-",
        "outputId": "dd4cd867-39b4-4d7b-9a13-264d1e9d2b80"
      },
      "execution_count": 4,
      "outputs": [
        {
          "output_type": "stream",
          "name": "stdout",
          "text": [
            "Collecting snowflake-ml-python\n",
            "  Downloading snowflake_ml_python-1.6.1-py3-none-any.whl.metadata (59 kB)\n",
            "\u001b[?25l     \u001b[90m━━━━━━━━━━━━━━━━━━━━━━━━━━━━━━━━━━━━━━━━\u001b[0m \u001b[32m0.0/59.5 kB\u001b[0m \u001b[31m?\u001b[0m eta \u001b[36m-:--:--\u001b[0m\r\u001b[2K     \u001b[90m━━━━━━━━━━━━━━━━━━━━━━━━━━━━━━━━━━━━━━━━\u001b[0m \u001b[32m59.5/59.5 kB\u001b[0m \u001b[31m1.9 MB/s\u001b[0m eta \u001b[36m0:00:00\u001b[0m\n",
            "\u001b[?25hRequirement already satisfied: absl-py<2,>=0.15 in /usr/local/lib/python3.10/dist-packages (from snowflake-ml-python) (1.4.0)\n",
            "Requirement already satisfied: anyio<4,>=3.5.0 in /usr/local/lib/python3.10/dist-packages (from snowflake-ml-python) (3.7.1)\n",
            "Requirement already satisfied: cachetools<6,>=3.1.1 in /usr/local/lib/python3.10/dist-packages (from snowflake-ml-python) (5.5.0)\n",
            "Requirement already satisfied: cloudpickle>=2.0.0 in /usr/local/lib/python3.10/dist-packages (from snowflake-ml-python) (2.2.1)\n",
            "Collecting fsspec<2024,>=2022.11 (from fsspec[http]<2024,>=2022.11->snowflake-ml-python)\n",
            "  Downloading fsspec-2023.12.2-py3-none-any.whl.metadata (6.8 kB)\n",
            "Requirement already satisfied: importlib-resources<7,>=6.1.1 in /usr/local/lib/python3.10/dist-packages (from snowflake-ml-python) (6.4.4)\n",
            "Requirement already satisfied: numpy<2,>=1.23 in /usr/local/lib/python3.10/dist-packages (from snowflake-ml-python) (1.26.4)\n",
            "Collecting packaging<24,>=20.9 (from snowflake-ml-python)\n",
            "  Downloading packaging-23.2-py3-none-any.whl.metadata (3.2 kB)\n",
            "Requirement already satisfied: pandas<3,>=1.0.0 in /usr/local/lib/python3.10/dist-packages (from snowflake-ml-python) (2.1.4)\n",
            "Requirement already satisfied: pyarrow in /usr/local/lib/python3.10/dist-packages (from snowflake-ml-python) (14.0.2)\n",
            "Collecting pytimeparse<2,>=1.1.8 (from snowflake-ml-python)\n",
            "  Downloading pytimeparse-1.1.8-py2.py3-none-any.whl.metadata (3.4 kB)\n",
            "Requirement already satisfied: pyyaml<7,>=6.0 in /usr/local/lib/python3.10/dist-packages (from snowflake-ml-python) (6.0.2)\n",
            "Collecting retrying<2,>=1.3.3 (from snowflake-ml-python)\n",
            "  Downloading retrying-1.3.4-py3-none-any.whl.metadata (6.9 kB)\n",
            "Collecting s3fs<2024,>=2022.11 (from snowflake-ml-python)\n",
            "  Downloading s3fs-2023.12.2-py3-none-any.whl.metadata (1.6 kB)\n",
            "Requirement already satisfied: scikit-learn<1.4,>=1.2.1 in /usr/local/lib/python3.10/dist-packages (from snowflake-ml-python) (1.3.2)\n",
            "Requirement already satisfied: scipy<2,>=1.9 in /usr/local/lib/python3.10/dist-packages (from snowflake-ml-python) (1.13.1)\n",
            "Requirement already satisfied: snowflake-connector-python<4,>=3.5.0 in /usr/local/lib/python3.10/dist-packages (from snowflake-connector-python[pandas]<4,>=3.5.0->snowflake-ml-python) (3.12.1)\n",
            "Requirement already satisfied: snowflake-snowpark-python<2,>=1.17.0 in /usr/local/lib/python3.10/dist-packages (from snowflake-ml-python) (1.21.1)\n",
            "Requirement already satisfied: sqlparse<1,>=0.4 in /usr/local/lib/python3.10/dist-packages (from snowflake-ml-python) (0.5.1)\n",
            "Requirement already satisfied: typing-extensions<5,>=4.1.0 in /usr/local/lib/python3.10/dist-packages (from snowflake-ml-python) (4.12.2)\n",
            "Collecting xgboost<2,>=1.7.3 (from snowflake-ml-python)\n",
            "  Downloading xgboost-1.7.6-py3-none-manylinux2014_x86_64.whl.metadata (1.9 kB)\n",
            "Requirement already satisfied: idna>=2.8 in /usr/local/lib/python3.10/dist-packages (from anyio<4,>=3.5.0->snowflake-ml-python) (3.8)\n",
            "Requirement already satisfied: sniffio>=1.1 in /usr/local/lib/python3.10/dist-packages (from anyio<4,>=3.5.0->snowflake-ml-python) (1.3.1)\n",
            "Requirement already satisfied: exceptiongroup in /usr/local/lib/python3.10/dist-packages (from anyio<4,>=3.5.0->snowflake-ml-python) (1.2.2)\n",
            "Requirement already satisfied: requests in /usr/local/lib/python3.10/dist-packages (from fsspec[http]<2024,>=2022.11->snowflake-ml-python) (2.32.3)\n",
            "Requirement already satisfied: aiohttp!=4.0.0a0,!=4.0.0a1 in /usr/local/lib/python3.10/dist-packages (from fsspec[http]<2024,>=2022.11->snowflake-ml-python) (3.10.5)\n",
            "Requirement already satisfied: python-dateutil>=2.8.2 in /usr/local/lib/python3.10/dist-packages (from pandas<3,>=1.0.0->snowflake-ml-python) (2.8.2)\n",
            "Requirement already satisfied: pytz>=2020.1 in /usr/local/lib/python3.10/dist-packages (from pandas<3,>=1.0.0->snowflake-ml-python) (2024.1)\n",
            "Requirement already satisfied: tzdata>=2022.1 in /usr/local/lib/python3.10/dist-packages (from pandas<3,>=1.0.0->snowflake-ml-python) (2024.1)\n",
            "Requirement already satisfied: six>=1.7.0 in /usr/local/lib/python3.10/dist-packages (from retrying<2,>=1.3.3->snowflake-ml-python) (1.16.0)\n",
            "Collecting aiobotocore<3.0.0,>=2.5.4 (from s3fs<2024,>=2022.11->snowflake-ml-python)\n",
            "  Downloading aiobotocore-2.14.0-py3-none-any.whl.metadata (23 kB)\n",
            "Requirement already satisfied: joblib>=1.1.1 in /usr/local/lib/python3.10/dist-packages (from scikit-learn<1.4,>=1.2.1->snowflake-ml-python) (1.4.2)\n",
            "Requirement already satisfied: threadpoolctl>=2.0.0 in /usr/local/lib/python3.10/dist-packages (from scikit-learn<1.4,>=1.2.1->snowflake-ml-python) (3.5.0)\n",
            "Requirement already satisfied: asn1crypto<2.0.0,>0.24.0 in /usr/local/lib/python3.10/dist-packages (from snowflake-connector-python<4,>=3.5.0->snowflake-connector-python[pandas]<4,>=3.5.0->snowflake-ml-python) (1.5.1)\n",
            "Requirement already satisfied: cffi<2.0.0,>=1.9 in /usr/local/lib/python3.10/dist-packages (from snowflake-connector-python<4,>=3.5.0->snowflake-connector-python[pandas]<4,>=3.5.0->snowflake-ml-python) (1.17.0)\n",
            "Requirement already satisfied: cryptography>=3.1.0 in /usr/local/lib/python3.10/dist-packages (from snowflake-connector-python<4,>=3.5.0->snowflake-connector-python[pandas]<4,>=3.5.0->snowflake-ml-python) (43.0.0)\n",
            "Requirement already satisfied: pyOpenSSL<25.0.0,>=16.2.0 in /usr/local/lib/python3.10/dist-packages (from snowflake-connector-python<4,>=3.5.0->snowflake-connector-python[pandas]<4,>=3.5.0->snowflake-ml-python) (24.2.1)\n",
            "Requirement already satisfied: pyjwt<3.0.0 in /usr/local/lib/python3.10/dist-packages (from snowflake-connector-python<4,>=3.5.0->snowflake-connector-python[pandas]<4,>=3.5.0->snowflake-ml-python) (2.9.0)\n",
            "Requirement already satisfied: charset-normalizer<4,>=2 in /usr/local/lib/python3.10/dist-packages (from snowflake-connector-python<4,>=3.5.0->snowflake-connector-python[pandas]<4,>=3.5.0->snowflake-ml-python) (3.3.2)\n",
            "Requirement already satisfied: certifi>=2017.4.17 in /usr/local/lib/python3.10/dist-packages (from snowflake-connector-python<4,>=3.5.0->snowflake-connector-python[pandas]<4,>=3.5.0->snowflake-ml-python) (2024.8.30)\n",
            "Requirement already satisfied: filelock<4,>=3.5 in /usr/local/lib/python3.10/dist-packages (from snowflake-connector-python<4,>=3.5.0->snowflake-connector-python[pandas]<4,>=3.5.0->snowflake-ml-python) (3.15.4)\n",
            "Requirement already satisfied: sortedcontainers>=2.4.0 in /usr/local/lib/python3.10/dist-packages (from snowflake-connector-python<4,>=3.5.0->snowflake-connector-python[pandas]<4,>=3.5.0->snowflake-ml-python) (2.4.0)\n",
            "Requirement already satisfied: platformdirs<5.0.0,>=2.6.0 in /usr/local/lib/python3.10/dist-packages (from snowflake-connector-python<4,>=3.5.0->snowflake-connector-python[pandas]<4,>=3.5.0->snowflake-ml-python) (4.2.2)\n",
            "Requirement already satisfied: tomlkit in /usr/local/lib/python3.10/dist-packages (from snowflake-connector-python<4,>=3.5.0->snowflake-connector-python[pandas]<4,>=3.5.0->snowflake-ml-python) (0.13.2)\n",
            "Requirement already satisfied: setuptools>=40.6.0 in /usr/local/lib/python3.10/dist-packages (from snowflake-snowpark-python<2,>=1.17.0->snowflake-ml-python) (71.0.4)\n",
            "Requirement already satisfied: wheel in /usr/local/lib/python3.10/dist-packages (from snowflake-snowpark-python<2,>=1.17.0->snowflake-ml-python) (0.44.0)\n",
            "Collecting botocore<1.35.8,>=1.35.0 (from aiobotocore<3.0.0,>=2.5.4->s3fs<2024,>=2022.11->snowflake-ml-python)\n",
            "  Downloading botocore-1.35.7-py3-none-any.whl.metadata (5.7 kB)\n",
            "Requirement already satisfied: wrapt<2.0.0,>=1.10.10 in /usr/local/lib/python3.10/dist-packages (from aiobotocore<3.0.0,>=2.5.4->s3fs<2024,>=2022.11->snowflake-ml-python) (1.16.0)\n",
            "Collecting aioitertools<1.0.0,>=0.5.1 (from aiobotocore<3.0.0,>=2.5.4->s3fs<2024,>=2022.11->snowflake-ml-python)\n",
            "  Downloading aioitertools-0.12.0-py3-none-any.whl.metadata (3.8 kB)\n",
            "Requirement already satisfied: aiohappyeyeballs>=2.3.0 in /usr/local/lib/python3.10/dist-packages (from aiohttp!=4.0.0a0,!=4.0.0a1->fsspec[http]<2024,>=2022.11->snowflake-ml-python) (2.4.0)\n",
            "Requirement already satisfied: aiosignal>=1.1.2 in /usr/local/lib/python3.10/dist-packages (from aiohttp!=4.0.0a0,!=4.0.0a1->fsspec[http]<2024,>=2022.11->snowflake-ml-python) (1.3.1)\n",
            "Requirement already satisfied: attrs>=17.3.0 in /usr/local/lib/python3.10/dist-packages (from aiohttp!=4.0.0a0,!=4.0.0a1->fsspec[http]<2024,>=2022.11->snowflake-ml-python) (24.2.0)\n",
            "Requirement already satisfied: frozenlist>=1.1.1 in /usr/local/lib/python3.10/dist-packages (from aiohttp!=4.0.0a0,!=4.0.0a1->fsspec[http]<2024,>=2022.11->snowflake-ml-python) (1.4.1)\n",
            "Requirement already satisfied: multidict<7.0,>=4.5 in /usr/local/lib/python3.10/dist-packages (from aiohttp!=4.0.0a0,!=4.0.0a1->fsspec[http]<2024,>=2022.11->snowflake-ml-python) (6.0.5)\n",
            "Requirement already satisfied: yarl<2.0,>=1.0 in /usr/local/lib/python3.10/dist-packages (from aiohttp!=4.0.0a0,!=4.0.0a1->fsspec[http]<2024,>=2022.11->snowflake-ml-python) (1.9.4)\n",
            "Requirement already satisfied: async-timeout<5.0,>=4.0 in /usr/local/lib/python3.10/dist-packages (from aiohttp!=4.0.0a0,!=4.0.0a1->fsspec[http]<2024,>=2022.11->snowflake-ml-python) (4.0.3)\n",
            "Requirement already satisfied: pycparser in /usr/local/lib/python3.10/dist-packages (from cffi<2.0.0,>=1.9->snowflake-connector-python<4,>=3.5.0->snowflake-connector-python[pandas]<4,>=3.5.0->snowflake-ml-python) (2.22)\n",
            "Requirement already satisfied: urllib3<3,>=1.21.1 in /usr/local/lib/python3.10/dist-packages (from requests->fsspec[http]<2024,>=2022.11->snowflake-ml-python) (2.0.7)\n",
            "Collecting jmespath<2.0.0,>=0.7.1 (from botocore<1.35.8,>=1.35.0->aiobotocore<3.0.0,>=2.5.4->s3fs<2024,>=2022.11->snowflake-ml-python)\n",
            "  Downloading jmespath-1.0.1-py3-none-any.whl.metadata (7.6 kB)\n",
            "Downloading snowflake_ml_python-1.6.1-py3-none-any.whl (2.0 MB)\n",
            "\u001b[2K   \u001b[90m━━━━━━━━━━━━━━━━━━━━━━━━━━━━━━━━━━━━━━━━\u001b[0m \u001b[32m2.0/2.0 MB\u001b[0m \u001b[31m24.5 MB/s\u001b[0m eta \u001b[36m0:00:00\u001b[0m\n",
            "\u001b[?25hDownloading fsspec-2023.12.2-py3-none-any.whl (168 kB)\n",
            "\u001b[2K   \u001b[90m━━━━━━━━━━━━━━━━━━━━━━━━━━━━━━━━━━━━━━━━\u001b[0m \u001b[32m169.0/169.0 kB\u001b[0m \u001b[31m11.8 MB/s\u001b[0m eta \u001b[36m0:00:00\u001b[0m\n",
            "\u001b[?25hDownloading packaging-23.2-py3-none-any.whl (53 kB)\n",
            "\u001b[2K   \u001b[90m━━━━━━━━━━━━━━━━━━━━━━━━━━━━━━━━━━━━━━━━\u001b[0m \u001b[32m53.0/53.0 kB\u001b[0m \u001b[31m1.7 MB/s\u001b[0m eta \u001b[36m0:00:00\u001b[0m\n",
            "\u001b[?25hDownloading pytimeparse-1.1.8-py2.py3-none-any.whl (10.0 kB)\n",
            "Downloading retrying-1.3.4-py3-none-any.whl (11 kB)\n",
            "Downloading s3fs-2023.12.2-py3-none-any.whl (28 kB)\n",
            "Downloading xgboost-1.7.6-py3-none-manylinux2014_x86_64.whl (200.3 MB)\n",
            "\u001b[2K   \u001b[90m━━━━━━━━━━━━━━━━━━━━━━━━━━━━━━━━━━━━━━━━\u001b[0m \u001b[32m200.3/200.3 MB\u001b[0m \u001b[31m4.7 MB/s\u001b[0m eta \u001b[36m0:00:00\u001b[0m\n",
            "\u001b[?25hDownloading aiobotocore-2.14.0-py3-none-any.whl (77 kB)\n",
            "\u001b[2K   \u001b[90m━━━━━━━━━━━━━━━━━━━━━━━━━━━━━━━━━━━━━━━━\u001b[0m \u001b[32m77.3/77.3 kB\u001b[0m \u001b[31m5.1 MB/s\u001b[0m eta \u001b[36m0:00:00\u001b[0m\n",
            "\u001b[?25hDownloading aioitertools-0.12.0-py3-none-any.whl (24 kB)\n",
            "Downloading botocore-1.35.7-py3-none-any.whl (12.5 MB)\n",
            "\u001b[2K   \u001b[90m━━━━━━━━━━━━━━━━━━━━━━━━━━━━━━━━━━━━━━━━\u001b[0m \u001b[32m12.5/12.5 MB\u001b[0m \u001b[31m66.2 MB/s\u001b[0m eta \u001b[36m0:00:00\u001b[0m\n",
            "\u001b[?25hDownloading jmespath-1.0.1-py3-none-any.whl (20 kB)\n",
            "Installing collected packages: pytimeparse, retrying, packaging, jmespath, fsspec, aioitertools, xgboost, botocore, aiobotocore, s3fs, snowflake-ml-python\n",
            "  Attempting uninstall: packaging\n",
            "    Found existing installation: packaging 24.1\n",
            "    Uninstalling packaging-24.1:\n",
            "      Successfully uninstalled packaging-24.1\n",
            "  Attempting uninstall: fsspec\n",
            "    Found existing installation: fsspec 2024.6.1\n",
            "    Uninstalling fsspec-2024.6.1:\n",
            "      Successfully uninstalled fsspec-2024.6.1\n",
            "  Attempting uninstall: xgboost\n",
            "    Found existing installation: xgboost 2.1.1\n",
            "    Uninstalling xgboost-2.1.1:\n",
            "      Successfully uninstalled xgboost-2.1.1\n",
            "\u001b[31mERROR: pip's dependency resolver does not currently take into account all the packages that are installed. This behaviour is the source of the following dependency conflicts.\n",
            "gcsfs 2024.6.1 requires fsspec==2024.6.1, but you have fsspec 2023.12.2 which is incompatible.\u001b[0m\u001b[31m\n",
            "\u001b[0mSuccessfully installed aiobotocore-2.14.0 aioitertools-0.12.0 botocore-1.35.7 fsspec-2023.12.2 jmespath-1.0.1 packaging-23.2 pytimeparse-1.1.8 retrying-1.3.4 s3fs-2023.12.2 snowflake-ml-python-1.6.1 xgboost-1.7.6\n"
          ]
        },
        {
          "output_type": "display_data",
          "data": {
            "application/vnd.colab-display-data+json": {
              "pip_warning": {
                "packages": [
                  "snowflake"
                ]
              },
              "id": "8f12654c636a44e189bab1865820d1ff"
            }
          },
          "metadata": {}
        }
      ]
    },
    {
      "cell_type": "code",
      "source": [
        "!pip install snowflake-snowpark-python"
      ],
      "metadata": {
        "id": "_Z4mfOuq_CHO",
        "outputId": "5912265e-c632-4d50-8eba-57be9343e0b0",
        "colab": {
          "base_uri": "https://localhost:8080/",
          "height": 671
        }
      },
      "execution_count": 11,
      "outputs": [
        {
          "output_type": "stream",
          "name": "stdout",
          "text": [
            "Collecting snowflake-snowpark-python\n",
            "  Downloading snowflake_snowpark_python-1.21.1-py3-none-any.whl.metadata (86 kB)\n",
            "\u001b[2K     \u001b[90m━━━━━━━━━━━━━━━━━━━━━━━━━━━━━━━━━━━━━━━━\u001b[0m \u001b[32m86.8/86.8 kB\u001b[0m \u001b[31m2.4 MB/s\u001b[0m eta \u001b[36m0:00:00\u001b[0m\n",
            "\u001b[?25hRequirement already satisfied: setuptools>=40.6.0 in /usr/local/lib/python3.10/dist-packages (from snowflake-snowpark-python) (71.0.4)\n",
            "Requirement already satisfied: wheel in /usr/local/lib/python3.10/dist-packages (from snowflake-snowpark-python) (0.44.0)\n",
            "Requirement already satisfied: snowflake-connector-python<4.0.0,>=3.10.0 in /usr/local/lib/python3.10/dist-packages (from snowflake-snowpark-python) (3.12.1)\n",
            "Requirement already satisfied: typing-extensions<5.0.0,>=4.1.0 in /usr/local/lib/python3.10/dist-packages (from snowflake-snowpark-python) (4.12.2)\n",
            "Requirement already satisfied: pyyaml in /usr/local/lib/python3.10/dist-packages (from snowflake-snowpark-python) (6.0.2)\n",
            "Requirement already satisfied: cloudpickle!=2.1.0,!=2.2.0,<=2.2.1,>=1.6.0 in /usr/local/lib/python3.10/dist-packages (from snowflake-snowpark-python) (2.2.1)\n",
            "Requirement already satisfied: asn1crypto<2.0.0,>0.24.0 in /usr/local/lib/python3.10/dist-packages (from snowflake-connector-python<4.0.0,>=3.10.0->snowflake-snowpark-python) (1.5.1)\n",
            "Requirement already satisfied: cffi<2.0.0,>=1.9 in /usr/local/lib/python3.10/dist-packages (from snowflake-connector-python<4.0.0,>=3.10.0->snowflake-snowpark-python) (1.17.0)\n",
            "Requirement already satisfied: cryptography>=3.1.0 in /usr/local/lib/python3.10/dist-packages (from snowflake-connector-python<4.0.0,>=3.10.0->snowflake-snowpark-python) (43.0.0)\n",
            "Requirement already satisfied: pyOpenSSL<25.0.0,>=16.2.0 in /usr/local/lib/python3.10/dist-packages (from snowflake-connector-python<4.0.0,>=3.10.0->snowflake-snowpark-python) (24.2.1)\n",
            "Requirement already satisfied: pyjwt<3.0.0 in /usr/local/lib/python3.10/dist-packages (from snowflake-connector-python<4.0.0,>=3.10.0->snowflake-snowpark-python) (2.9.0)\n",
            "Requirement already satisfied: pytz in /usr/local/lib/python3.10/dist-packages (from snowflake-connector-python<4.0.0,>=3.10.0->snowflake-snowpark-python) (2024.1)\n",
            "Requirement already satisfied: requests<3.0.0 in /usr/local/lib/python3.10/dist-packages (from snowflake-connector-python<4.0.0,>=3.10.0->snowflake-snowpark-python) (2.32.3)\n",
            "Requirement already satisfied: packaging in /usr/local/lib/python3.10/dist-packages (from snowflake-connector-python<4.0.0,>=3.10.0->snowflake-snowpark-python) (24.1)\n",
            "Requirement already satisfied: charset-normalizer<4,>=2 in /usr/local/lib/python3.10/dist-packages (from snowflake-connector-python<4.0.0,>=3.10.0->snowflake-snowpark-python) (3.3.2)\n",
            "Requirement already satisfied: idna<4,>=2.5 in /usr/local/lib/python3.10/dist-packages (from snowflake-connector-python<4.0.0,>=3.10.0->snowflake-snowpark-python) (3.8)\n",
            "Requirement already satisfied: certifi>=2017.4.17 in /usr/local/lib/python3.10/dist-packages (from snowflake-connector-python<4.0.0,>=3.10.0->snowflake-snowpark-python) (2024.8.30)\n",
            "Requirement already satisfied: filelock<4,>=3.5 in /usr/local/lib/python3.10/dist-packages (from snowflake-connector-python<4.0.0,>=3.10.0->snowflake-snowpark-python) (3.15.4)\n",
            "Requirement already satisfied: sortedcontainers>=2.4.0 in /usr/local/lib/python3.10/dist-packages (from snowflake-connector-python<4.0.0,>=3.10.0->snowflake-snowpark-python) (2.4.0)\n",
            "Requirement already satisfied: platformdirs<5.0.0,>=2.6.0 in /usr/local/lib/python3.10/dist-packages (from snowflake-connector-python<4.0.0,>=3.10.0->snowflake-snowpark-python) (4.2.2)\n",
            "Requirement already satisfied: tomlkit in /usr/local/lib/python3.10/dist-packages (from snowflake-connector-python<4.0.0,>=3.10.0->snowflake-snowpark-python) (0.13.2)\n",
            "Requirement already satisfied: pycparser in /usr/local/lib/python3.10/dist-packages (from cffi<2.0.0,>=1.9->snowflake-connector-python<4.0.0,>=3.10.0->snowflake-snowpark-python) (2.22)\n",
            "Requirement already satisfied: urllib3<3,>=1.21.1 in /usr/local/lib/python3.10/dist-packages (from requests<3.0.0->snowflake-connector-python<4.0.0,>=3.10.0->snowflake-snowpark-python) (2.0.7)\n",
            "Downloading snowflake_snowpark_python-1.21.1-py3-none-any.whl (1.3 MB)\n",
            "\u001b[2K   \u001b[90m━━━━━━━━━━━━━━━━━━━━━━━━━━━━━━━━━━━━━━━━\u001b[0m \u001b[32m1.3/1.3 MB\u001b[0m \u001b[31m21.4 MB/s\u001b[0m eta \u001b[36m0:00:00\u001b[0m\n",
            "\u001b[?25hInstalling collected packages: snowflake-snowpark-python\n",
            "Successfully installed snowflake-snowpark-python-1.21.1\n"
          ]
        },
        {
          "output_type": "display_data",
          "data": {
            "application/vnd.colab-display-data+json": {
              "pip_warning": {
                "packages": [
                  "snowflake"
                ]
              },
              "id": "f8c2d9bafc834088b35d7e2655ebda8b"
            }
          },
          "metadata": {}
        }
      ]
    },
    {
      "cell_type": "code",
      "source": [
        "\n",
        "\n",
        "import snowflake.connector\n",
        "\n",
        "conn = snowflake.connector.connect(\n",
        "       user='Welcome123',\n",
        "       password='Welcome123$',\n",
        "       account='VVROJOJ-KCB19941',\n",
        "       warehouse='DASH_S',\n",
        "       database='DASH_DB',\n",
        "       schema='DASH_SCHEMA'\n",
        "   )"
      ],
      "metadata": {
        "id": "qJjozfY_l55q"
      },
      "execution_count": 6,
      "outputs": []
    },
    {
      "cell_type": "code",
      "source": [
        "cur = conn.cursor()\n",
        "cur.execute(\"select textid, Text from Test where textid in ('aeb0e9d730','c672c9da1d', '33987a8ee5', '6d846d7d50')\")\n",
        "results = cur.fetchall()\n",
        "cur.close()\n",
        "conn.close()\n",
        "\n",
        "for row in results:\n",
        "  print(row)"
      ],
      "metadata": {
        "colab": {
          "base_uri": "https://localhost:8080/"
        },
        "id": "F_hhNCTqp6X1",
        "outputId": "76ceca84-ac8a-48a4-e084-8c2fed2c18d1"
      },
      "execution_count": 2,
      "outputs": [
        {
          "output_type": "stream",
          "name": "stdout",
          "text": [
            "('33987a8ee5', 'iTunes/Apple Music on Windows 10 seems to be buggy, i.e. buttons not working, application not closing, playlists instructions appearing after the fact, etc. The call agent fond the situation abnormal but was not knowledgeable.')\n",
            "('6d846d7d50', 'En el momento de recoger el equipo; realmente tuve que esperar mucho, casi una hora, estaba cansada, porque todo el tiempo está uno de pie. Gracias')\n",
            "('aeb0e9d730', 'My experience went very smoothly, and the person I spoke to was incredibly patient, knowledgeable, and clearly dedicated to finding a solution for my problem. However, the last resort he suggested required that I reinstall the OS on my device. Since the process could take up to thirty minutes, he suggested that we set up a call back, just in case my problem was not resolved after the reinstallation is finished. The callback was not really needed because my problem was resolved. When I received the call, I was ready to answer and thank the person I had spoken to earlier. I was surprised to find that I was speaking to an automated machine; I was being told that I had missed my callback and would be called again later. The same thing happened with the second call as well. This did not really affect my experience because my issue was resolved; however, if it were not, I would have been extremely frustrated for not being able to speak to a customer service representative.')\n",
            "('c672c9da1d', 'The level 2 manager I dealt with was the \"WORST\" I have ve ever dealt with.. He was more in tune to letting me know his title about 6 times and after spending an hour on phone with him he told me I had to have a credit card for the new phone being sent. I have a debit card but he told me required to have a credit card.. . Finally after being given bad information to start with from T mobile it was finally rectified after more than 3.5 hours on calls and over 5 hours of traveling and time spent waiting at the Apple store which was a total waste of time.  After hour on calls i was told to go to apple store.  Apple store told me they would not look at the phone because it was a refurbed phone from 3 party .    Huge waste of my only day off Sunday.   Spent ENTIRE day dealing with something that should not have taken 30 mins most..')\n"
          ]
        }
      ]
    },
    {
      "cell_type": "code",
      "source": [
        "results"
      ],
      "metadata": {
        "colab": {
          "base_uri": "https://localhost:8080/"
        },
        "id": "BZXrXI4FqLGH",
        "outputId": "6f714728-0332-470f-a1c0-7a14b3f08eab"
      },
      "execution_count": null,
      "outputs": [
        {
          "output_type": "execute_result",
          "data": {
            "text/plain": [
              "[('33987a8ee5',\n",
              "  'iTunes/Apple Music on Windows 10 seems to be buggy, i.e. buttons not working, application not closing, playlists instructions appearing after the fact, etc. The call agent fond the situation abnormal but was not knowledgeable.'),\n",
              " ('6d846d7d50',\n",
              "  'En el momento de recoger el equipo; realmente tuve que esperar mucho, casi una hora, estaba cansada, porque todo el tiempo está uno de pie. Gracias'),\n",
              " ('aeb0e9d730',\n",
              "  'My experience went very smoothly, and the person I spoke to was incredibly patient, knowledgeable, and clearly dedicated to finding a solution for my problem. However, the last resort he suggested required that I reinstall the OS on my device. Since the process could take up to thirty minutes, he suggested that we set up a call back, just in case my problem was not resolved after the reinstallation is finished. The callback was not really needed because my problem was resolved. When I received the call, I was ready to answer and thank the person I had spoken to earlier. I was surprised to find that I was speaking to an automated machine; I was being told that I had missed my callback and would be called again later. The same thing happened with the second call as well. This did not really affect my experience because my issue was resolved; however, if it were not, I would have been extremely frustrated for not being able to speak to a customer service representative.'),\n",
              " ('c672c9da1d',\n",
              "  'The level 2 manager I dealt with was the \"WORST\" I have ve ever dealt with.. He was more in tune to letting me know his title about 6 times and after spending an hour on phone with him he told me I had to have a credit card for the new phone being sent. I have a debit card but he told me required to have a credit card.. . Finally after being given bad information to start with from T mobile it was finally rectified after more than 3.5 hours on calls and over 5 hours of traveling and time spent waiting at the Apple store which was a total waste of time.  After hour on calls i was told to go to apple store.  Apple store told me they would not look at the phone because it was a refurbed phone from 3 party .    Huge waste of my only day off Sunday.   Spent ENTIRE day dealing with something that should not have taken 30 mins most..')]"
            ]
          },
          "metadata": {},
          "execution_count": 4
        }
      ]
    },
    {
      "cell_type": "code",
      "source": [],
      "metadata": {
        "id": "lfGVO9VU87Ot"
      },
      "execution_count": null,
      "outputs": []
    },
    {
      "cell_type": "code",
      "source": [
        "from snowflake.snowpark import Session\n",
        "\n",
        "from snowflake.cortex import Complete, ExtractAnswer, Sentiment, Summarize, Translate\n",
        "\n",
        "print(Complete(\"llama2-70b-chat\", \"how do snowflakes get their unique patterns?\"))\n",
        "\n",
        "\n"
      ],
      "metadata": {
        "colab": {
          "base_uri": "https://localhost:8080/",
          "height": 382
        },
        "id": "KcgguyFK7YYH",
        "outputId": "e7f90613-ff89-49d7-eb29-ae61e6155fda"
      },
      "execution_count": 8,
      "outputs": [
        {
          "output_type": "error",
          "ename": "SnowparkSessionException",
          "evalue": "(1403): No default Session is found. Please create a session before you call function 'udf' or use decorator '@udf'.",
          "traceback": [
            "\u001b[0;31m---------------------------------------------------------------------------\u001b[0m",
            "\u001b[0;31mSnowparkSessionException\u001b[0m                  Traceback (most recent call last)",
            "\u001b[0;32m<ipython-input-8-35d160c8d066>\u001b[0m in \u001b[0;36m<cell line: 5>\u001b[0;34m()\u001b[0m\n\u001b[1;32m      3\u001b[0m \u001b[0;32mfrom\u001b[0m \u001b[0msnowflake\u001b[0m\u001b[0;34m.\u001b[0m\u001b[0mcortex\u001b[0m \u001b[0;32mimport\u001b[0m \u001b[0mComplete\u001b[0m\u001b[0;34m,\u001b[0m \u001b[0mExtractAnswer\u001b[0m\u001b[0;34m,\u001b[0m \u001b[0mSentiment\u001b[0m\u001b[0;34m,\u001b[0m \u001b[0mSummarize\u001b[0m\u001b[0;34m,\u001b[0m \u001b[0mTranslate\u001b[0m\u001b[0;34m\u001b[0m\u001b[0;34m\u001b[0m\u001b[0m\n\u001b[1;32m      4\u001b[0m \u001b[0;34m\u001b[0m\u001b[0m\n\u001b[0;32m----> 5\u001b[0;31m \u001b[0mprint\u001b[0m\u001b[0;34m(\u001b[0m\u001b[0mComplete\u001b[0m\u001b[0;34m(\u001b[0m\u001b[0;34m\"llama2-70b-chat\"\u001b[0m\u001b[0;34m,\u001b[0m \u001b[0;34m\"how do snowflakes get their unique patterns?\"\u001b[0m\u001b[0;34m)\u001b[0m\u001b[0;34m)\u001b[0m\u001b[0;34m\u001b[0m\u001b[0;34m\u001b[0m\u001b[0m\n\u001b[0m\u001b[1;32m      6\u001b[0m \u001b[0;34m\u001b[0m\u001b[0m\n\u001b[1;32m      7\u001b[0m \u001b[0;34m\u001b[0m\u001b[0m\n",
            "\u001b[0;32m/usr/local/lib/python3.10/dist-packages/snowflake/ml/_internal/telemetry.py\u001b[0m in \u001b[0;36mwrap\u001b[0;34m(*args, **kwargs)\u001b[0m\n\u001b[1;32m    396\u001b[0m                             \u001b[0;32mraise\u001b[0m \u001b[0me\u001b[0m\u001b[0;34m.\u001b[0m\u001b[0moriginal_exception\u001b[0m\u001b[0;34m.\u001b[0m\u001b[0mwith_traceback\u001b[0m\u001b[0;34m(\u001b[0m\u001b[0me\u001b[0m\u001b[0;34m.\u001b[0m\u001b[0m__traceback__\u001b[0m\u001b[0;34m)\u001b[0m \u001b[0;32mfrom\u001b[0m \u001b[0;32mNone\u001b[0m\u001b[0;34m\u001b[0m\u001b[0;34m\u001b[0m\u001b[0m\n\u001b[1;32m    397\u001b[0m                         \u001b[0;31m# suppress SnowparkSessionException from telemetry in the stack trace\u001b[0m\u001b[0;34m\u001b[0m\u001b[0;34m\u001b[0m\u001b[0m\n\u001b[0;32m--> 398\u001b[0;31m                         \u001b[0;32mraise\u001b[0m \u001b[0me\u001b[0m \u001b[0;32mfrom\u001b[0m \u001b[0;32mNone\u001b[0m\u001b[0;34m\u001b[0m\u001b[0;34m\u001b[0m\u001b[0m\n\u001b[0m\u001b[1;32m    399\u001b[0m \u001b[0;34m\u001b[0m\u001b[0m\n\u001b[1;32m    400\u001b[0m                 \u001b[0mconn\u001b[0m \u001b[0;34m=\u001b[0m \u001b[0mactive_session\u001b[0m\u001b[0;34m.\u001b[0m\u001b[0m_conn\u001b[0m\u001b[0;34m.\u001b[0m\u001b[0m_conn\u001b[0m\u001b[0;34m\u001b[0m\u001b[0;34m\u001b[0m\u001b[0m\n",
            "\u001b[0;32m/usr/local/lib/python3.10/dist-packages/snowflake/ml/_internal/telemetry.py\u001b[0m in \u001b[0;36mwrap\u001b[0;34m(*args, **kwargs)\u001b[0m\n\u001b[1;32m    391\u001b[0m                 \u001b[0;32mexcept\u001b[0m \u001b[0msnowpark_exceptions\u001b[0m\u001b[0;34m.\u001b[0m\u001b[0mSnowparkSessionException\u001b[0m\u001b[0;34m:\u001b[0m\u001b[0;34m\u001b[0m\u001b[0;34m\u001b[0m\u001b[0m\n\u001b[1;32m    392\u001b[0m                     \u001b[0;32mtry\u001b[0m\u001b[0;34m:\u001b[0m\u001b[0;34m\u001b[0m\u001b[0;34m\u001b[0m\u001b[0m\n\u001b[0;32m--> 393\u001b[0;31m                         \u001b[0;32mreturn\u001b[0m \u001b[0mupdate_stmt_params_if_snowpark_df\u001b[0m\u001b[0;34m(\u001b[0m\u001b[0mfunc\u001b[0m\u001b[0;34m(\u001b[0m\u001b[0;34m*\u001b[0m\u001b[0margs\u001b[0m\u001b[0;34m,\u001b[0m \u001b[0;34m**\u001b[0m\u001b[0mkwargs\u001b[0m\u001b[0;34m)\u001b[0m\u001b[0;34m,\u001b[0m \u001b[0mstatement_params\u001b[0m\u001b[0;34m)\u001b[0m\u001b[0;34m\u001b[0m\u001b[0;34m\u001b[0m\u001b[0m\n\u001b[0m\u001b[1;32m    394\u001b[0m                     \u001b[0;32mexcept\u001b[0m \u001b[0mException\u001b[0m \u001b[0;32mas\u001b[0m \u001b[0me\u001b[0m\u001b[0;34m:\u001b[0m\u001b[0;34m\u001b[0m\u001b[0;34m\u001b[0m\u001b[0m\n\u001b[1;32m    395\u001b[0m                         \u001b[0;32mif\u001b[0m \u001b[0misinstance\u001b[0m\u001b[0;34m(\u001b[0m\u001b[0me\u001b[0m\u001b[0;34m,\u001b[0m \u001b[0msnowml_exceptions\u001b[0m\u001b[0;34m.\u001b[0m\u001b[0mSnowflakeMLException\u001b[0m\u001b[0;34m)\u001b[0m\u001b[0;34m:\u001b[0m\u001b[0;34m\u001b[0m\u001b[0;34m\u001b[0m\u001b[0m\n",
            "\u001b[0;32m/usr/local/lib/python3.10/dist-packages/snowflake/cortex/_complete.py\u001b[0m in \u001b[0;36mComplete\u001b[0;34m(model, prompt, options, session, stream, timeout, deadline)\u001b[0m\n\u001b[1;32m    278\u001b[0m     \"\"\"\n\u001b[1;32m    279\u001b[0m     \u001b[0;32mtry\u001b[0m\u001b[0;34m:\u001b[0m\u001b[0;34m\u001b[0m\u001b[0;34m\u001b[0m\u001b[0m\n\u001b[0;32m--> 280\u001b[0;31m         return _complete_impl(\n\u001b[0m\u001b[1;32m    281\u001b[0m             \u001b[0mmodel\u001b[0m\u001b[0;34m,\u001b[0m\u001b[0;34m\u001b[0m\u001b[0;34m\u001b[0m\u001b[0m\n\u001b[1;32m    282\u001b[0m             \u001b[0mprompt\u001b[0m\u001b[0;34m,\u001b[0m\u001b[0;34m\u001b[0m\u001b[0;34m\u001b[0m\u001b[0m\n",
            "\u001b[0;32m/usr/local/lib/python3.10/dist-packages/snowflake/cortex/_complete.py\u001b[0m in \u001b[0;36m_complete_impl\u001b[0;34m(model, prompt, options, session, stream, function, timeout, deadline)\u001b[0m\n\u001b[1;32m    243\u001b[0m         \u001b[0;32massert\u001b[0m \u001b[0mresponse\u001b[0m\u001b[0;34m.\u001b[0m\u001b[0mstatus_code\u001b[0m \u001b[0;34m>=\u001b[0m \u001b[0;36m200\u001b[0m \u001b[0;32mand\u001b[0m \u001b[0mresponse\u001b[0m\u001b[0;34m.\u001b[0m\u001b[0mstatus_code\u001b[0m \u001b[0;34m<\u001b[0m \u001b[0;36m300\u001b[0m\u001b[0;34m\u001b[0m\u001b[0;34m\u001b[0m\u001b[0m\n\u001b[1;32m    244\u001b[0m         \u001b[0;32mreturn\u001b[0m \u001b[0m_return_stream_response\u001b[0m\u001b[0;34m(\u001b[0m\u001b[0mresponse\u001b[0m\u001b[0;34m,\u001b[0m \u001b[0mdeadline\u001b[0m\u001b[0;34m)\u001b[0m\u001b[0;34m\u001b[0m\u001b[0;34m\u001b[0m\u001b[0m\n\u001b[0;32m--> 245\u001b[0;31m     \u001b[0;32mreturn\u001b[0m \u001b[0m_complete_sql_impl\u001b[0m\u001b[0;34m(\u001b[0m\u001b[0mfunction\u001b[0m\u001b[0;34m,\u001b[0m \u001b[0mmodel\u001b[0m\u001b[0;34m,\u001b[0m \u001b[0mprompt\u001b[0m\u001b[0;34m,\u001b[0m \u001b[0moptions\u001b[0m\u001b[0;34m,\u001b[0m \u001b[0msession\u001b[0m\u001b[0;34m)\u001b[0m\u001b[0;34m\u001b[0m\u001b[0;34m\u001b[0m\u001b[0m\n\u001b[0m\u001b[1;32m    246\u001b[0m \u001b[0;34m\u001b[0m\u001b[0m\n\u001b[1;32m    247\u001b[0m \u001b[0;34m\u001b[0m\u001b[0m\n",
            "\u001b[0;32m/usr/local/lib/python3.10/dist-packages/snowflake/cortex/_complete.py\u001b[0m in \u001b[0;36m_complete_sql_impl\u001b[0;34m(function, model, prompt, options, session)\u001b[0m\n\u001b[1;32m    218\u001b[0m     \u001b[0;32mif\u001b[0m \u001b[0misinstance\u001b[0m\u001b[0;34m(\u001b[0m\u001b[0moptions\u001b[0m\u001b[0;34m,\u001b[0m \u001b[0msnowpark\u001b[0m\u001b[0;34m.\u001b[0m\u001b[0mColumn\u001b[0m\u001b[0;34m)\u001b[0m\u001b[0;34m:\u001b[0m\u001b[0;34m\u001b[0m\u001b[0;34m\u001b[0m\u001b[0m\n\u001b[1;32m    219\u001b[0m         \u001b[0;32mraise\u001b[0m \u001b[0mValueError\u001b[0m\u001b[0;34m(\u001b[0m\u001b[0;34m\"'options' cannot be a snowpark.Column when 'prompt' is a string.\"\u001b[0m\u001b[0;34m)\u001b[0m\u001b[0;34m\u001b[0m\u001b[0;34m\u001b[0m\u001b[0m\n\u001b[0;32m--> 220\u001b[0;31m     \u001b[0;32mreturn\u001b[0m \u001b[0m_complete_call_sql_function_immediate\u001b[0m\u001b[0;34m(\u001b[0m\u001b[0mfunction\u001b[0m\u001b[0;34m,\u001b[0m \u001b[0mmodel\u001b[0m\u001b[0;34m,\u001b[0m \u001b[0mprompt\u001b[0m\u001b[0;34m,\u001b[0m \u001b[0moptions\u001b[0m\u001b[0;34m,\u001b[0m \u001b[0msession\u001b[0m\u001b[0;34m)\u001b[0m\u001b[0;34m\u001b[0m\u001b[0;34m\u001b[0m\u001b[0m\n\u001b[0m\u001b[1;32m    221\u001b[0m \u001b[0;34m\u001b[0m\u001b[0m\n\u001b[1;32m    222\u001b[0m \u001b[0;34m\u001b[0m\u001b[0m\n",
            "\u001b[0;32m/usr/local/lib/python3.10/dist-packages/snowflake/cortex/_complete.py\u001b[0m in \u001b[0;36m_complete_call_sql_function_immediate\u001b[0;34m(function, model, prompt, options, session)\u001b[0m\n\u001b[1;32m    172\u001b[0m     \u001b[0msession\u001b[0m\u001b[0;34m:\u001b[0m \u001b[0mOptional\u001b[0m\u001b[0;34m[\u001b[0m\u001b[0msnowpark\u001b[0m\u001b[0;34m.\u001b[0m\u001b[0mSession\u001b[0m\u001b[0;34m]\u001b[0m\u001b[0;34m,\u001b[0m\u001b[0;34m\u001b[0m\u001b[0;34m\u001b[0m\u001b[0m\n\u001b[1;32m    173\u001b[0m ) -> str:\n\u001b[0;32m--> 174\u001b[0;31m     \u001b[0msession\u001b[0m \u001b[0;34m=\u001b[0m \u001b[0msession\u001b[0m \u001b[0;32mor\u001b[0m \u001b[0mcontext\u001b[0m\u001b[0;34m.\u001b[0m\u001b[0mget_active_session\u001b[0m\u001b[0;34m(\u001b[0m\u001b[0;34m)\u001b[0m\u001b[0;34m\u001b[0m\u001b[0;34m\u001b[0m\u001b[0m\n\u001b[0m\u001b[1;32m    175\u001b[0m     \u001b[0;32mif\u001b[0m \u001b[0msession\u001b[0m \u001b[0;32mis\u001b[0m \u001b[0;32mNone\u001b[0m\u001b[0;34m:\u001b[0m\u001b[0;34m\u001b[0m\u001b[0;34m\u001b[0m\u001b[0m\n\u001b[1;32m    176\u001b[0m         raise SnowflakeAuthenticationException(\n",
            "\u001b[0;32m/usr/local/lib/python3.10/dist-packages/snowflake/snowpark/context.py\u001b[0m in \u001b[0;36mget_active_session\u001b[0;34m()\u001b[0m\n\u001b[1;32m     30\u001b[0m         \u001b[0mA\u001b[0m \u001b[0;34m:\u001b[0m\u001b[0;32mclass\u001b[0m\u001b[0;34m:\u001b[0m\u001b[0;31m`\u001b[0m\u001b[0mSession\u001b[0m\u001b[0;31m`\u001b[0m \u001b[0mobject\u001b[0m \u001b[0;32mfor\u001b[0m \u001b[0mthe\u001b[0m \u001b[0mcurrent\u001b[0m \u001b[0msession\u001b[0m\u001b[0;34m.\u001b[0m\u001b[0;34m\u001b[0m\u001b[0;34m\u001b[0m\u001b[0m\n\u001b[1;32m     31\u001b[0m     \"\"\"\n\u001b[0;32m---> 32\u001b[0;31m     \u001b[0;32mreturn\u001b[0m \u001b[0msnowflake\u001b[0m\u001b[0;34m.\u001b[0m\u001b[0msnowpark\u001b[0m\u001b[0;34m.\u001b[0m\u001b[0msession\u001b[0m\u001b[0;34m.\u001b[0m\u001b[0m_get_active_session\u001b[0m\u001b[0;34m(\u001b[0m\u001b[0;34m)\u001b[0m\u001b[0;34m\u001b[0m\u001b[0;34m\u001b[0m\u001b[0m\n\u001b[0m",
            "\u001b[0;32m/usr/local/lib/python3.10/dist-packages/snowflake/snowpark/session.py\u001b[0m in \u001b[0;36m_get_active_session\u001b[0;34m()\u001b[0m\n\u001b[1;32m    217\u001b[0m             \u001b[0;32mraise\u001b[0m \u001b[0mSnowparkClientExceptionMessages\u001b[0m\u001b[0;34m.\u001b[0m\u001b[0mMORE_THAN_ONE_ACTIVE_SESSIONS\u001b[0m\u001b[0;34m(\u001b[0m\u001b[0;34m)\u001b[0m\u001b[0;34m\u001b[0m\u001b[0;34m\u001b[0m\u001b[0m\n\u001b[1;32m    218\u001b[0m         \u001b[0;32melse\u001b[0m\u001b[0;34m:\u001b[0m\u001b[0;34m\u001b[0m\u001b[0;34m\u001b[0m\u001b[0m\n\u001b[0;32m--> 219\u001b[0;31m             \u001b[0;32mraise\u001b[0m \u001b[0mSnowparkClientExceptionMessages\u001b[0m\u001b[0;34m.\u001b[0m\u001b[0mSERVER_NO_DEFAULT_SESSION\u001b[0m\u001b[0;34m(\u001b[0m\u001b[0;34m)\u001b[0m\u001b[0;34m\u001b[0m\u001b[0;34m\u001b[0m\u001b[0m\n\u001b[0m\u001b[1;32m    220\u001b[0m \u001b[0;34m\u001b[0m\u001b[0m\n\u001b[1;32m    221\u001b[0m \u001b[0;34m\u001b[0m\u001b[0m\n",
            "\u001b[0;31mSnowparkSessionException\u001b[0m: (1403): No default Session is found. Please create a session before you call function 'udf' or use decorator '@udf'."
          ]
        }
      ]
    },
    {
      "cell_type": "code",
      "source": [],
      "metadata": {
        "id": "7XE2RT5BGs-N"
      },
      "execution_count": null,
      "outputs": []
    },
    {
      "cell_type": "code",
      "source": [
        "\n",
        "#print(ExtractAnswer(text, \"When was snowflake founded?\"))\n",
        "#print(Sentiment(\"I really enjoyed this restaurant. Fantastic service!\"))\n",
        "#print(Summarize(text))\n",
        "#print(Translate(text, \"en\", \"fr\"))\n",
        "\n",
        "f = open(\"/content/sample_data/espncricinfo.txt\", \"r\")\n",
        "print(f.read())\n",
        "\n",
        "s = snowflake.cortex.summarize(f.read())\n",
        "\n",
        "print(s)\n",
        "f.close()"
      ],
      "metadata": {
        "id": "1Vr-r3LZ-1b8",
        "outputId": "d475d493-a0e6-43c4-f4fb-1cf1362d2a4e",
        "colab": {
          "base_uri": "https://localhost:8080/",
          "height": 1000
        }
      },
      "execution_count": 7,
      "outputs": [
        {
          "output_type": "stream",
          "name": "stdout",
          "text": [
            "Sanath Jayasuriya, Sri Lanka's interim head coach, said that his team's success in frustrating Harry Brook had been integral to their fightback on the second day at the Kia Oval, as they reached the close on 211 for 5 in their first innings, trailing by just 114 after bowling England out for 325 in the morning session.\n",
            "\n",
            "England had seemed to be in a familiarly dominant position overnight, having raced to 221 for 3 in barely half a day's play on day one, but they then lost their last seven wickets for 104 more runs in 24.1 overs on day two, with all ten wickets ultimately falling to attacking shots.\n",
            "\n",
            "Brook, 8 not out overnight, was particularly culpable for setting the tone for a careless batting performance. He was given out to his third ball of the day, after aiming a wild drive at Lahiru Kumara, and though he successfully overturned that caught-behind verdict, he was then badly dropped by Asitha Fernando at deep point on 12, after giving the charge to Milan Rathnayake.\n",
            "\n",
            "And, with Sri Lanka finding movement in the overcast conditions, he then telegraphed his frustration by mockingly taking guard two feet outside off stump, to highlight the restrictive line that Asitha in particular was bowling.\n",
            "\n",
            "RELATED\n",
            "Story Image\n",
            "Pope passes character test to dispel captaincy clouds\n",
            "\n",
            "Story Image\n",
            "Dhananjaya, Kamindu fifties add to Sri Lanka fightback\n",
            "\n",
            "Story Image\n",
            "More bad-light farce at The Oval as Chris Woakes is forced to bowl spin mid-over\n",
            "\n",
            "His torrid stay eventually ended on 19 from 39 balls, when he flashed another drive to Kamindu Mendis at short cover, to trigger a collapse of 7 for 64 in which only Ollie Pope, eighth out for 154, emerged with any credit among England's batters.\n",
            "\n",
            "\"He was frustrated, yes, because we bowled well, with the right line and length,\" Jayasuriya said at the close. \"We go through each and every batsmen, like they go through our batsmen. We know their very strong areas, and where we can keep them tight and frustrated.\n",
            "\n",
            "\"They love to play their shots. So we just thought of bowling a more tight line and length just outside your off stump. When you keep doing that in these conditions, when the ball is moving, it's not very easy.\"\n",
            "\n",
            "England's unfocused performance attracted the ire of Michael Vaughan on the BBC, who warned the team at large that sterner challenges lie in store for the team, particularly when they take on India and Australia in five-Test series next year. He singled out Brook for particular criticism, given the extraordinary strides he's already made in his career, particularly in his breakthrough winter of 2023-24, when he racked up 809 runs in nine innings, at a strike-rate of 98.77.\n",
            "\n",
            "\"England are ultra-aggressive,\" Vaughan said. \"They go towards the danger. If the ball is swinging away they are not thinking about leaving it. That is their method.\n",
            "\n",
            "\"Just be careful, Harry Brook. That is all I will say to him. He is a brilliant player. He is as good as I have seen. I am going towards Kevin Pietersen-style. He is an incredible player. But don't take the mick out of the game. Be very, very careful.\n",
            "\n",
            "\"There are cricketing gods up there and in a year's time there are tougher challenges. When you don't treat things as you should, you might be getting the rub of the green now, but against the very best teams when it really matters, you will need a bit of luck, a toss to go the right way, the DRS to work for you.\n",
            "\n",
            "\"I would ask England, were you on it all day like you would be against India and Australia? If they look themselves in the mirror and say they were, I would say they are lying. They weren't on it today.\n",
            "\n",
            "\"England delight me a lot in the way they play. But this game has a way of biting you. When you are so far ahead of the opposition, don't take the mick. Don't think you can do things no other player has done in the history of the game - dance down the wicket and whack an away-swinger over mid-off.\"\n",
            "\n",
            "\n",
            "Jayasuriya himself was one of the great attacking batters in Test history - as shown on this ground in 1998, when his brilliant 213 from 278 balls set Sri Lanka on their way to their most famous Test victory. And at the close, he added his own advice after watching Brook's struggles to manage his tempo.\n",
            "\n",
            "\"Sometimes you go to the top gear, and sometimes you have to put the gear back, and you slow it down a bit,\" he said. \"You can't go in top gear all the time when you play this type of cricket.\n",
            "\n",
            "\"You play your natural game, but you need to take the less risk as much as possible, when the field is back on the off side, or the leg side. You need to fight it hard. So this is a part of the game. You need to work hard, and mentally you need to be strong.\"\n",
            "\n"
          ]
        },
        {
          "output_type": "error",
          "ename": "AttributeError",
          "evalue": "module 'snowflake.cortex' has no attribute 'summarize'",
          "traceback": [
            "\u001b[0;31m---------------------------------------------------------------------------\u001b[0m",
            "\u001b[0;31mAttributeError\u001b[0m                            Traceback (most recent call last)",
            "\u001b[0;32m<ipython-input-7-6aea3d0fb163>\u001b[0m in \u001b[0;36m<cell line: 9>\u001b[0;34m()\u001b[0m\n\u001b[1;32m      7\u001b[0m \u001b[0mprint\u001b[0m\u001b[0;34m(\u001b[0m\u001b[0mf\u001b[0m\u001b[0;34m.\u001b[0m\u001b[0mread\u001b[0m\u001b[0;34m(\u001b[0m\u001b[0;34m)\u001b[0m\u001b[0;34m)\u001b[0m\u001b[0;34m\u001b[0m\u001b[0;34m\u001b[0m\u001b[0m\n\u001b[1;32m      8\u001b[0m \u001b[0;34m\u001b[0m\u001b[0m\n\u001b[0;32m----> 9\u001b[0;31m \u001b[0ms\u001b[0m \u001b[0;34m=\u001b[0m \u001b[0msnowflake\u001b[0m\u001b[0;34m.\u001b[0m\u001b[0mcortex\u001b[0m\u001b[0;34m.\u001b[0m\u001b[0msummarize\u001b[0m\u001b[0;34m(\u001b[0m\u001b[0mf\u001b[0m\u001b[0;34m.\u001b[0m\u001b[0mread\u001b[0m\u001b[0;34m(\u001b[0m\u001b[0;34m)\u001b[0m\u001b[0;34m)\u001b[0m\u001b[0;34m\u001b[0m\u001b[0;34m\u001b[0m\u001b[0m\n\u001b[0m\u001b[1;32m     10\u001b[0m \u001b[0;34m\u001b[0m\u001b[0m\n\u001b[1;32m     11\u001b[0m \u001b[0mprint\u001b[0m\u001b[0;34m(\u001b[0m\u001b[0ms\u001b[0m\u001b[0;34m)\u001b[0m\u001b[0;34m\u001b[0m\u001b[0;34m\u001b[0m\u001b[0m\n",
            "\u001b[0;31mAttributeError\u001b[0m: module 'snowflake.cortex' has no attribute 'summarize'"
          ]
        }
      ]
    },
    {
      "cell_type": "code",
      "source": [
        "!python --version\n"
      ],
      "metadata": {
        "id": "gRQfM0OQDivA",
        "outputId": "80d6a0b5-64f6-4ea7-e22f-45a6a6cf2877",
        "colab": {
          "base_uri": "https://localhost:8080/"
        }
      },
      "execution_count": 10,
      "outputs": [
        {
          "output_type": "stream",
          "name": "stdout",
          "text": [
            "Python 3.10.12\n"
          ]
        }
      ]
    }
  ]
}
