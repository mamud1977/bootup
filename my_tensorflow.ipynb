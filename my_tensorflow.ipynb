{
  "cells": [
    {
      "cell_type": "markdown",
      "source": [
        "# **Learn Tensorflow**"
      ],
      "metadata": {
        "id": "_JnFiBXLdBSh"
      },
      "id": "_JnFiBXLdBSh"
    },
    {
      "cell_type": "code",
      "source": [
        "print('Tensorflow')"
      ],
      "metadata": {
        "id": "jRZ3GZmwc35U",
        "outputId": "fccfcd0e-b4b3-4464-d0ad-bd995f932ae7",
        "colab": {
          "base_uri": "https://localhost:8080/"
        }
      },
      "id": "jRZ3GZmwc35U",
      "execution_count": 1,
      "outputs": [
        {
          "output_type": "stream",
          "name": "stdout",
          "text": [
            "Tensorflow\n"
          ]
        }
      ]
    },
    {
      "cell_type": "code",
      "source": [
        "import tensorflow as tf\n",
        "tf.compat.v1.disable_eager_execution()\n",
        "\n",
        "hello = tf.constant(\"Hellooooooooooooo \")\n",
        "world = tf.constant(\"World! \")\n",
        "\n",
        "type (hello)\n",
        "\n",
        "sess = tf.compat.v1.Session()\n",
        "result = sess.run(hello+world)\n",
        "\n",
        "result"
      ],
      "metadata": {
        "id": "9wnmJjRVdG6G",
        "outputId": "07b9e6a5-d3a4-4994-f261-795ddf419efd",
        "colab": {
          "base_uri": "https://localhost:8080/"
        }
      },
      "id": "9wnmJjRVdG6G",
      "execution_count": 1,
      "outputs": [
        {
          "output_type": "execute_result",
          "data": {
            "text/plain": [
              "b'Hellooooooooooooo World! '"
            ]
          },
          "metadata": {},
          "execution_count": 1
        }
      ]
    }
  ],
  "metadata": {
    "colab": {
      "provenance": []
    },
    "language_info": {
      "name": "python"
    },
    "kernelspec": {
      "name": "python3",
      "display_name": "Python 3"
    }
  },
  "nbformat": 4,
  "nbformat_minor": 5
}