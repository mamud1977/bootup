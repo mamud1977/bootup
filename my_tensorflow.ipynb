{
  "cells": [
    {
      "cell_type": "markdown",
      "metadata": {
        "id": "view-in-github",
        "colab_type": "text"
      },
      "source": [
        "<a href=\"https://colab.research.google.com/github/mamud1977/bootup/blob/main/my_tensorflow.ipynb\" target=\"_parent\"><img src=\"https://colab.research.google.com/assets/colab-badge.svg\" alt=\"Open In Colab\"/></a>"
      ]
    },
    {
      "cell_type": "markdown",
      "source": [
        "# **Tensorflow.....**"
      ],
      "metadata": {
        "id": "_JnFiBXLdBSh"
      },
      "id": "_JnFiBXLdBSh"
    },
    {
      "cell_type": "markdown",
      "source": [],
      "metadata": {
        "id": "ErYMSwBd8Ztl"
      },
      "id": "ErYMSwBd8Ztl"
    },
    {
      "cell_type": "code",
      "source": [
        "print('Tensorflow')"
      ],
      "metadata": {
        "id": "jRZ3GZmwc35U",
        "outputId": "859527c8-3da4-4313-bef4-dd7c17dfebfa",
        "colab": {
          "base_uri": "https://localhost:8080/"
        }
      },
      "id": "jRZ3GZmwc35U",
      "execution_count": null,
      "outputs": [
        {
          "output_type": "stream",
          "name": "stdout",
          "text": [
            "Tensorflow\n"
          ]
        }
      ]
    },
    {
      "cell_type": "code",
      "source": [
        "import tensorflow as tf\n",
        "tf.compat.v1.disable_eager_execution()\n",
        "\n",
        "hello = tf.constant(\"Hellooooooooooooo \")\n",
        "world = tf.constant(\"World! \")\n",
        "\n",
        "type (hello)\n",
        "\n",
        "sess = tf.compat.v1.Session()\n",
        "result = sess.run(hello+world)\n",
        "\n",
        "result"
      ],
      "metadata": {
        "id": "9wnmJjRVdG6G",
        "outputId": "70b7bbdb-254f-4473-8868-ceb424c4bb2d",
        "colab": {
          "base_uri": "https://localhost:8080/"
        }
      },
      "id": "9wnmJjRVdG6G",
      "execution_count": null,
      "outputs": [
        {
          "output_type": "execute_result",
          "data": {
            "text/plain": [
              "b'Hellooooooooooooo World! '"
            ]
          },
          "metadata": {},
          "execution_count": 3
        }
      ]
    },
    {
      "cell_type": "code",
      "source": [
        "import tensorflow as tf\n",
        "tf.compat.v1.disable_eager_execution()\n",
        "\n",
        "a = tf.constant(10)\n",
        "b = tf.constant(450)\n",
        "sess = tf.compat.v1.Session()\n",
        "result = sess.run(a+b)\n",
        "result"
      ],
      "metadata": {
        "colab": {
          "base_uri": "https://localhost:8080/"
        },
        "id": "VTMWaXIrzmz-",
        "outputId": "0929f7ac-d62b-40fb-fcb4-4c16f0ac8c13"
      },
      "id": "VTMWaXIrzmz-",
      "execution_count": null,
      "outputs": [
        {
          "output_type": "execute_result",
          "data": {
            "text/plain": [
              "460"
            ]
          },
          "metadata": {},
          "execution_count": 7
        }
      ]
    },
    {
      "cell_type": "code",
      "source": [
        "const = tf.constant(10)\n",
        "\n",
        "fill_mat = tf.fill( (4,4), 10)\n",
        "\n",
        "fill_zero = tf.zeros((4,4))\n",
        "\n",
        "myrandn = tf.random.normal((4,4), mean = 2, stddev =0.5)\n",
        "\n",
        "my_ops = [const, fill_mat, fill_zero, myrandn]\n",
        "\n",
        "sess = tf.compat.v1.Session()\n",
        "result = sess.run(const)\n",
        "result\n"
      ],
      "metadata": {
        "colab": {
          "base_uri": "https://localhost:8080/"
        },
        "id": "DPtsPcjy03qw",
        "outputId": "75951b50-87ed-40f0-ca3c-1dbcca92eabd"
      },
      "id": "DPtsPcjy03qw",
      "execution_count": null,
      "outputs": [
        {
          "output_type": "execute_result",
          "data": {
            "text/plain": [
              "10"
            ]
          },
          "metadata": {},
          "execution_count": 28
        }
      ]
    },
    {
      "cell_type": "code",
      "source": [
        "sess = tf.compat.v1.Session()\n",
        "result = sess.run(fill_mat )\n",
        "result"
      ],
      "metadata": {
        "colab": {
          "base_uri": "https://localhost:8080/"
        },
        "id": "G1NDpaja23Wn",
        "outputId": "8a72263b-ed1f-462b-de70-f41396780b9e"
      },
      "id": "G1NDpaja23Wn",
      "execution_count": null,
      "outputs": [
        {
          "output_type": "execute_result",
          "data": {
            "text/plain": [
              "array([[10, 10, 10, 10],\n",
              "       [10, 10, 10, 10],\n",
              "       [10, 10, 10, 10],\n",
              "       [10, 10, 10, 10]], dtype=int32)"
            ]
          },
          "metadata": {},
          "execution_count": 18
        }
      ]
    },
    {
      "cell_type": "code",
      "source": [
        "sess = tf.compat.v1.Session()\n",
        "result = sess.run(fill_zero)\n",
        "result"
      ],
      "metadata": {
        "colab": {
          "base_uri": "https://localhost:8080/"
        },
        "id": "_C6p4j-_26LB",
        "outputId": "e110934e-ad5f-43a6-bf48-78fd316d79ad"
      },
      "id": "_C6p4j-_26LB",
      "execution_count": null,
      "outputs": [
        {
          "output_type": "execute_result",
          "data": {
            "text/plain": [
              "array([[0., 0., 0., 0.],\n",
              "       [0., 0., 0., 0.],\n",
              "       [0., 0., 0., 0.],\n",
              "       [0., 0., 0., 0.]], dtype=float32)"
            ]
          },
          "metadata": {},
          "execution_count": 19
        }
      ]
    },
    {
      "cell_type": "code",
      "source": [
        "sess = tf.compat.v1.Session()\n",
        "result = sess.run(myrandn)\n",
        "result"
      ],
      "metadata": {
        "colab": {
          "base_uri": "https://localhost:8080/"
        },
        "id": "AritEZmx28QJ",
        "outputId": "57ce3c23-2a74-4c59-8e17-2d95b2ce84e2"
      },
      "id": "AritEZmx28QJ",
      "execution_count": null,
      "outputs": [
        {
          "output_type": "execute_result",
          "data": {
            "text/plain": [
              "array([[1.1881309, 2.546825 , 2.0361106, 2.0137334],\n",
              "       [2.539907 , 2.474639 , 2.2981424, 3.2171803],\n",
              "       [2.0480635, 2.4358706, 1.7014809, 2.3479867],\n",
              "       [1.4695742, 0.9597193, 2.6892915, 2.066409 ]], dtype=float32)"
            ]
          },
          "metadata": {},
          "execution_count": 27
        }
      ]
    },
    {
      "cell_type": "code",
      "source": [
        "a = tf.constant([[1,2],\n",
        "                [3,4],\n",
        "                 [4,6]])\n",
        "\n",
        "b = tf.constant([[7,2,8],\n",
        "                [3,4,1]])\n",
        "\n",
        "result = tf.matmul(a,b)\n",
        "\n",
        "sess = tf.compat.v1.Session()\n",
        "result = sess.run(tf.matmul(a,b))\n",
        "result"
      ],
      "metadata": {
        "colab": {
          "base_uri": "https://localhost:8080/"
        },
        "id": "MkCl0q8r662d",
        "outputId": "dee9aefd-1a33-42a3-db31-dab3003ee3f9"
      },
      "id": "MkCl0q8r662d",
      "execution_count": null,
      "outputs": [
        {
          "output_type": "execute_result",
          "data": {
            "text/plain": [
              "array([[13, 10, 10],\n",
              "       [33, 22, 28],\n",
              "       [46, 32, 38]], dtype=int32)"
            ]
          },
          "metadata": {},
          "execution_count": 35
        }
      ]
    },
    {
      "cell_type": "code",
      "source": [
        "import tensorflow as tf\n",
        "tf.compat.v1.disable_eager_execution()\n",
        "\n",
        "n1 = tf.constant(3)\n",
        "n2 = tf.constant(4)\n",
        "\n",
        "n3 = n1 +  n2\n",
        "\n",
        "sess = tf.compat.v1.Session()\n",
        "result = sess.run(n3)\n",
        "result\n",
        "\n",
        "g = tf.Graph()\n",
        "print (g)\n",
        "\n",
        "graph1 = tf.compat.v1.get_default_graph()\n",
        "print (graph1)\n",
        "\n",
        "graph2 = tf.Graph()\n",
        "print (graph2)\n",
        "\n",
        "with graph2.as_default():\n",
        "  print(graph2 is tf.compat.v1.get_default_graph())\n",
        "\n",
        "print(graph2 is tf.compat.v1.get_default_graph())"
      ],
      "metadata": {
        "colab": {
          "base_uri": "https://localhost:8080/"
        },
        "id": "vRLTdKWnKyW8",
        "outputId": "63df26e4-9c9f-442d-a291-2e066db3c2c2"
      },
      "id": "vRLTdKWnKyW8",
      "execution_count": null,
      "outputs": [
        {
          "output_type": "stream",
          "name": "stdout",
          "text": [
            "<tensorflow.python.framework.ops.Graph object at 0x7e15de7d31c0>\n",
            "<tensorflow.python.framework.ops.Graph object at 0x7e15f0ae0140>\n",
            "<tensorflow.python.framework.ops.Graph object at 0x7e15de7d29c0>\n",
            "True\n",
            "False\n"
          ]
        }
      ]
    },
    {
      "cell_type": "code",
      "source": [
        "import tensorflow.compat.v1 as tf\n",
        "\n",
        "\n",
        "tf.compat.v1.disable_eager_execution()\n",
        "\n",
        "my_tensor = tf.random.uniform((4,4),minval=0, maxval =1, dtype='float32')\n",
        "\n",
        "sess = tf.compat.v1.Session()\n",
        "result = sess.run(my_tensor)\n",
        "result\n",
        "\n",
        "my_var = tf.Variable(initial_value = my_tensor)\n",
        "\n",
        "init = tf.compat.v1.global_variables_initializer()\n",
        "\n",
        "sess.run(init )\n",
        "sess.run(my_var)\n",
        "\n",
        "ph = tf.placeholder(tf.float32, None, None)\n",
        "ph\n",
        "\n",
        "\n"
      ],
      "metadata": {
        "colab": {
          "base_uri": "https://localhost:8080/"
        },
        "id": "TpP5IU7dEQYP",
        "outputId": "ebbdd749-9592-4d43-8aec-6b0bf334f8c3"
      },
      "id": "TpP5IU7dEQYP",
      "execution_count": null,
      "outputs": [
        {
          "output_type": "execute_result",
          "data": {
            "text/plain": [
              "<tf.Tensor 'Placeholder_3:0' shape=<unknown> dtype=float32>"
            ]
          },
          "metadata": {},
          "execution_count": 120
        }
      ]
    },
    {
      "cell_type": "code",
      "source": [
        "import numpy as np\n",
        "import tensorflow.compat.v1 as tf\n",
        "\n",
        "np.random.seed(100)\n",
        "tf.set_random_seed(100)\n",
        "\n",
        "rand_a = np.random.uniform(0,10,(5,5))\n",
        "print(rand_a)\n",
        "\n",
        "rand_b = np.random.uniform(0,10,(5,1))\n",
        "print(rand_b)\n",
        "\n",
        "a = tf.placeholder(tf.float32, None, None)\n",
        "b = tf.placeholder(tf.float32, None, None)\n",
        "\n",
        "add_op = a + b\n",
        "\n",
        "mult_op = a * b\n",
        "\n",
        "sess = tf.compat.v1.Session()\n",
        "result = sess.run(mult_op, feed_dict = {a:rand_a, b:rand_b})\n",
        "result\n",
        "\n",
        "\n",
        "\n",
        "\n",
        "\n"
      ],
      "metadata": {
        "colab": {
          "base_uri": "https://localhost:8080/"
        },
        "id": "DXaqnqxa452v",
        "outputId": "8c8b4022-5afd-4539-d6a1-86840771047e"
      },
      "id": "DXaqnqxa452v",
      "execution_count": null,
      "outputs": [
        {
          "output_type": "stream",
          "name": "stdout",
          "text": [
            "[[5.43404942 2.78369385 4.24517591 8.44776132 0.04718856]\n",
            " [1.21569121 6.70749085 8.25852755 1.3670659  5.75093329]\n",
            " [8.91321954 2.09202122 1.8532822  1.0837689  2.19697493]\n",
            " [9.78623785 8.11683149 1.71941013 8.16224749 2.74073747]\n",
            " [4.31704184 9.4002982  8.17649379 3.3611195  1.75410454]]\n",
            "[[3.72832046]\n",
            " [0.05688507]\n",
            " [2.52426353]\n",
            " [7.95662508]\n",
            " [0.15254971]]\n"
          ]
        },
        {
          "output_type": "execute_result",
          "data": {
            "text/plain": [
              "array([[2.0259878e+01, 1.0378502e+01, 1.5827375e+01, 3.1495962e+01,\n",
              "        1.7593408e-01],\n",
              "       [6.9154687e-02, 3.8155612e-01, 4.6978697e-01, 7.7765644e-02,\n",
              "        3.2714227e-01],\n",
              "       [2.2499315e+01, 5.2808132e+00, 4.6781731e+00, 2.7357185e+00,\n",
              "        5.5457439e+00],\n",
              "       [7.7865425e+01, 6.4582588e+01, 1.3680702e+01, 6.4943947e+01,\n",
              "        2.1807020e+01],\n",
              "       [6.5856349e-01, 1.4340128e+00, 1.2473217e+00, 5.1273781e-01,\n",
              "        2.6758814e-01]], dtype=float32)"
            ]
          },
          "metadata": {},
          "execution_count": 140
        }
      ]
    },
    {
      "cell_type": "code",
      "source": [
        "n_features = 10\n",
        "n_dense_neurons = 3\n",
        "\n",
        "x = tf.placeholder(tf.float32, (None, n_features))\n",
        "W = tf.Variable(tf.random_normal([n_features,n_dense_neurons]))\n",
        "b = tf.Variable([n_dense_neurons])\n",
        "print(b)\n",
        "\n",
        "xW = tf.matmul(x,W)\n",
        "\n",
        "z = tf.add(xW, tf.cast(b,tf.float32))\n",
        "\n",
        "a = tf.tanh(z)\n",
        "\n",
        "init = tf.compat.v1.global_variables_initializer()\n",
        "sess.run(init )\n",
        "\n",
        "layer_out = sess.run(a, feed_dict={x:np.random.random([1,n_features])})\n",
        "\n",
        "print(layer_out)\n",
        "\n",
        "\n",
        "\n",
        "\n",
        "\n"
      ],
      "metadata": {
        "colab": {
          "base_uri": "https://localhost:8080/"
        },
        "id": "HHflp0QVAu86",
        "outputId": "a236871b-6ebb-4c9c-c5c2-1c5164d07f5a"
      },
      "id": "HHflp0QVAu86",
      "execution_count": 43,
      "outputs": [
        {
          "output_type": "stream",
          "name": "stdout",
          "text": [
            "<tf.Variable 'Variable_76:0' shape=(1,) dtype=int32>\n",
            "[[ 0.9659712   0.96366465 -0.47413892]]\n"
          ]
        }
      ]
    },
    {
      "cell_type": "markdown",
      "source": [
        "**Simple Regression Example::**"
      ],
      "metadata": {
        "id": "Q_VuajXaNhMh"
      },
      "id": "Q_VuajXaNhMh"
    },
    {
      "cell_type": "code",
      "source": [
        "import numpy as np\n",
        "import pandas as pd\n",
        "import matplotlib.pyplot as plt\n",
        "\n",
        "x_data = np.linspace(0,5,10) + np.random.uniform(-1.5, 1.5, 10)\n",
        "print(x_data)\n",
        "y_label = np.linspace(0,5,10) + np.random.uniform(-1.5, 1.5, 10)\n",
        "print(y_label)\n",
        "\n",
        "plt.plot(x_data, y_label, '*')\n",
        "\n",
        "\n",
        "\n"
      ],
      "metadata": {
        "colab": {
          "base_uri": "https://localhost:8080/",
          "height": 519
        },
        "id": "_KPk45BfNqAt",
        "outputId": "9a6dfe57-b1a1-4a78-eba4-676f15242a4e"
      },
      "id": "_KPk45BfNqAt",
      "execution_count": 57,
      "outputs": [
        {
          "output_type": "stream",
          "name": "stdout",
          "text": [
            "[1.26014113 0.49847385 0.98977212 1.96360413 2.52017856 2.79089813\n",
            " 2.75396892 4.01294783 5.71922527 6.41165241]\n",
            "[-0.31261617  1.45179137  1.51637555  0.85657416  0.8758435   1.3631692\n",
            "  2.20187659  3.04952644  5.43151271  4.35647548]\n"
          ]
        },
        {
          "output_type": "execute_result",
          "data": {
            "text/plain": [
              "[<matplotlib.lines.Line2D at 0x7efe7b737850>]"
            ]
          },
          "metadata": {},
          "execution_count": 57
        },
        {
          "output_type": "display_data",
          "data": {
            "text/plain": [
              "<Figure size 640x480 with 1 Axes>"
            ],
            "image/png": "[encoded data removed]"
          },
          "metadata": {}
        }
      ]
    },
    {
      "cell_type": "code",
      "source": [
        "np.random.rand(2)\n"
      ],
      "metadata": {
        "colab": {
          "base_uri": "https://localhost:8080/"
        },
        "id": "PUlLDSmdP1hS",
        "outputId": "bac8384c-827e-46a3-c093-5ab139fbea38"
      },
      "id": "PUlLDSmdP1hS",
      "execution_count": 62,
      "outputs": [
        {
          "output_type": "execute_result",
          "data": {
            "text/plain": [
              "array([0.89767831, 0.26393099])"
            ]
          },
          "metadata": {},
          "execution_count": 62
        }
      ]
    },
    {
      "cell_type": "code",
      "source": [
        "m = tf.Variable(0.89)\n",
        "b = tf.Variable(0.26)\n",
        "\n",
        "error = 0\n",
        "for x,y in zip(x_data, y_label):\n",
        "  y_hat = m*x +b\n",
        "\n",
        "  error += (y-y_hat)**2\n"
      ],
      "metadata": {
        "id": "EfzdHc3PQHVp"
      },
      "id": "EfzdHc3PQHVp",
      "execution_count": 65,
      "outputs": []
    },
    {
      "cell_type": "code",
      "source": [
        "optimizer = tf.train.GradientDescentOptimizer(learning_rate=0.001)\n",
        "train = optimizer.minimize(error)\n",
        "\n",
        "init = tf.compat.v1.global_variables_initializer()\n",
        "sess.run(init)\n",
        "\n",
        "training_steps = 100\n",
        "\n",
        "for i in range(training_steps):\n",
        "  sess.run(train)\n",
        "\n",
        "final_slope, final_intercept =  sess.run([m,b])\n",
        "\n",
        "print(final_slope)\n",
        "print(final_intercept)\n",
        "\n",
        "x_test = np.linspace(-2, 11, 10)\n",
        "\n",
        "y_pred_plot = final_slope * x_test + final_intercept\n",
        "\n",
        "plt.plot(x_test, y_pred_plot)\n",
        "plt.plot(x_data, y_label, '*')\n"
      ],
      "metadata": {
        "colab": {
          "base_uri": "https://localhost:8080/",
          "height": 484
        },
        "id": "H-sxfh8uTDsk",
        "outputId": "4f8971ea-381e-4bae-b428-5aa016a60dcf"
      },
      "id": "H-sxfh8uTDsk",
      "execution_count": 78,
      "outputs": [
        {
          "output_type": "stream",
          "name": "stdout",
          "text": [
            "0.7187342\n",
            "0.056743186\n"
          ]
        },
        {
          "output_type": "execute_result",
          "data": {
            "text/plain": [
              "[<matplotlib.lines.Line2D at 0x7efe78ddf400>]"
            ]
          },
          "metadata": {},
          "execution_count": 78
        },
        {
          "output_type": "display_data",
          "data": {
            "text/plain": [
              "<Figure size 640x480 with 1 Axes>"
            ],
            "image/png": "[encoded data removed]"
          },
          "metadata": {}
        }
      ]
    },
    {
      "cell_type": "code",
      "source": [],
      "metadata": {
        "id": "3E7GvgF_cvb7"
      },
      "id": "3E7GvgF_cvb7",
      "execution_count": null,
      "outputs": []
    },
    {
      "cell_type": "code",
      "source": [
        "import numpy as np\n",
        "import pandas as pd\n",
        "import matplotlib.pyplot as plt\n",
        "import tensorflow.compat.v1 as tf\n",
        "\n",
        "x_data = np.linspace(0.0, 10, 1000000)\n",
        "noise = np.random.randn(len(x_data))\n",
        "\n",
        "y_true = 0.5 * x_data + 5 + noise\n",
        "\n",
        "x_df = pd.DataFrame(data = x_data, columns=['X Data'])\n",
        "y_df = pd.DataFrame(data = y_true, columns=['Y'])\n",
        "\n",
        "my_data = pd.concat([x_df, y_df],axis=1)\n",
        "\n",
        "batch_size = 10\n",
        "\n",
        "m = tf.Variable(0.81)\n",
        "b = tf.Variable(0.17)\n",
        "\n",
        "xph = tf.placeholder(tf.float32, [batch_size])\n",
        "yph = tf.placeholder(tf.float32, [batch_size])\n",
        "\n",
        "y_model = m*xph + b\n",
        "\n",
        "error = tf.reduce_sum(tf.square(yph-y_model))\n",
        "optimizer = tf.train.GradientDescentOptimizer(learning_rate=0.001)\n",
        "train = optimizer.minimize(error)\n",
        "\n",
        "init = tf.compat.v1.global_variables_initializer()\n",
        "sess.run(init )\n",
        "\n",
        "batches = 1000\n",
        "for i in range(batches):\n",
        "  rand_ind = np.random.randint(len(x_data), size = batch_size)\n",
        "  #print(i , rand_id)\n",
        "  feed = {xph:x_data[rand_ind], yph:y_true[rand_ind]}\n",
        "  sess.run(train, feed_dict=feed)\n",
        "  model_m, model_b = sess.run([m,b])\n",
        "\n",
        "\n",
        "y_hat = x_data*model_m + model_b\n",
        "\n",
        "my_data.sample(250).plot(kind = 'scatter', x = 'X Data', y ='Y')\n",
        "plt.plot(x_data, y_hat, 'r')\n",
        "\n",
        "\n",
        "\n",
        "\n",
        "\n",
        "\n",
        "\n"
      ],
      "metadata": {
        "colab": {
          "base_uri": "https://localhost:8080/",
          "height": 467
        },
        "id": "fHH4pOKocyzC",
        "outputId": "89494702-aa64-47f9-c451-afd649df600d"
      },
      "id": "fHH4pOKocyzC",
      "execution_count": 123,
      "outputs": [
        {
          "output_type": "execute_result",
          "data": {
            "text/plain": [
              "[<matplotlib.lines.Line2D at 0x7efe782001c0>]"
            ]
          },
          "metadata": {},
          "execution_count": 123
        },
        {
          "output_type": "display_data",
          "data": {
            "text/plain": [
              "<Figure size 640x480 with 1 Axes>"
            ],
            "image/png": "[encoded data removed]"
          },
          "metadata": {}
        }
      ]
    },
    {
      "cell_type": "markdown",
      "source": [
        "### **TF Classification Example**"
      ],
      "metadata": {
        "id": "BcsyyVkdWtfM"
      },
      "id": "BcsyyVkdWtfM"
    },
    {
      "cell_type": "code",
      "source": [
        "import pandas as pd\n",
        "import tensorflow.compat.v1 as tf\n",
        "from sklearn.preprocessing import MinMaxScaler\n",
        "from sklearn.model_selection import train_test_split\n",
        "diabetes = pd.read_csv(\"/content/sample_data/pima-indians-diabetes.csv\")\n",
        "diabetes.head()\n",
        "\n",
        "#diabetes.columns\n",
        "\n",
        "cols_to_norm = ['Number_pregnant', 'Glucose_concentration', 'Blood_pressure', 'Triceps',\n",
        "       'Insulin', 'BMI', 'Pedigree' ]\n",
        "\n",
        "diabetes[cols_to_norm].head()\n",
        "\n",
        "\n",
        "scalar = MinMaxScaler()\n",
        "scalar.fit(diabetes[cols_to_norm] )\n",
        "scalar.transform(diabetes[cols_to_norm])\n",
        "\n",
        "Number_pregnant = tf.feature_column.numeric_column('Number_pregnant')\n",
        "Glucose_concentration = tf.feature_column.numeric_column('Glucose_concentration')\n",
        "Blood_pressure = tf.feature_column.numeric_column('Blood_pressure')\n",
        "Triceps = tf.feature_column.numeric_column('Triceps')\n",
        "Insulin = tf.feature_column.numeric_column('Insulin')\n",
        "BMI = tf.feature_column.numeric_column('BMI')\n",
        "Pedigree = tf.feature_column.numeric_column('Pedigree')\n",
        "Age = tf.feature_column.numeric_column('Age')\n",
        "\n",
        "assigned_group = tf.feature_column.categorical_column_with_vocabulary_list('Group',['A','B','C', 'D'])\n",
        "#assigned_group = tf.feature_column.categorical_column_with_hash_bucket('Group', hash_bucket_size=10)\n",
        "\n",
        "#diabetes['Age'].hist( )\n",
        "\n",
        "age_bucket = tf.feature_column.bucketized_column(Age,boundaries=[20,30,40,50,60,70,80])\n",
        "\n",
        "feat_cols =[\n",
        "Number_pregnant,\n",
        "Glucose_concentration,\n",
        "Blood_pressure,\n",
        "Triceps,\n",
        "Insulin,\n",
        "BMI,\n",
        "Pedigree,\n",
        "assigned_group,\n",
        "age_bucket]\n",
        "\n",
        "\n",
        "x_data = diabetes.drop('Class', axis =1)\n",
        "#x_data.head()\n",
        "\n",
        "labels = diabetes['Class']\n",
        "#labels\n",
        "\n",
        "X_train, X_test, y_train, y_test = train_test_split(x_data, labels,test_size=0.3, random_state=101)\n",
        "type(X_train)\n",
        "#X_train.size\n",
        "\n",
        "input_func = tf.estimator.inputs.pandas_input_fn(x=X_train, y=y_train, batch_size=10,\n",
        "                                                 shuffle=True)\n",
        "\n",
        "model = tf.estimator.LinearClassifier(feature_columns=feat_cols, n_classes=2)\n",
        "\n",
        "model.train(input_fn=input_func, steps=1000)\n",
        "\n",
        "eval_input_func = tf.estimator.inputs.pandas_input_fn(x=X_test, y=y_test, batch_size=10,\n",
        "                                                 shuffle=False)\n",
        "result = model.evaluate(eval_input_func)\n",
        "result"
      ],
      "metadata": {
        "colab": {
          "base_uri": "https://localhost:8080/"
        },
        "id": "QVh36SHhYKjJ",
        "outputId": "d59605b3-e966-4fb5-bc1c-753195f604b1"
      },
      "id": "QVh36SHhYKjJ",
      "execution_count": 8,
      "outputs": [
        {
          "output_type": "stream",
          "name": "stderr",
          "text": [
            "WARNING:tensorflow:Using temporary folder as model directory: /tmp/tmp4lmtyfqt\n",
            "/usr/local/lib/python3.10/dist-packages/tensorflow_estimator/python/estimator/canned/linear.py:1468: UserWarning: `layer.add_variable` is deprecated and will be removed in a future version. Please use `layer.add_weight` method instead.\n",
            "  self.bias = self.add_variable(\n",
            "/usr/local/lib/python3.10/dist-packages/tensorflow_estimator/python/estimator/canned/linear.py:1468: UserWarning: `layer.add_variable` is deprecated and will be removed in a future version. Please use `layer.add_weight` method instead.\n",
            "  self.bias = self.add_variable(\n",
            "WARNING:tensorflow:Trapezoidal rule is known to produce incorrect PR-AUCs; please switch to \"careful_interpolation\" instead.\n",
            "WARNING:tensorflow:Trapezoidal rule is known to produce incorrect PR-AUCs; please switch to \"careful_interpolation\" instead.\n"
          ]
        },
        {
          "output_type": "execute_result",
          "data": {
            "text/plain": [
              "{'accuracy': 0.6666667,\n",
              " 'accuracy_baseline': 0.64935064,\n",
              " 'auc': 0.7220988,\n",
              " 'auc_precision_recall': 0.5643865,\n",
              " 'average_loss': 0.6062258,\n",
              " 'label/mean': 0.35064936,\n",
              " 'loss': 5.8349233,\n",
              " 'precision': 0.5208333,\n",
              " 'prediction/mean': 0.45726377,\n",
              " 'recall': 0.61728394,\n",
              " 'global_step': 54}"
            ]
          },
          "metadata": {},
          "execution_count": 8
        }
      ]
    }
  ],
  "metadata": {
    "colab": {
      "provenance": [],
      "include_colab_link": true
    },
    "language_info": {
      "name": "python"
    },
    "kernelspec": {
      "name": "python3",
      "display_name": "Python 3"
    }
  },
  "nbformat": 4,
  "nbformat_minor": 5
}