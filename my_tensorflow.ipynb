{
  "cells": [
    {
      "cell_type": "markdown",
      "source": [
        "# **Learn Tensorflow**"
      ],
      "metadata": {
        "id": "_JnFiBXLdBSh"
      },
      "id": "_JnFiBXLdBSh"
    },
    {
      "cell_type": "code",
      "source": [
        "print('Tensorflow')"
      ],
      "metadata": {
        "id": "jRZ3GZmwc35U",
        "outputId": "859527c8-3da4-4313-bef4-dd7c17dfebfa",
        "colab": {
          "base_uri": "https://localhost:8080/"
        }
      },
      "id": "jRZ3GZmwc35U",
      "execution_count": 2,
      "outputs": [
        {
          "output_type": "stream",
          "name": "stdout",
          "text": [
            "Tensorflow\n"
          ]
        }
      ]
    },
    {
      "cell_type": "code",
      "source": [
        "import tensorflow as tf\n",
        "tf.compat.v1.disable_eager_execution()\n",
        "\n",
        "hello = tf.constant(\"Hellooooooooooooo \")\n",
        "world = tf.constant(\"World! \")\n",
        "\n",
        "type (hello)\n",
        "\n",
        "sess = tf.compat.v1.Session()\n",
        "result = sess.run(hello+world)\n",
        "\n",
        "result"
      ],
      "metadata": {
        "id": "9wnmJjRVdG6G",
        "outputId": "70b7bbdb-254f-4473-8868-ceb424c4bb2d",
        "colab": {
          "base_uri": "https://localhost:8080/"
        }
      },
      "id": "9wnmJjRVdG6G",
      "execution_count": 3,
      "outputs": [
        {
          "output_type": "execute_result",
          "data": {
            "text/plain": [
              "b'Hellooooooooooooo World! '"
            ]
          },
          "metadata": {},
          "execution_count": 3
        }
      ]
    },
    {
      "cell_type": "code",
      "source": [
        "import tensorflow as tf\n",
        "tf.compat.v1.disable_eager_execution()\n",
        "\n",
        "a = tf.constant(10)\n",
        "b = tf.constant(450)\n",
        "sess = tf.compat.v1.Session()\n",
        "result = sess.run(a+b)\n",
        "result"
      ],
      "metadata": {
        "id": "VTMWaXIrzmz-",
        "outputId": "0929f7ac-d62b-40fb-fcb4-4c16f0ac8c13",
        "colab": {
          "base_uri": "https://localhost:8080/"
        }
      },
      "id": "VTMWaXIrzmz-",
      "execution_count": 7,
      "outputs": [
        {
          "output_type": "execute_result",
          "data": {
            "text/plain": [
              "460"
            ]
          },
          "metadata": {},
          "execution_count": 7
        }
      ]
    },
    {
      "cell_type": "code",
      "source": [
        "const = tf.constant(10)\n",
        "\n",
        "fill_mat = tf.fill( (4,4), 10)\n",
        "\n",
        "fill_zero = tf.zeros((4,4))\n",
        "\n",
        "myrandn = tf.random.normal((4,4), mean = 2, stddev =0.5)\n",
        "\n",
        "my_ops = [const, fill_mat, fill_zero, myrandn]\n",
        "\n",
        "sess = tf.compat.v1.Session()\n",
        "result = sess.run(const)\n",
        "result\n"
      ],
      "metadata": {
        "id": "DPtsPcjy03qw",
        "outputId": "767d1d90-9f8b-44f5-83ca-2a1f9593d1ef",
        "colab": {
          "base_uri": "https://localhost:8080/"
        }
      },
      "id": "DPtsPcjy03qw",
      "execution_count": 26,
      "outputs": [
        {
          "output_type": "execute_result",
          "data": {
            "text/plain": [
              "10"
            ]
          },
          "metadata": {},
          "execution_count": 26
        }
      ]
    },
    {
      "cell_type": "code",
      "source": [
        "sess = tf.compat.v1.Session()\n",
        "result = sess.run(fill_mat )\n",
        "result"
      ],
      "metadata": {
        "id": "G1NDpaja23Wn",
        "outputId": "8a72263b-ed1f-462b-de70-f41396780b9e",
        "colab": {
          "base_uri": "https://localhost:8080/"
        }
      },
      "id": "G1NDpaja23Wn",
      "execution_count": 18,
      "outputs": [
        {
          "output_type": "execute_result",
          "data": {
            "text/plain": [
              "array([[10, 10, 10, 10],\n",
              "       [10, 10, 10, 10],\n",
              "       [10, 10, 10, 10],\n",
              "       [10, 10, 10, 10]], dtype=int32)"
            ]
          },
          "metadata": {},
          "execution_count": 18
        }
      ]
    },
    {
      "cell_type": "code",
      "source": [
        "sess = tf.compat.v1.Session()\n",
        "result = sess.run(fill_zero)\n",
        "result"
      ],
      "metadata": {
        "id": "_C6p4j-_26LB",
        "outputId": "e110934e-ad5f-43a6-bf48-78fd316d79ad",
        "colab": {
          "base_uri": "https://localhost:8080/"
        }
      },
      "id": "_C6p4j-_26LB",
      "execution_count": 19,
      "outputs": [
        {
          "output_type": "execute_result",
          "data": {
            "text/plain": [
              "array([[0., 0., 0., 0.],\n",
              "       [0., 0., 0., 0.],\n",
              "       [0., 0., 0., 0.],\n",
              "       [0., 0., 0., 0.]], dtype=float32)"
            ]
          },
          "metadata": {},
          "execution_count": 19
        }
      ]
    },
    {
      "cell_type": "code",
      "source": [
        "sess = tf.compat.v1.Session()\n",
        "result = sess.run(myrandn)\n",
        "result"
      ],
      "metadata": {
        "id": "AritEZmx28QJ",
        "outputId": "57ce3c23-2a74-4c59-8e17-2d95b2ce84e2",
        "colab": {
          "base_uri": "https://localhost:8080/"
        }
      },
      "id": "AritEZmx28QJ",
      "execution_count": 27,
      "outputs": [
        {
          "output_type": "execute_result",
          "data": {
            "text/plain": [
              "array([[1.1881309, 2.546825 , 2.0361106, 2.0137334],\n",
              "       [2.539907 , 2.474639 , 2.2981424, 3.2171803],\n",
              "       [2.0480635, 2.4358706, 1.7014809, 2.3479867],\n",
              "       [1.4695742, 0.9597193, 2.6892915, 2.066409 ]], dtype=float32)"
            ]
          },
          "metadata": {},
          "execution_count": 27
        }
      ]
    }
  ],
  "metadata": {
    "colab": {
      "provenance": []
    },
    "language_info": {
      "name": "python"
    },
    "kernelspec": {
      "name": "python3",
      "display_name": "Python 3"
    }
  },
  "nbformat": 4,
  "nbformat_minor": 5
}