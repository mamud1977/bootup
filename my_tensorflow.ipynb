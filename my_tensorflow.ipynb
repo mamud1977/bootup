{
  "cells": [
    {
      "cell_type": "markdown",
      "metadata": {
        "id": "view-in-github",
        "colab_type": "text"
      },
      "source": [
        "<a href=\"https://colab.research.google.com/github/mamud1977/bootup/blob/main/my_tensorflow.ipynb\" target=\"_parent\"><img src=\"https://colab.research.google.com/assets/colab-badge.svg\" alt=\"Open In Colab\"/></a>"
      ]
    },
    {
      "cell_type": "markdown",
      "source": [
        "# **Tensorflow.....**"
      ],
      "metadata": {
        "id": "_JnFiBXLdBSh"
      },
      "id": "_JnFiBXLdBSh"
    },
    {
      "cell_type": "markdown",
      "source": [],
      "metadata": {
        "id": "ErYMSwBd8Ztl"
      },
      "id": "ErYMSwBd8Ztl"
    },
    {
      "cell_type": "code",
      "source": [
        "print('Tensorflow')"
      ],
      "metadata": {
        "id": "jRZ3GZmwc35U",
        "outputId": "859527c8-3da4-4313-bef4-dd7c17dfebfa",
        "colab": {
          "base_uri": "https://localhost:8080/"
        }
      },
      "id": "jRZ3GZmwc35U",
      "execution_count": 2,
      "outputs": [
        {
          "output_type": "stream",
          "name": "stdout",
          "text": [
            "Tensorflow\n"
          ]
        }
      ]
    },
    {
      "cell_type": "code",
      "source": [
        "import tensorflow as tf\n",
        "tf.compat.v1.disable_eager_execution()\n",
        "\n",
        "hello = tf.constant(\"Hellooooooooooooo \")\n",
        "world = tf.constant(\"World! \")\n",
        "\n",
        "type (hello)\n",
        "\n",
        "sess = tf.compat.v1.Session()\n",
        "result = sess.run(hello+world)\n",
        "\n",
        "result"
      ],
      "metadata": {
        "id": "9wnmJjRVdG6G",
        "outputId": "70b7bbdb-254f-4473-8868-ceb424c4bb2d",
        "colab": {
          "base_uri": "https://localhost:8080/"
        }
      },
      "id": "9wnmJjRVdG6G",
      "execution_count": 3,
      "outputs": [
        {
          "output_type": "execute_result",
          "data": {
            "text/plain": [
              "b'Hellooooooooooooo World! '"
            ]
          },
          "metadata": {},
          "execution_count": 3
        }
      ]
    },
    {
      "cell_type": "code",
      "source": [
        "import tensorflow as tf\n",
        "tf.compat.v1.disable_eager_execution()\n",
        "\n",
        "a = tf.constant(10)\n",
        "b = tf.constant(450)\n",
        "sess = tf.compat.v1.Session()\n",
        "result = sess.run(a+b)\n",
        "result"
      ],
      "metadata": {
        "colab": {
          "base_uri": "https://localhost:8080/"
        },
        "id": "VTMWaXIrzmz-",
        "outputId": "0929f7ac-d62b-40fb-fcb4-4c16f0ac8c13"
      },
      "id": "VTMWaXIrzmz-",
      "execution_count": 7,
      "outputs": [
        {
          "output_type": "execute_result",
          "data": {
            "text/plain": [
              "460"
            ]
          },
          "metadata": {},
          "execution_count": 7
        }
      ]
    },
    {
      "cell_type": "code",
      "source": [
        "const = tf.constant(10)\n",
        "\n",
        "fill_mat = tf.fill( (4,4), 10)\n",
        "\n",
        "fill_zero = tf.zeros((4,4))\n",
        "\n",
        "myrandn = tf.random.normal((4,4), mean = 2, stddev =0.5)\n",
        "\n",
        "my_ops = [const, fill_mat, fill_zero, myrandn]\n",
        "\n",
        "sess = tf.compat.v1.Session()\n",
        "result = sess.run(const)\n",
        "result\n"
      ],
      "metadata": {
        "colab": {
          "base_uri": "https://localhost:8080/"
        },
        "id": "DPtsPcjy03qw",
        "outputId": "75951b50-87ed-40f0-ca3c-1dbcca92eabd"
      },
      "id": "DPtsPcjy03qw",
      "execution_count": 28,
      "outputs": [
        {
          "output_type": "execute_result",
          "data": {
            "text/plain": [
              "10"
            ]
          },
          "metadata": {},
          "execution_count": 28
        }
      ]
    },
    {
      "cell_type": "code",
      "source": [
        "sess = tf.compat.v1.Session()\n",
        "result = sess.run(fill_mat )\n",
        "result"
      ],
      "metadata": {
        "colab": {
          "base_uri": "https://localhost:8080/"
        },
        "id": "G1NDpaja23Wn",
        "outputId": "8a72263b-ed1f-462b-de70-f41396780b9e"
      },
      "id": "G1NDpaja23Wn",
      "execution_count": 18,
      "outputs": [
        {
          "output_type": "execute_result",
          "data": {
            "text/plain": [
              "array([[10, 10, 10, 10],\n",
              "       [10, 10, 10, 10],\n",
              "       [10, 10, 10, 10],\n",
              "       [10, 10, 10, 10]], dtype=int32)"
            ]
          },
          "metadata": {},
          "execution_count": 18
        }
      ]
    },
    {
      "cell_type": "code",
      "source": [
        "sess = tf.compat.v1.Session()\n",
        "result = sess.run(fill_zero)\n",
        "result"
      ],
      "metadata": {
        "colab": {
          "base_uri": "https://localhost:8080/"
        },
        "id": "_C6p4j-_26LB",
        "outputId": "e110934e-ad5f-43a6-bf48-78fd316d79ad"
      },
      "id": "_C6p4j-_26LB",
      "execution_count": 19,
      "outputs": [
        {
          "output_type": "execute_result",
          "data": {
            "text/plain": [
              "array([[0., 0., 0., 0.],\n",
              "       [0., 0., 0., 0.],\n",
              "       [0., 0., 0., 0.],\n",
              "       [0., 0., 0., 0.]], dtype=float32)"
            ]
          },
          "metadata": {},
          "execution_count": 19
        }
      ]
    },
    {
      "cell_type": "code",
      "source": [
        "sess = tf.compat.v1.Session()\n",
        "result = sess.run(myrandn)\n",
        "result"
      ],
      "metadata": {
        "colab": {
          "base_uri": "https://localhost:8080/"
        },
        "id": "AritEZmx28QJ",
        "outputId": "57ce3c23-2a74-4c59-8e17-2d95b2ce84e2"
      },
      "id": "AritEZmx28QJ",
      "execution_count": 27,
      "outputs": [
        {
          "output_type": "execute_result",
          "data": {
            "text/plain": [
              "array([[1.1881309, 2.546825 , 2.0361106, 2.0137334],\n",
              "       [2.539907 , 2.474639 , 2.2981424, 3.2171803],\n",
              "       [2.0480635, 2.4358706, 1.7014809, 2.3479867],\n",
              "       [1.4695742, 0.9597193, 2.6892915, 2.066409 ]], dtype=float32)"
            ]
          },
          "metadata": {},
          "execution_count": 27
        }
      ]
    },
    {
      "cell_type": "code",
      "source": [
        "a = tf.constant([[1,2],\n",
        "                [3,4],\n",
        "                 [4,6]])\n",
        "\n",
        "b = tf.constant([[7,2,8],\n",
        "                [3,4,1]])\n",
        "\n",
        "result = tf.matmul(a,b)\n",
        "\n",
        "sess = tf.compat.v1.Session()\n",
        "result = sess.run(tf.matmul(a,b))\n",
        "result"
      ],
      "metadata": {
        "colab": {
          "base_uri": "https://localhost:8080/"
        },
        "id": "MkCl0q8r662d",
        "outputId": "dee9aefd-1a33-42a3-db31-dab3003ee3f9"
      },
      "id": "MkCl0q8r662d",
      "execution_count": 35,
      "outputs": [
        {
          "output_type": "execute_result",
          "data": {
            "text/plain": [
              "array([[13, 10, 10],\n",
              "       [33, 22, 28],\n",
              "       [46, 32, 38]], dtype=int32)"
            ]
          },
          "metadata": {},
          "execution_count": 35
        }
      ]
    },
    {
      "cell_type": "code",
      "source": [
        "import tensorflow as tf\n",
        "tf.compat.v1.disable_eager_execution()\n",
        "\n",
        "n1 = tf.constant(3)\n",
        "n2 = tf.constant(4)\n",
        "\n",
        "n3 = n1 +  n2\n",
        "\n",
        "sess = tf.compat.v1.Session()\n",
        "result = sess.run(n3)\n",
        "result\n",
        "\n",
        "g = tf.Graph()\n",
        "print (g)\n",
        "\n",
        "graph1 = tf.compat.v1.get_default_graph()\n",
        "print (graph1)\n",
        "\n",
        "graph2 = tf.Graph()\n",
        "print (graph2)\n",
        "\n",
        "with graph2.as_default():\n",
        "  print(graph2 is tf.compat.v1.get_default_graph())\n",
        "\n",
        "print(graph2 is tf.compat.v1.get_default_graph())"
      ],
      "metadata": {
        "colab": {
          "base_uri": "https://localhost:8080/"
        },
        "id": "vRLTdKWnKyW8",
        "outputId": "5e6e6858-282a-44d4-b10e-29b9cb9dbcc1"
      },
      "id": "vRLTdKWnKyW8",
      "execution_count": 52,
      "outputs": [
        {
          "output_type": "stream",
          "name": "stdout",
          "text": [
            "<tensorflow.python.framework.ops.Graph object at 0x7e15de898c40>\n",
            "<tensorflow.python.framework.ops.Graph object at 0x7e15f0ae0140>\n",
            "<tensorflow.python.framework.ops.Graph object at 0x7e15de8993c0>\n",
            "True\n",
            "False\n"
          ]
        }
      ]
    },
    {
      "cell_type": "markdown",
      "source": [
        "**Variables & Placeholders**"
      ],
      "metadata": {
        "id": "HKgCW-KJ4mVw"
      },
      "id": "HKgCW-KJ4mVw"
    },
    {
      "cell_type": "markdown",
      "source": [],
      "metadata": {
        "id": "voZprbQx4vE8"
      },
      "id": "voZprbQx4vE8"
    },
    {
      "cell_type": "code",
      "source": [
        "import tensorflow as tf\n",
        "tf.compat.v1.disable_eager_execution()\n",
        "\n",
        "my_tensor = tf.random.uniform((4,4),minval=0, maxval =1, dtype='float16')\n",
        "\n",
        "sess = tf.compat.v1.Session()\n",
        "result = sess.run(my_tensor)\n",
        "result\n",
        "\n",
        "\n"
      ],
      "metadata": {
        "colab": {
          "base_uri": "https://localhost:8080/"
        },
        "id": "mCQrHOuV4tSe",
        "outputId": "37ced350-84a9-4f24-c5d9-16a9a2c1950b"
      },
      "id": "mCQrHOuV4tSe",
      "execution_count": 57,
      "outputs": [
        {
          "output_type": "execute_result",
          "data": {
            "text/plain": [
              "array([[0.167 , 0.957 , 0.4297, 0.3428],\n",
              "       [0.0293, 0.8594, 0.705 , 0.623 ],\n",
              "       [0.3418, 0.2197, 0.3623, 0.4434],\n",
              "       [0.2764, 0.2295, 0.254 , 0.7754]], dtype=float16)"
            ]
          },
          "metadata": {},
          "execution_count": 57
        }
      ]
    },
    {
      "cell_type": "code",
      "source": [],
      "metadata": {
        "id": "DXaqnqxa452v"
      },
      "id": "DXaqnqxa452v",
      "execution_count": null,
      "outputs": []
    }
  ],
  "metadata": {
    "colab": {
      "provenance": [],
      "include_colab_link": true
    },
    "language_info": {
      "name": "python"
    },
    "kernelspec": {
      "name": "python3",
      "display_name": "Python 3"
    }
  },
  "nbformat": 4,
  "nbformat_minor": 5
}