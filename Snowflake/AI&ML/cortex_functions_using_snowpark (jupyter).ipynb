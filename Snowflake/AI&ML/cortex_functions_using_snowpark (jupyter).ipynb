{
 "cells": [
  {
   "cell_type": "code",
   "execution_count": 67,
   "id": "20f25b6b",
   "metadata": {},
   "outputs": [],
   "source": [
    "import os\n",
    "import json\n",
    "from snowflake.snowpark import Session\n",
    "from snowflake.cortex import Complete, ExtractAnswer, Sentiment, Summarize, Translate\n",
    "\n",
    "sess_connector = {\n",
    "       \"user\":'Welcome123',\n",
    "       \"password\":'Welcome123$',\n",
    "       \"account\":'VVROJOJ-KCB19941',\n",
    "       \"warehouse\":'DASH_S',\n",
    "       \"database\":'DASH_DB',\n",
    "       \"schema\":'DASH_SCHEMA'\n",
    "       }\n",
    "\n",
    "sess = Session.builder.configs(sess_connector).create()\n",
    "\n",
    "#df = sess.sql(\"show tables\")\n",
    "#df.show()"
   ]
  },
  {
   "cell_type": "code",
   "execution_count": 68,
   "id": "5aa7e61a",
   "metadata": {},
   "outputs": [
    {
     "data": {
      "text/plain": [
       "'The Snowflake company was founded by Thierry Cruanes, Marcin Zukowski, and Benoit Dageville in 2012 and is based in Bozeman, Montana.'"
      ]
     },
     "execution_count": 68,
     "metadata": {},
     "output_type": "execute_result"
    }
   ],
   "source": [
    "v_text = \"\"\"\n",
    "    The Snowflake company was co-founded by Thierry Cruanes, Marcin Zukowski,\n",
    "    and Benoit Dageville in 2012 and is headquartered in Bozeman, Montana.\n",
    "\"\"\"\n",
    "\n",
    "Summarize(v_text, session=sess)\n"
   ]
  },
  {
   "cell_type": "code",
   "execution_count": 69,
   "id": "6d2c313f",
   "metadata": {},
   "outputs": [
    {
     "data": {
      "text/plain": [
       "\"Sanath Jayasuriya, Sri Lanka's interim head coach, attributed his team's success on the second day of the Kia Oval Test to their ability to frustrate Harry Brook, who struggled with his temper and batting performance, ultimately scoring 19 runs from 39 balls. England lost seven wickets for 104 runs, with only Ollie Pope scoring a century. Michael Vaughan criticized England's aggressive approach and warned them of tougher challenges ahead. Jayasuriya advised Brook to be careful and not take unnecessary risks.\""
      ]
     },
     "execution_count": 69,
     "metadata": {},
     "output_type": "execute_result"
    }
   ],
   "source": [
    "f = open(\"espncricinfo.txt\", \"r\")\n",
    "var = f.read()\n",
    "f.close()\n",
    "\n",
    "Summarize(var, session=sess)"
   ]
  },
  {
   "cell_type": "code",
   "execution_count": null,
   "id": "5e5478ea",
   "metadata": {},
   "outputs": [],
   "source": []
  },
  {
   "cell_type": "code",
   "execution_count": null,
   "id": "1dd81e2e",
   "metadata": {},
   "outputs": [],
   "source": []
  }
 ],
 "metadata": {
  "kernelspec": {
   "display_name": "Python 3 (ipykernel)",
   "language": "python",
   "name": "python3"
  },
  "language_info": {
   "codemirror_mode": {
    "name": "ipython",
    "version": 3
   },
   "file_extension": ".py",
   "mimetype": "text/x-python",
   "name": "python",
   "nbconvert_exporter": "python",
   "pygments_lexer": "ipython3",
   "version": "3.11.4"
  }
 },
 "nbformat": 4,
 "nbformat_minor": 5
}
