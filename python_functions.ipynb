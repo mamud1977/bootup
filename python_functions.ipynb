tple = ("Apple", "Cat", "Mobile")

print(tple)
f
