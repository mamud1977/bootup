{
  "nbformat": 4,
  "nbformat_minor": 0,
  "metadata": {
    "colab": {
      "provenance": [],
      "authorship_tag": "ABX9TyNo21rrRxA4ECQkmnGuY1Km",
      "include_colab_link": true
    },
    "kernelspec": {
      "name": "python3",
      "display_name": "Python 3"
    },
    "language_info": {
      "name": "python"
    }
  },
  "cells": [
    {
      "cell_type": "markdown",
      "metadata": {
        "id": "view-in-github",
        "colab_type": "text"
      },
      "source": [
        "<a href=\"https://colab.research.google.com/github/mamud1977/bootup/blob/main/python_functions.ipynb\" target=\"_parent\"><img src=\"https://colab.research.google.com/assets/colab-badge.svg\" alt=\"Open In Colab\"/></a>"
      ]
    },
    {
      "cell_type": "markdown",
      "source": [
        "## Important Python Functions\n",
        "\n",
        "1. map function\n",
        "2. reduce function\n",
        "3. lambda function\n",
        "4. filter function"
      ],
      "metadata": {
        "id": "53l7pMBkyJAj"
      }
    },
    {
      "cell_type": "markdown",
      "source": [
        "## map function"
      ],
      "metadata": {
        "id": "v4NejsZlyEv-"
      }
    },
    {
      "cell_type": "code",
      "source": [
        "v_list = [0,1,2,3,4,5,6,7,8,9]\n",
        "\n",
        "def square(x):\n",
        "    return x**2\n",
        "\n",
        "squared_vals = map(square,v_list)\n",
        "\n",
        "for i in squared_vals:\n",
        "    print(i)"
      ],
      "metadata": {
        "colab": {
          "base_uri": "https://localhost:8080/"
        },
        "id": "4YDnmlwBxV_0",
        "outputId": "79fd354f-5501-4661-f70b-e343d06bb7b9"
      },
      "execution_count": 7,
      "outputs": [
        {
          "output_type": "stream",
          "name": "stdout",
          "text": [
            "0\n",
            "1\n",
            "4\n",
            "9\n",
            "16\n",
            "25\n",
            "36\n",
            "49\n",
            "64\n",
            "81\n"
          ]
        }
      ]
    },
    {
      "cell_type": "markdown",
      "source": [],
      "metadata": {
        "id": "ttDdFnblxDmH"
      }
    }
  ]
}