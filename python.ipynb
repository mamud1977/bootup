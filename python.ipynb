tple = ("Apple", "Cat", "Mobile")

print(tple)
