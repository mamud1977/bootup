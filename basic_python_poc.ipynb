{
  "nbformat": 4,
  "nbformat_minor": 0,
  "metadata": {
    "colab": {
      "provenance": [],
      "name": "basic_operations.ipynb",
      "toc_visible": true,
      "authorship_tag": "ABX9TyMhjX0ncxGgi1gwNbjMvRCS",
      "include_colab_link": true
    },
    "kernelspec": {
      "name": "python3",
      "display_name": "Python 3"
    },
    "language_info": {
      "name": "python"
    }
  },
  "cells": [
    {
      "cell_type": "markdown",
      "metadata": {
        "id": "view-in-github",
        "colab_type": "text"
      },
      "source": [
        "<a href=\"https://colab.research.google.com/github/mamud1977/bootup/blob/main/basic_python_poc.ipynb\" target=\"_parent\"><img src=\"https://colab.research.google.com/assets/colab-badge.svg\" alt=\"Open In Colab\"/></a>"
      ]
    },
    {
      "cell_type": "markdown",
      "source": [
        "Tuple operations"
      ],
      "metadata": {
        "id": "Zt3C0FAKjDT1"
      }
    },
    {
      "cell_type": "code",
      "source": [
        "v_tuple = (\"a\",\"b\",\"c\", 1,1,3,\"Apple\")\n",
        "print(v_tuple)"
      ],
      "metadata": {
        "colab": {
          "base_uri": "https://localhost:8080/"
        },
        "id": "yxmM2v6KiOWA",
        "outputId": "abbeaff0-9bdd-4c0e-b95b-18efbeb70b26"
      },
      "execution_count": 5,
      "outputs": [
        {
          "output_type": "stream",
          "name": "stdout",
          "text": [
            "('a', 'b', 'c', 1, 1, 3, 'Apple')\n"
          ]
        }
      ]
    },
    {
      "cell_type": "code",
      "source": [
        "v_tuple.count(1)"
      ],
      "metadata": {
        "colab": {
          "base_uri": "https://localhost:8080/"
        },
        "id": "MMtXCicCijAv",
        "outputId": "64c693bb-b132-4ab2-8d72-9e7f3373dc70"
      },
      "execution_count": 9,
      "outputs": [
        {
          "output_type": "execute_result",
          "data": {
            "text/plain": [
              "2"
            ]
          },
          "metadata": {},
          "execution_count": 9
        }
      ]
    },
    {
      "cell_type": "markdown",
      "source": [
        "`To pick a block of data for recurrent NN`"
      ],
      "metadata": {
        "id": "u_tFfNsyi4wK"
      }
    },
    {
      "cell_type": "code",
      "source": [
        "v_tuple.count"
      ],
      "metadata": {
        "colab": {
          "base_uri": "https://localhost:8080/"
        },
        "id": "N_auPunuivpj",
        "outputId": "37467edd-dd27-42cb-af81-1ce5aad9c669"
      },
      "execution_count": 8,
      "outputs": [
        {
          "output_type": "execute_result",
          "data": {
            "text/plain": [
              "<function tuple.count(value, /)>"
            ]
          },
          "metadata": {},
          "execution_count": 8
        }
      ]
    },
    {
      "cell_type": "markdown",
      "source": [],
      "metadata": {
        "id": "tPIuqi7yjQPS"
      }
    },
    {
      "cell_type": "code",
      "execution_count": null,
      "metadata": {
        "id": "jlEUk4txbcdd",
        "outputId": "704fe886-9c9b-4b5d-fa8f-44acc0a19d06",
        "colab": {
          "base_uri": "https://localhost:8080/"
        }
      },
      "outputs": [
        {
          "output_type": "stream",
          "name": "stdout",
          "text": [
            "0 4\n",
            "1 5\n",
            "2 6\n",
            "3 7\n",
            "4 8\n",
            "5 9\n"
          ]
        }
      ],
      "source": [
        "for i in range(4,10):\n",
        "  print(i-4,i)"
      ]
    }
  ]
}