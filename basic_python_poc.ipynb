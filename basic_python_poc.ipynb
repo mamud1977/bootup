{
  "nbformat": 4,
  "nbformat_minor": 0,
  "metadata": {
    "colab": {
      "provenance": [],
      "name": "basic_operations.ipynb",
      "toc_visible": true,
      "authorship_tag": "ABX9TyPbnQCI2bzPtmItssYbyffq",
      "include_colab_link": true
    },
    "kernelspec": {
      "name": "python3",
      "display_name": "Python 3"
    },
    "language_info": {
      "name": "python"
    }
  },
  "cells": [
    {
      "cell_type": "markdown",
      "metadata": {
        "id": "view-in-github",
        "colab_type": "text"
      },
      "source": [
        "<a href=\"https://colab.research.google.com/github/mamud1977/bootup/blob/main/basic_python_poc.ipynb\" target=\"_parent\"><img src=\"https://colab.research.google.com/assets/colab-badge.svg\" alt=\"Open In Colab\"/></a>"
      ]
    },
    {
      "cell_type": "code",
      "source": [
        "v_tuple = (\"a\",\"b\",\"c\", 1,1,3,\"Apple\")\n",
        "print(v_tuple)"
      ],
      "metadata": {
        "id": "yxmM2v6KiOWA",
        "outputId": "abbeaff0-9bdd-4c0e-b95b-18efbeb70b26",
        "colab": {
          "base_uri": "https://localhost:8080/"
        }
      },
      "execution_count": 5,
      "outputs": [
        {
          "output_type": "stream",
          "name": "stdout",
          "text": [
            "('a', 'b', 'c', 1, 1, 3, 'Apple')\n"
          ]
        }
      ]
    },
    {
      "cell_type": "code",
      "source": [
        "v_tuple.count(1)"
      ],
      "metadata": {
        "id": "MMtXCicCijAv",
        "outputId": "3b0666dc-04eb-45b1-a73d-4c32323dcbde",
        "colab": {
          "base_uri": "https://localhost:8080/"
        }
      },
      "execution_count": 7,
      "outputs": [
        {
          "output_type": "execute_result",
          "data": {
            "text/plain": [
              "2"
            ]
          },
          "metadata": {},
          "execution_count": 7
        }
      ]
    },
    {
      "cell_type": "code",
      "source": [
        "v_tuple.count"
      ],
      "metadata": {
        "id": "N_auPunuivpj",
        "outputId": "37467edd-dd27-42cb-af81-1ce5aad9c669",
        "colab": {
          "base_uri": "https://localhost:8080/"
        }
      },
      "execution_count": 8,
      "outputs": [
        {
          "output_type": "execute_result",
          "data": {
            "text/plain": [
              "<function tuple.count(value, /)>"
            ]
          },
          "metadata": {},
          "execution_count": 8
        }
      ]
    },
    {
      "cell_type": "code",
      "execution_count": null,
      "metadata": {
        "id": "jlEUk4txbcdd",
        "outputId": "704fe886-9c9b-4b5d-fa8f-44acc0a19d06",
        "colab": {
          "base_uri": "https://localhost:8080/"
        }
      },
      "outputs": [
        {
          "output_type": "stream",
          "name": "stdout",
          "text": [
            "0 4\n",
            "1 5\n",
            "2 6\n",
            "3 7\n",
            "4 8\n",
            "5 9\n"
          ]
        }
      ],
      "source": [
        "for i in range(4,10):\n",
        "  print(i-4,i)"
      ]
    }
  ]
}