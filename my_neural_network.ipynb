{
  "cells": [
    {
      "cell_type": "code",
      "execution_count": 2,
      "id": "20b41749",
      "metadata": {
        "id": "20b41749",
        "outputId": "6955b402-cfd6-49d2-c60f-5ee34e2925c1",
        "colab": {
          "base_uri": "https://localhost:8080/"
        }
      },
      "outputs": [
        {
          "output_type": "stream",
          "name": "stdout",
          "text": [
            "Neural Networ ... by manual programming\n"
          ]
        }
      ],
      "source": [
        "print('Neural Networ ... by manual programming')"
      ]
    }
  ],
  "metadata": {
    "kernelspec": {
      "display_name": "Python 3 (ipykernel)",
      "language": "python",
      "name": "python3"
    },
    "language_info": {
      "codemirror_mode": {
        "name": "ipython",
        "version": 3
      },
      "file_extension": ".py",
      "mimetype": "text/x-python",
      "name": "python",
      "nbconvert_exporter": "python",
      "pygments_lexer": "ipython3",
      "version": "3.11.4"
    },
    "colab": {
      "provenance": []
    }
  },
  "nbformat": 4,
  "nbformat_minor": 5
}