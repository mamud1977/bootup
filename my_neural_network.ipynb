{
  "cells": [
    {
      "cell_type": "code",
      "execution_count": 4,
      "id": "20b41749",
      "metadata": {
        "colab": {
          "base_uri": "https://localhost:8080/"
        },
        "id": "20b41749",
        "outputId": "39e68a2c-7a14-41a9-da86-3b27885b1102"
      },
      "outputs": [
        {
          "output_type": "stream",
          "name": "stdout",
          "text": [
            "Neural Networ ... by manual programming\n"
          ]
        }
      ],
      "source": [
        "print('Neural Networ ... by manual programming')"
      ]
    },
    {
      "cell_type": "code",
      "source": [
        "class SimpleClass():\n",
        "  class_var1 = 'SimpleClass'\n",
        "  def __init__(self,p):\n",
        "    print(f\"Print: {p}\")\n",
        "    print(f\"Print: {self.class_var1}\")\n",
        "\n",
        "  def yell():\n",
        "    print('Yelling')\n",
        "\n",
        "class ExtendedClass(SimpleClass):\n",
        "  class_var1 = 'ExtendedClass'\n",
        "  def __init__(self, p):\n",
        "        super().__init__(\"Hello\")\n",
        "        print(f\"Print: {p}\")\n",
        "        print(f\"Print: {self.class_var1}\")\n",
        "\n",
        "class Operation():\n",
        "  def __init__(self, input_nodes=[]):\n",
        "    self.input_nodes = input_nodes\n",
        "    self.output_nodes = []\n",
        "\n",
        "    for node in input_nodes:\n",
        "      node.output_nodes.append(self)\n",
        "\n",
        "    _default_graph.operations.append(self)\n",
        "\n",
        "  def compute(self):\n",
        "    pass\n",
        "\n",
        "\n",
        "\n",
        "class add(Operation):\n",
        "  def __init__(self,x,y):\n",
        "    super().__init__([x,y])\n",
        "\n",
        "  def compute(self, x_var, y_var):\n",
        "    self.inputs = [x_var,y_var]\n",
        "    return x_var + y_var\n",
        "\n",
        "class multiply(Operation):\n",
        "  def __init__(self,x,y):\n",
        "    super().__init__([x,y])\n",
        "\n",
        "  def compute(self, x_var, y_var):\n",
        "    self.inputs = [x_var,y_var]\n",
        "    return x_var * y_var\n",
        "\n",
        "class matmul(Operation):\n",
        "  def __init__(self,x,y):\n",
        "    super().__init__([x,y])\n",
        "\n",
        "  def compute(self, x_var, y_var):\n",
        "    self.inputs = [x_var,y_var]\n",
        "    return x_var.dot(y_var)\n",
        "\n",
        "class Placeholder():\n",
        "  def __init__(self):\n",
        "    self.output_nodes = []\n",
        "\n",
        "    _default_graph.placeholders.append(self)\n",
        "\n",
        "\n",
        "class Variable():\n",
        "  def __init__(self,initial_value =None):\n",
        "    self.value = initial_value\n",
        "    self.output_nodes =[]\n",
        "\n",
        "    _default_graph.variables.append(self)\n",
        "\n",
        "class Graph():\n",
        "  def __init__(self):\n",
        "    self.operations = []\n",
        "    self.placeholders = []\n",
        "    self.variables = []\n",
        "\n",
        "  def set_as_default(self):\n",
        "    global _default_graph\n",
        "    _default_graph = self"
      ],
      "metadata": {
        "id": "0GMF3erEzaVe"
      },
      "id": "0GMF3erEzaVe",
      "execution_count": 64,
      "outputs": []
    },
    {
      "cell_type": "code",
      "source": [
        "g = Graph()\n",
        "\n",
        "g.set_as_default()\n",
        "\n",
        "\n",
        "A = Variable(10)\n",
        "b = Variable(1)\n",
        "\n",
        "x = Placeholder()\n",
        "\n",
        "y = multiply(A,x)\n",
        "\n",
        "z = add(y, b)\n",
        "\n"
      ],
      "metadata": {
        "id": "39M8VYvM9HLe"
      },
      "id": "39M8VYvM9HLe",
      "execution_count": 59,
      "outputs": []
    },
    {
      "cell_type": "code",
      "source": [
        "def traverse_postorder(operation):\n",
        "  nodes_postorder = []\n",
        "  def recurse(node):\n",
        "    if isinstance(node, Operation):\n",
        "      for input_node in node.input_nodes:\n",
        "        recurse(input_node)\n",
        "    nodes_postorder.append(node)\n",
        "\n",
        "  recurse(operation)\n",
        "  return nodes_postorder\n"
      ],
      "metadata": {
        "id": "egzREJ0RAwdU"
      },
      "id": "egzREJ0RAwdU",
      "execution_count": 63,
      "outputs": []
    },
    {
      "cell_type": "markdown",
      "source": [],
      "metadata": {
        "id": "bWyb5jzM9jMZ"
      },
      "id": "bWyb5jzM9jMZ"
    },
    {
      "cell_type": "code",
      "source": [],
      "metadata": {
        "id": "jHYOFPmp7Wj2"
      },
      "id": "jHYOFPmp7Wj2",
      "execution_count": null,
      "outputs": []
    }
  ],
  "metadata": {
    "kernelspec": {
      "display_name": "Python 3 (ipykernel)",
      "language": "python",
      "name": "python3"
    },
    "language_info": {
      "codemirror_mode": {
        "name": "ipython",
        "version": 3
      },
      "file_extension": ".py",
      "mimetype": "text/x-python",
      "name": "python",
      "nbconvert_exporter": "python",
      "pygments_lexer": "ipython3",
      "version": "3.11.4"
    },
    "colab": {
      "provenance": []
    }
  },
  "nbformat": 4,
  "nbformat_minor": 5
}