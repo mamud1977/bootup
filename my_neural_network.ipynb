{
  "cells": [
    {
      "cell_type": "code",
      "execution_count": 2,
      "id": "20b41749",
      "metadata": {
        "colab": {
          "base_uri": "https://localhost:8080/"
        },
        "id": "20b41749",
        "outputId": "daf851df-edf6-4121-df3e-800b13924c3a"
      },
      "outputs": [
        {
          "output_type": "stream",
          "name": "stdout",
          "text": [
            "Neural Networ ... by manual programming\n"
          ]
        }
      ],
      "source": [
        "print('Neural Networ ... by manual programming')"
      ]
    },
    {
      "cell_type": "code",
      "source": [
        "import numpy as np"
      ],
      "metadata": {
        "id": "qQDf47oCO-14"
      },
      "id": "qQDf47oCO-14",
      "execution_count": 17,
      "outputs": []
    },
    {
      "cell_type": "code",
      "source": [
        "class SimpleClass():\n",
        "  class_var1 = 'SimpleClass'\n",
        "  def __init__(self,p):\n",
        "    print(f\"Print: {p}\")\n",
        "    print(f\"Print: {self.class_var1}\")\n",
        "\n",
        "  def yell():\n",
        "    print('Yelling')\n",
        "\n",
        "class ExtendedClass(SimpleClass):\n",
        "  class_var1 = 'ExtendedClass'\n",
        "  def __init__(self, p):\n",
        "        super().__init__(\"Hello\")\n",
        "        print(f\"Print: {p}\")\n",
        "        print(f\"Print: {self.class_var1}\")\n",
        "\n",
        "class Operation():\n",
        "  def __init__(self, input_nodes=[]):\n",
        "    self.input_nodes = input_nodes\n",
        "    self.output_nodes = []\n",
        "\n",
        "    for node in input_nodes:\n",
        "      node.output_nodes.append(self)\n",
        "\n",
        "    _default_graph.operations.append(self)\n",
        "\n",
        "  def compute(self):\n",
        "    pass\n",
        "\n",
        "\n",
        "\n",
        "class add(Operation):\n",
        "  def __init__(self,x,y):\n",
        "    super().__init__([x,y])\n",
        "\n",
        "  def compute(self, x_var, y_var):\n",
        "    self.inputs = [x_var,y_var]\n",
        "    return x_var + y_var\n",
        "\n",
        "class multiply(Operation):\n",
        "  def __init__(self,x,y):\n",
        "    super().__init__([x,y])\n",
        "\n",
        "  def compute(self, x_var, y_var):\n",
        "    self.inputs = [x_var,y_var]\n",
        "    return x_var * y_var\n",
        "\n",
        "class matmul(Operation):\n",
        "  def __init__(self,x,y):\n",
        "    super().__init__([x,y])\n",
        "\n",
        "  def compute(self, x_var, y_var):\n",
        "    self.inputs = [x_var,y_var]\n",
        "    return x_var.dot(y_var)\n",
        "\n",
        "class Placeholder():\n",
        "  def __init__(self):\n",
        "    self.output_nodes = []\n",
        "\n",
        "    _default_graph.placeholders.append(self)\n",
        "\n",
        "\n",
        "class Variable():\n",
        "  def __init__(self,initial_value =None):\n",
        "    self.value = initial_value\n",
        "    self.output_nodes =[]\n",
        "\n",
        "    _default_graph.variables.append(self)\n",
        "\n",
        "class Graph():\n",
        "  def __init__(self):\n",
        "    self.operations = []\n",
        "    self.placeholders = []\n",
        "    self.variables = []\n",
        "\n",
        "  def set_as_default(self):\n",
        "    global _default_graph\n",
        "    _default_graph = self"
      ],
      "metadata": {
        "id": "0GMF3erEzaVe"
      },
      "id": "0GMF3erEzaVe",
      "execution_count": 3,
      "outputs": []
    },
    {
      "cell_type": "code",
      "source": [
        "g = Graph()\n",
        "\n",
        "g.set_as_default()\n",
        "\n",
        "\n",
        "A = Variable(10)\n",
        "b = Variable(1)\n",
        "\n",
        "x = Placeholder()\n",
        "\n",
        "y = multiply(A,x)\n",
        "\n",
        "z = add(y, b)\n",
        "\n"
      ],
      "metadata": {
        "id": "39M8VYvM9HLe"
      },
      "id": "39M8VYvM9HLe",
      "execution_count": 4,
      "outputs": []
    },
    {
      "cell_type": "code",
      "source": [
        "def traverse_postorder(operation):\n",
        "  nodes_postorder = []\n",
        "  def recurse(node):\n",
        "    if isinstance(node, Operation):\n",
        "      for input_node in node.input_nodes:\n",
        "        recurse(input_node)\n",
        "    nodes_postorder.append(node)\n",
        "\n",
        "  recurse(operation)\n",
        "  return nodes_postorder\n"
      ],
      "metadata": {
        "id": "egzREJ0RAwdU"
      },
      "id": "egzREJ0RAwdU",
      "execution_count": 5,
      "outputs": []
    },
    {
      "cell_type": "markdown",
      "source": [],
      "metadata": {
        "id": "bWyb5jzM9jMZ"
      },
      "id": "bWyb5jzM9jMZ"
    },
    {
      "cell_type": "code",
      "source": [
        "class Session():\n",
        "  def run(self, operation, feed_dict = {}):\n",
        "    nodes_postorder = traverse_postorder(operation)\n",
        "\n",
        "    for node in nodes_postorder:\n",
        "      if type(node) == Placeholder:\n",
        "        node.output = feed_dict[node]\n",
        "\n",
        "      elif type(node) == Variable:\n",
        "        node.output = node.value\n",
        "\n",
        "      else:\n",
        "        node.inputs = [input_node.output for input_node in node.input_nodes]\n",
        "\n",
        "        node.output = node.compute(*node.inputs)\n",
        "\n",
        "\n",
        "      if type(node.output) == list:\n",
        "        node.output = np.array(node.output)\n",
        "\n",
        "\n",
        "    return operation.output\n",
        "\n",
        "\n",
        "sess = Session()\n",
        "\n",
        "result = sess.run(operation = z, feed_dict={x:12})\n",
        "\n",
        "result"
      ],
      "metadata": {
        "colab": {
          "base_uri": "https://localhost:8080/",
          "height": 341
        },
        "id": "jHYOFPmp7Wj2",
        "outputId": "635b8110-e9e0-442a-9d5b-2709a4de534a"
      },
      "id": "jHYOFPmp7Wj2",
      "execution_count": 14,
      "outputs": [
        {
          "output_type": "error",
          "ename": "NameError",
          "evalue": "name 'np' is not defined",
          "traceback": [
            "\u001b[0;31m---------------------------------------------------------------------------\u001b[0m",
            "\u001b[0;31mNameError\u001b[0m                                 Traceback (most recent call last)",
            "\u001b[0;32m<ipython-input-14-46cb833bb03e>\u001b[0m in \u001b[0;36m<cell line: 27>\u001b[0;34m()\u001b[0m\n\u001b[1;32m     25\u001b[0m \u001b[0msess\u001b[0m \u001b[0;34m=\u001b[0m \u001b[0mSession\u001b[0m\u001b[0;34m(\u001b[0m\u001b[0;34m)\u001b[0m\u001b[0;34m\u001b[0m\u001b[0;34m\u001b[0m\u001b[0m\n\u001b[1;32m     26\u001b[0m \u001b[0;34m\u001b[0m\u001b[0m\n\u001b[0;32m---> 27\u001b[0;31m \u001b[0mresult\u001b[0m \u001b[0;34m=\u001b[0m \u001b[0msess\u001b[0m\u001b[0;34m.\u001b[0m\u001b[0mrun\u001b[0m\u001b[0;34m(\u001b[0m\u001b[0moperation\u001b[0m \u001b[0;34m=\u001b[0m \u001b[0mz\u001b[0m\u001b[0;34m,\u001b[0m \u001b[0mfeed_dict\u001b[0m\u001b[0;34m=\u001b[0m\u001b[0;34m{\u001b[0m\u001b[0mx\u001b[0m\u001b[0;34m:\u001b[0m\u001b[0;36m12\u001b[0m\u001b[0;34m}\u001b[0m\u001b[0;34m)\u001b[0m\u001b[0;34m\u001b[0m\u001b[0;34m\u001b[0m\u001b[0m\n\u001b[0m\u001b[1;32m     28\u001b[0m \u001b[0;34m\u001b[0m\u001b[0m\n\u001b[1;32m     29\u001b[0m \u001b[0mresult\u001b[0m\u001b[0;34m\u001b[0m\u001b[0;34m\u001b[0m\u001b[0m\n",
            "\u001b[0;32m<ipython-input-14-46cb833bb03e>\u001b[0m in \u001b[0;36mrun\u001b[0;34m(self, operation, feed_dict)\u001b[0m\n\u001b[1;32m     17\u001b[0m \u001b[0;34m\u001b[0m\u001b[0m\n\u001b[1;32m     18\u001b[0m       \u001b[0;32mif\u001b[0m \u001b[0mtype\u001b[0m\u001b[0;34m(\u001b[0m\u001b[0mnode\u001b[0m\u001b[0;34m.\u001b[0m\u001b[0moutput\u001b[0m\u001b[0;34m)\u001b[0m \u001b[0;34m==\u001b[0m \u001b[0mlist\u001b[0m\u001b[0;34m:\u001b[0m\u001b[0;34m\u001b[0m\u001b[0;34m\u001b[0m\u001b[0m\n\u001b[0;32m---> 19\u001b[0;31m         \u001b[0mnode\u001b[0m\u001b[0;34m.\u001b[0m\u001b[0moutput\u001b[0m \u001b[0;34m=\u001b[0m \u001b[0mnp\u001b[0m\u001b[0;34m.\u001b[0m\u001b[0marray\u001b[0m\u001b[0;34m(\u001b[0m\u001b[0mnode\u001b[0m\u001b[0;34m.\u001b[0m\u001b[0moutput\u001b[0m\u001b[0;34m)\u001b[0m\u001b[0;34m\u001b[0m\u001b[0;34m\u001b[0m\u001b[0m\n\u001b[0m\u001b[1;32m     20\u001b[0m \u001b[0;34m\u001b[0m\u001b[0m\n\u001b[1;32m     21\u001b[0m \u001b[0;34m\u001b[0m\u001b[0m\n",
            "\u001b[0;31mNameError\u001b[0m: name 'np' is not defined"
          ]
        }
      ]
    },
    {
      "cell_type": "code",
      "source": [
        "g = Graph()\n",
        "g.set_as_default()\n",
        "\n",
        "A = Variable([[10,20],[30,40]])\n",
        "b = Variable([1,1])\n",
        "\n",
        "x = Placeholder()\n",
        "y = matmul(A,x)\n",
        "z= add(y,b)\n",
        "\n",
        "sess = Session()\n",
        "\n",
        "result = sess.run(operation=z, feed_dict={x:10})\n",
        "\n",
        "result"
      ],
      "metadata": {
        "id": "HlM-Q_WONxM5",
        "outputId": "a8e6768f-469c-4ae2-8d44-9f18e8cf5656",
        "colab": {
          "base_uri": "https://localhost:8080/"
        }
      },
      "id": "HlM-Q_WONxM5",
      "execution_count": 23,
      "outputs": [
        {
          "output_type": "execute_result",
          "data": {
            "text/plain": [
              "array([[101, 201],\n",
              "       [301, 401]])"
            ]
          },
          "metadata": {},
          "execution_count": 23
        }
      ]
    },
    {
      "cell_type": "code",
      "source": [],
      "metadata": {
        "id": "GepVP3lwOUlH"
      },
      "id": "GepVP3lwOUlH",
      "execution_count": null,
      "outputs": []
    },
    {
      "cell_type": "code",
      "source": [],
      "metadata": {
        "id": "RKH01YbLNw9i"
      },
      "id": "RKH01YbLNw9i",
      "execution_count": null,
      "outputs": []
    }
  ],
  "metadata": {
    "kernelspec": {
      "display_name": "Python 3 (ipykernel)",
      "language": "python",
      "name": "python3"
    },
    "language_info": {
      "codemirror_mode": {
        "name": "ipython",
        "version": 3
      },
      "file_extension": ".py",
      "mimetype": "text/x-python",
      "name": "python",
      "nbconvert_exporter": "python",
      "pygments_lexer": "ipython3",
      "version": "3.11.4"
    },
    "colab": {
      "provenance": []
    }
  },
  "nbformat": 4,
  "nbformat_minor": 5
}