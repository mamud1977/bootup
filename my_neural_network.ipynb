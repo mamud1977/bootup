{
  "cells": [
    {
      "cell_type": "code",
      "execution_count": 4,
      "id": "20b41749",
      "metadata": {
        "colab": {
          "base_uri": "https://localhost:8080/"
        },
        "id": "20b41749",
        "outputId": "39e68a2c-7a14-41a9-da86-3b27885b1102"
      },
      "outputs": [
        {
          "output_type": "stream",
          "name": "stdout",
          "text": [
            "Neural Networ ... by manual programming\n"
          ]
        }
      ],
      "source": [
        "print('Neural Networ ... by manual programming')"
      ]
    },
    {
      "cell_type": "code",
      "source": [
        "class SimpleClass():\n",
        "  class_var1 = 'SimpleClass'\n",
        "  def __init__(self,p):\n",
        "    print(f\"Print: {p}\")\n",
        "    print(f\"Print: {self.class_var1}\")\n",
        "\n",
        "  def yell():\n",
        "    print('Yelling')\n",
        "\n",
        "class ExtendedClass(SimpleClass):\n",
        "  class_var1 = 'ExtendedClass'\n",
        "  def __init__(self, p):\n",
        "        super().__init__(\"Hello\")\n",
        "        print(f\"Print: {p}\")\n",
        "        print(f\"Print: {self.class_var1}\")\n",
        "\n",
        "class Operation():\n",
        "  def __init__(self, input_nodes=[]):\n",
        "    self.input_nodes = input_nodes\n",
        "    self.output_nodes = []\n",
        "\n",
        "    for node in input_nodes:\n",
        "      node.output_nodes.append(self)\n",
        "\n",
        "  def compute(self):\n",
        "    pass\n",
        "\n",
        "\n",
        "\n",
        "class add(Operation):\n",
        "  def __init__(self,x,y):\n",
        "    super().__init__([x,y])\n",
        "\n",
        "  def compute(self, x_var, y_var):\n",
        "    self.inputs = [x_var,y_var]\n",
        "    return x_var + y_var\n",
        "\n",
        "class multiply(Operation):\n",
        "  def __init__(self,x,y):\n",
        "    super().__init__([x,y])\n",
        "\n",
        "  def compute(self, x_var, y_var):\n",
        "    self.inputs = [x_var,y_var]\n",
        "    return x_var * y_var\n",
        "\n",
        "class matmul(Operation):\n",
        "  def __init__(self,x,y):\n",
        "    super().__init__([x,y])\n",
        "\n",
        "  def compute(self, x_var, y_var):\n",
        "    self.inputs = [x_var,y_var]\n",
        "    return x_var.dot(y_var)"
      ],
      "metadata": {
        "id": "0GMF3erEzaVe"
      },
      "id": "0GMF3erEzaVe",
      "execution_count": 30,
      "outputs": []
    },
    {
      "cell_type": "code",
      "source": [
        "\n",
        "y = ExtendedClass('Pew')\n"
      ],
      "metadata": {
        "id": "AX10dWl_z4pX",
        "outputId": "54b83364-e449-40a6-97b4-04730f5265de",
        "colab": {
          "base_uri": "https://localhost:8080/"
        }
      },
      "id": "AX10dWl_z4pX",
      "execution_count": 27,
      "outputs": [
        {
          "output_type": "stream",
          "name": "stdout",
          "text": [
            "Print: Hello\n",
            "Print: ExtendedClass\n",
            "Print: Pew\n",
            "Print: ExtendedClass\n"
          ]
        }
      ]
    }
  ],
  "metadata": {
    "kernelspec": {
      "display_name": "Python 3 (ipykernel)",
      "language": "python",
      "name": "python3"
    },
    "language_info": {
      "codemirror_mode": {
        "name": "ipython",
        "version": 3
      },
      "file_extension": ".py",
      "mimetype": "text/x-python",
      "name": "python",
      "nbconvert_exporter": "python",
      "pygments_lexer": "ipython3",
      "version": "3.11.4"
    },
    "colab": {
      "provenance": []
    }
  },
  "nbformat": 4,
  "nbformat_minor": 5
}