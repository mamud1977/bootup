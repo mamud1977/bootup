{
  "cells": [
    {
      "cell_type": "code",
      "execution_count": 2,
      "id": "20b41749",
      "metadata": {
        "colab": {
          "base_uri": "https://localhost:8080/"
        },
        "id": "20b41749",
        "outputId": "daf851df-edf6-4121-df3e-800b13924c3a"
      },
      "outputs": [
        {
          "output_type": "stream",
          "name": "stdout",
          "text": [
            "Neural Networ ... by manual programming\n"
          ]
        }
      ],
      "source": [
        "print('Neural Networ ... by manual programming')"
      ]
    },
    {
      "cell_type": "code",
      "source": [
        "import numpy as np"
      ],
      "metadata": {
        "id": "qQDf47oCO-14"
      },
      "id": "qQDf47oCO-14",
      "execution_count": 17,
      "outputs": []
    },
    {
      "cell_type": "code",
      "source": [
        "class SimpleClass():\n",
        "  class_var1 = 'SimpleClass'\n",
        "  def __init__(self,p):\n",
        "    print(f\"Print: {p}\")\n",
        "    print(f\"Print: {self.class_var1}\")\n",
        "\n",
        "  def yell():\n",
        "    print('Yelling')\n",
        "\n",
        "class ExtendedClass(SimpleClass):\n",
        "  class_var1 = 'ExtendedClass'\n",
        "  def __init__(self, p):\n",
        "        super().__init__(\"Hello\")\n",
        "        print(f\"Print: {p}\")\n",
        "        print(f\"Print: {self.class_var1}\")\n",
        "\n",
        "class Operation():\n",
        "  def __init__(self, input_nodes=[]):\n",
        "    self.input_nodes = input_nodes\n",
        "    self.output_nodes = []\n",
        "\n",
        "    for node in input_nodes:\n",
        "      node.output_nodes.append(self)\n",
        "\n",
        "    _default_graph.operations.append(self)\n",
        "\n",
        "  def compute(self):\n",
        "    pass\n",
        "\n",
        "\n",
        "\n",
        "class add(Operation):\n",
        "  def __init__(self,x,y):\n",
        "    super().__init__([x,y])\n",
        "\n",
        "  def compute(self, x_var, y_var):\n",
        "    self.inputs = [x_var,y_var]\n",
        "    return x_var + y_var\n",
        "\n",
        "class multiply(Operation):\n",
        "  def __init__(self,x,y):\n",
        "    super().__init__([x,y])\n",
        "\n",
        "  def compute(self, x_var, y_var):\n",
        "    self.inputs = [x_var,y_var]\n",
        "    return x_var * y_var\n",
        "\n",
        "class matmul(Operation):\n",
        "  def __init__(self,x,y):\n",
        "    super().__init__([x,y])\n",
        "\n",
        "  def compute(self, x_var, y_var):\n",
        "    self.inputs = [x_var,y_var]\n",
        "    return x_var.dot(y_var)\n",
        "\n",
        "class Placeholder():\n",
        "  def __init__(self):\n",
        "    self.output_nodes = []\n",
        "\n",
        "    _default_graph.placeholders.append(self)\n",
        "\n",
        "\n",
        "class Variable():\n",
        "  def __init__(self,initial_value =None):\n",
        "    self.value = initial_value\n",
        "    self.output_nodes =[]\n",
        "\n",
        "    _default_graph.variables.append(self)\n",
        "\n",
        "class Graph():\n",
        "  def __init__(self):\n",
        "    self.operations = []\n",
        "    self.placeholders = []\n",
        "    self.variables = []\n",
        "\n",
        "  def set_as_default(self):\n",
        "    global _default_graph\n",
        "    _default_graph = self"
      ],
      "metadata": {
        "id": "0GMF3erEzaVe"
      },
      "id": "0GMF3erEzaVe",
      "execution_count": 3,
      "outputs": []
    },
    {
      "cell_type": "code",
      "source": [
        "g = Graph()\n",
        "\n",
        "g.set_as_default()\n",
        "\n",
        "\n",
        "A = Variable(10)\n",
        "b = Variable(1)\n",
        "\n",
        "x = Placeholder()\n",
        "\n",
        "y = multiply(A,x)\n",
        "\n",
        "z = add(y, b)\n",
        "\n"
      ],
      "metadata": {
        "id": "39M8VYvM9HLe"
      },
      "id": "39M8VYvM9HLe",
      "execution_count": 4,
      "outputs": []
    },
    {
      "cell_type": "code",
      "source": [
        "def traverse_postorder(operation):\n",
        "  nodes_postorder = []\n",
        "  def recurse(node):\n",
        "    if isinstance(node, Operation):\n",
        "      for input_node in node.input_nodes:\n",
        "        recurse(input_node)\n",
        "    nodes_postorder.append(node)\n",
        "\n",
        "  recurse(operation)\n",
        "  return nodes_postorder\n"
      ],
      "metadata": {
        "id": "egzREJ0RAwdU"
      },
      "id": "egzREJ0RAwdU",
      "execution_count": 5,
      "outputs": []
    },
    {
      "cell_type": "markdown",
      "source": [],
      "metadata": {
        "id": "bWyb5jzM9jMZ"
      },
      "id": "bWyb5jzM9jMZ"
    },
    {
      "cell_type": "code",
      "source": [
        "class Session():\n",
        "  def run(self, operation, feed_dict = {}):\n",
        "    nodes_postorder = traverse_postorder(operation)\n",
        "\n",
        "    for node in nodes_postorder:\n",
        "      if type(node) == Placeholder:\n",
        "        node.output = feed_dict[node]\n",
        "\n",
        "      elif type(node) == Variable:\n",
        "        node.output = node.value\n",
        "\n",
        "      else:\n",
        "        node.inputs = [input_node.output for input_node in node.input_nodes]\n",
        "\n",
        "        node.output = node.compute(*node.inputs)\n",
        "\n",
        "\n",
        "      if type(node.output) == list:\n",
        "        node.output = np.array(node.output)\n",
        "\n",
        "\n",
        "    return operation.output\n",
        "\n",
        "\n",
        "sess = Session()\n",
        "\n",
        "result = sess.run(operation = z, feed_dict={x:12})\n",
        "\n",
        "result"
      ],
      "metadata": {
        "colab": {
          "base_uri": "https://localhost:8080/"
        },
        "id": "jHYOFPmp7Wj2",
        "outputId": "9a086af6-f124-4699-a20a-5a48a1e9f469"
      },
      "id": "jHYOFPmp7Wj2",
      "execution_count": 30,
      "outputs": [
        {
          "output_type": "execute_result",
          "data": {
            "text/plain": [
              "array([[121, 241],\n",
              "       [361, 481]])"
            ]
          },
          "metadata": {},
          "execution_count": 30
        }
      ]
    },
    {
      "cell_type": "code",
      "source": [
        "g = Graph()\n",
        "g.set_as_default()\n",
        "\n",
        "A = Variable([[10,20],[30,40]])\n",
        "b = Variable([1,1])\n",
        "\n",
        "x = Placeholder()\n",
        "y = matmul(A,x)\n",
        "z= add(y,b)\n",
        "\n",
        "sess = Session()\n",
        "\n",
        "result = sess.run(operation=z, feed_dict={x:10})\n",
        "\n",
        "result"
      ],
      "metadata": {
        "colab": {
          "base_uri": "https://localhost:8080/"
        },
        "id": "HlM-Q_WONxM5",
        "outputId": "a8e6768f-469c-4ae2-8d44-9f18e8cf5656"
      },
      "id": "HlM-Q_WONxM5",
      "execution_count": 23,
      "outputs": [
        {
          "output_type": "execute_result",
          "data": {
            "text/plain": [
              "array([[101, 201],\n",
              "       [301, 401]])"
            ]
          },
          "metadata": {},
          "execution_count": 23
        }
      ]
    },
    {
      "cell_type": "code",
      "source": [],
      "metadata": {
        "id": "GepVP3lwOUlH"
      },
      "id": "GepVP3lwOUlH",
      "execution_count": null,
      "outputs": []
    },
    {
      "cell_type": "markdown",
      "source": [
        "**Create an Activation Function**"
      ],
      "metadata": {
        "id": "fJlP01RRP1kf"
      },
      "id": "fJlP01RRP1kf"
    },
    {
      "cell_type": "code",
      "source": [
        "import matplotlib.pyplot as plt\n",
        "\n",
        "def sigmoid(z):\n",
        "  return 1/(1 + np.exp(-z))\n",
        "\n",
        "sample_z = np.linspace(-10,10,100)\n",
        "sample_a = sigmoid(sample_z)\n",
        "\n",
        "plt.plot(sample_z,sample_a)\n",
        "\n"
      ],
      "metadata": {
        "colab": {
          "base_uri": "https://localhost:8080/",
          "height": 448
        },
        "id": "RKH01YbLNw9i",
        "outputId": "8c7ee74a-3cc7-4492-e756-4224c7602933"
      },
      "id": "RKH01YbLNw9i",
      "execution_count": 31,
      "outputs": [
        {
          "output_type": "execute_result",
          "data": {
            "text/plain": [
              "[<matplotlib.lines.Line2D at 0x7cefa3598280>]"
            ]
          },
          "metadata": {},
          "execution_count": 31
        },
        {
          "output_type": "display_data",
          "data": {
            "text/plain": [
              "<Figure size 640x480 with 1 Axes>"
            ],
            "image/png": "[encoded data removed]"
          },
          "metadata": {}
        }
      ]
    },
    {
      "cell_type": "code",
      "source": [
        "class Sigmoid(Operation):\n",
        "\n",
        "  def __init__(self, z):\n",
        "    super().__init__([z])\n",
        "\n",
        "  def compute(self, z_val):\n",
        "    return 1/(1 + np.exp(-z_val))\n",
        "\n",
        "from sklearn.datasets import make_blobs\n",
        "\n",
        "data = make_blobs(n_samples =50, n_features= 2, centers = 2, random_state= 75)\n",
        "\n",
        "type(data)\n"
      ],
      "metadata": {
        "id": "GQgzouW1RSYI",
        "outputId": "ffc05a65-2267-44cc-f595-6a142fc93e8a",
        "colab": {
          "base_uri": "https://localhost:8080/"
        }
      },
      "id": "GQgzouW1RSYI",
      "execution_count": 50,
      "outputs": [
        {
          "output_type": "execute_result",
          "data": {
            "text/plain": [
              "tuple"
            ]
          },
          "metadata": {},
          "execution_count": 50
        }
      ]
    },
    {
      "cell_type": "code",
      "source": [
        "data[0]"
      ],
      "metadata": {
        "id": "ILGkbQGtUXnQ",
        "outputId": "bd0d2747-b825-4e97-99ae-b2578b85cf4b",
        "colab": {
          "base_uri": "https://localhost:8080/"
        }
      },
      "id": "ILGkbQGtUXnQ",
      "execution_count": 51,
      "outputs": [
        {
          "output_type": "execute_result",
          "data": {
            "text/plain": [
              "array([[  7.3402781 ,   9.36149154],\n",
              "       [  9.13332743,   8.74906102],\n",
              "       [  1.99243535,  -8.85885722],\n",
              "       [  7.38443759,   7.72520389],\n",
              "       [  7.97613887,   8.80878209],\n",
              "       [  7.76974352,   9.50899462],\n",
              "       [  8.3186688 ,  10.1026025 ],\n",
              "       [  8.79588546,   7.28046702],\n",
              "       [  9.81270381,   9.46968531],\n",
              "       [  1.57961049,  -8.17089971],\n",
              "       [  0.06441546,  -9.04982817],\n",
              "       [  7.2075117 ,   7.04533624],\n",
              "       [  9.10704928,   9.0272212 ],\n",
              "       [  1.82921897,  -9.86956281],\n",
              "       [  7.85036314,   7.986659  ],\n",
              "       [  3.04605603,  -7.50486114],\n",
              "       [  1.85582689,  -6.74473432],\n",
              "       [  2.88603902,  -8.85261704],\n",
              "       [ -1.20046211,  -9.55928542],\n",
              "       [  2.00890845,  -9.78471782],\n",
              "       [  7.68945113,   9.01706723],\n",
              "       [  6.42356167,   8.33356412],\n",
              "       [  8.15467319,   7.87489634],\n",
              "       [  1.92000795,  -7.50953708],\n",
              "       [  1.90073973,  -7.24386675],\n",
              "       [  7.7605855 ,   7.05124418],\n",
              "       [  6.90561582,   9.23493842],\n",
              "       [  0.65582768,  -9.5920878 ],\n",
              "       [  1.41804346,  -8.10517372],\n",
              "       [  9.65371965,   9.35409538],\n",
              "       [  1.23053506,  -7.98873571],\n",
              "       [  1.96322881,  -9.50169117],\n",
              "       [  6.11644251,   9.26709393],\n",
              "       [  7.70630321,  10.78862346],\n",
              "       [  0.79580385,  -9.00301023],\n",
              "       [  3.13114921,  -8.6849493 ],\n",
              "       [  1.3970852 ,  -7.25918415],\n",
              "       [  7.27808709,   7.15201886],\n",
              "       [  1.06965742,  -8.1648251 ],\n",
              "       [  6.37298915,   9.77705761],\n",
              "       [  7.24898455,   8.85834104],\n",
              "       [  2.09335725,  -7.66278316],\n",
              "       [  1.05865542,  -8.43841416],\n",
              "       [  6.43807502,   7.85483418],\n",
              "       [  6.94948313,   8.75248232],\n",
              "       [ -0.07326715, -11.69999644],\n",
              "       [  0.61463602,  -9.51908883],\n",
              "       [  1.31977821,  -7.2710667 ],\n",
              "       [  2.72532584,  -7.51956557],\n",
              "       [  8.20949206,  11.90419283]])"
            ]
          },
          "metadata": {},
          "execution_count": 51
        }
      ]
    },
    {
      "cell_type": "code",
      "source": [
        "data[1]"
      ],
      "metadata": {
        "id": "osCJ_tKHUcLb",
        "outputId": "b0eac5b3-89de-4ed2-b45e-a7c0da687be7",
        "colab": {
          "base_uri": "https://localhost:8080/"
        }
      },
      "id": "osCJ_tKHUcLb",
      "execution_count": 52,
      "outputs": [
        {
          "output_type": "execute_result",
          "data": {
            "text/plain": [
              "array([1, 1, 0, 1, 1, 1, 1, 1, 1, 0, 0, 1, 1, 0, 1, 0, 0, 0, 0, 0, 1, 1,\n",
              "       1, 0, 0, 1, 1, 0, 0, 1, 0, 0, 1, 1, 0, 0, 0, 1, 0, 1, 1, 0, 0, 1,\n",
              "       1, 0, 0, 0, 0, 1])"
            ]
          },
          "metadata": {},
          "execution_count": 52
        }
      ]
    },
    {
      "cell_type": "code",
      "source": [
        "features = data[0]\n",
        "labels = data[1]\n",
        "\n",
        "plt.scatter(features[:,0], features[:,1], c = labels, cmap = 'coolwarm'  )"
      ],
      "metadata": {
        "id": "pTj4CbLIUfWV",
        "outputId": "41774873-5d45-4fca-ce7f-d6411d7667df",
        "colab": {
          "base_uri": "https://localhost:8080/",
          "height": 448
        }
      },
      "id": "pTj4CbLIUfWV",
      "execution_count": 59,
      "outputs": [
        {
          "output_type": "execute_result",
          "data": {
            "text/plain": [
              "<matplotlib.collections.PathCollection at 0x7cef988ca2c0>"
            ]
          },
          "metadata": {},
          "execution_count": 59
        },
        {
          "output_type": "display_data",
          "data": {
            "text/plain": [
              "<Figure size 640x480 with 1 Axes>"
            ],
            "image/png": "[encoded data removed]"
          },
          "metadata": {}
        }
      ]
    },
    {
      "cell_type": "code",
      "source": [
        "x = np.linspace(0,11, 10)\n",
        "x\n",
        "y = -x + 5\n",
        "\n",
        "plt.scatter(features[:,0], features[:,1], c = labels, cmap = 'coolwarm'  )\n",
        "plt.plot(x,y)\n"
      ],
      "metadata": {
        "id": "r-_eHAQdWMFC",
        "outputId": "cdd5ec5f-3536-4bcd-df75-b16674df9c4a",
        "colab": {
          "base_uri": "https://localhost:8080/",
          "height": 448
        }
      },
      "id": "r-_eHAQdWMFC",
      "execution_count": 62,
      "outputs": [
        {
          "output_type": "execute_result",
          "data": {
            "text/plain": [
              "[<matplotlib.lines.Line2D at 0x7cef98a752a0>]"
            ]
          },
          "metadata": {},
          "execution_count": 62
        },
        {
          "output_type": "display_data",
          "data": {
            "text/plain": [
              "<Figure size 640x480 with 1 Axes>"
            ],
            "image/png": "[encoded data removed]"
          },
          "metadata": {}
        }
      ]
    },
    {
      "cell_type": "code",
      "source": [
        "np.array([1,1]).dot(np.array([[8],[10]])) -5"
      ],
      "metadata": {
        "id": "oRRiEYthWigL",
        "outputId": "8d05d638-baa7-48c0-91ab-c15757872c8c",
        "colab": {
          "base_uri": "https://localhost:8080/"
        }
      },
      "id": "oRRiEYthWigL",
      "execution_count": 65,
      "outputs": [
        {
          "output_type": "execute_result",
          "data": {
            "text/plain": [
              "array([13])"
            ]
          },
          "metadata": {},
          "execution_count": 65
        }
      ]
    },
    {
      "cell_type": "code",
      "source": [
        "np.array([1,1]).dot(np.array([[2],[-10]])) -5"
      ],
      "metadata": {
        "id": "ST1WJUIyZWqg",
        "outputId": "fe85f668-47dd-4acb-8768-af091f46fa87",
        "colab": {
          "base_uri": "https://localhost:8080/"
        }
      },
      "id": "ST1WJUIyZWqg",
      "execution_count": 66,
      "outputs": [
        {
          "output_type": "execute_result",
          "data": {
            "text/plain": [
              "array([-13])"
            ]
          },
          "metadata": {},
          "execution_count": 66
        }
      ]
    },
    {
      "cell_type": "code",
      "source": [
        "g = Graph()\n",
        "g.set_as_default()\n",
        "\n",
        "x = Placeholder()\n",
        "w = Variable([1,1])\n",
        "b = Variable(-5)\n",
        "\n",
        "z = add(matmul(w,x),b)\n",
        "\n",
        "a = Sigmoid(z)\n",
        "\n",
        "sess = Session()\n"
      ],
      "metadata": {
        "id": "A7lKraXhZgIC"
      },
      "id": "A7lKraXhZgIC",
      "execution_count": 74,
      "outputs": []
    },
    {
      "cell_type": "code",
      "source": [
        "sess.run(operation=a, feed_dict={x:[8,10]})"
      ],
      "metadata": {
        "id": "dv0a8ZaOam0d",
        "outputId": "1abe8a4d-6c31-4df9-c6a3-644d31e31d4b",
        "colab": {
          "base_uri": "https://localhost:8080/"
        }
      },
      "id": "dv0a8ZaOam0d",
      "execution_count": 75,
      "outputs": [
        {
          "output_type": "execute_result",
          "data": {
            "text/plain": [
              "0.999997739675702"
            ]
          },
          "metadata": {},
          "execution_count": 75
        }
      ]
    },
    {
      "cell_type": "code",
      "source": [
        "sess.run(operation=a, feed_dict={x:[2,-10]})"
      ],
      "metadata": {
        "id": "Ga0AjMwRafdj",
        "outputId": "4fb52964-8469-4402-cccc-288dbe095e79",
        "colab": {
          "base_uri": "https://localhost:8080/"
        }
      },
      "id": "Ga0AjMwRafdj",
      "execution_count": 76,
      "outputs": [
        {
          "output_type": "execute_result",
          "data": {
            "text/plain": [
              "2.2603242979035746e-06"
            ]
          },
          "metadata": {},
          "execution_count": 76
        }
      ]
    }
  ],
  "metadata": {
    "kernelspec": {
      "display_name": "Python 3 (ipykernel)",
      "language": "python",
      "name": "python3"
    },
    "language_info": {
      "codemirror_mode": {
        "name": "ipython",
        "version": 3
      },
      "file_extension": ".py",
      "mimetype": "text/x-python",
      "name": "python",
      "nbconvert_exporter": "python",
      "pygments_lexer": "ipython3",
      "version": "3.11.4"
    },
    "colab": {
      "provenance": []
    }
  },
  "nbformat": 4,
  "nbformat_minor": 5
}