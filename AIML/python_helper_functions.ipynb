{
  "nbformat": 4,
  "nbformat_minor": 0,
  "metadata": {
    "colab": {
      "provenance": [],
      "name": "basic_operations.ipynb",
      "toc_visible": true,
      "authorship_tag": "ABX9TyMx08S2HY8dhv8VyU7cQe8s",
      "include_colab_link": true
    },
    "kernelspec": {
      "name": "python3",
      "display_name": "Python 3"
    },
    "language_info": {
      "name": "python"
    }
  },
  "cells": [
    {
      "cell_type": "markdown",
      "metadata": {
        "id": "view-in-github",
        "colab_type": "text"
      },
      "source": [
        "<a href=\"https://colab.research.google.com/github/mamud1977/bootup/blob/main/basic_python_helper_functions.ipynb\" target=\"_parent\"><img src=\"https://colab.research.google.com/assets/colab-badge.svg\" alt=\"Open In Colab\"/></a>"
      ]
    },
    {
      "cell_type": "markdown",
      "source": [
        "## Tuple operations"
      ],
      "metadata": {
        "id": "Zt3C0FAKjDT1"
      }
    },
    {
      "cell_type": "code",
      "source": [
        "v_tuple = (\"a\",\"b\",\"c\", 1,1,3,\"Apple\")\n",
        "print(v_tuple)"
      ],
      "metadata": {
        "colab": {
          "base_uri": "https://localhost:8080/"
        },
        "id": "yxmM2v6KiOWA",
        "outputId": "a6d468e8-30bb-48db-849f-a1a3200c97e5"
      },
      "execution_count": 3,
      "outputs": [
        {
          "output_type": "stream",
          "name": "stdout",
          "text": [
            "('a', 'b', 'c', 1, 1, 3, 'Apple')\n"
          ]
        }
      ]
    },
    {
      "cell_type": "code",
      "source": [
        "v_tuple.count(1)"
      ],
      "metadata": {
        "colab": {
          "base_uri": "https://localhost:8080/"
        },
        "id": "MMtXCicCijAv",
        "outputId": "f002fdc0-e622-41b3-a81a-32a3e0c273d9"
      },
      "execution_count": 4,
      "outputs": [
        {
          "output_type": "execute_result",
          "data": {
            "text/plain": [
              "2"
            ]
          },
          "metadata": {},
          "execution_count": 4
        }
      ]
    },
    {
      "cell_type": "code",
      "source": [
        "v_tuple.index(\"Apple\")"
      ],
      "metadata": {
        "id": "JFECCNAJkT0b",
        "outputId": "5d6d17fe-70cb-4d63-ca1c-0ea1c387a14e",
        "colab": {
          "base_uri": "https://localhost:8080/"
        }
      },
      "execution_count": 8,
      "outputs": [
        {
          "output_type": "execute_result",
          "data": {
            "text/plain": [
              "6"
            ]
          },
          "metadata": {},
          "execution_count": 8
        }
      ]
    },
    {
      "cell_type": "markdown",
      "source": [
        "## To create a moving block of data for recurrent NN"
      ],
      "metadata": {
        "id": "u_tFfNsyi4wK"
      }
    },
    {
      "cell_type": "code",
      "execution_count": 9,
      "metadata": {
        "id": "jlEUk4txbcdd",
        "outputId": "a8700a44-c05b-4287-b86b-5fb4be8049ff",
        "colab": {
          "base_uri": "https://localhost:8080/"
        }
      },
      "outputs": [
        {
          "output_type": "stream",
          "name": "stdout",
          "text": [
            "0 4\n",
            "1 5\n",
            "2 6\n",
            "3 7\n",
            "4 8\n",
            "5 9\n"
          ]
        }
      ],
      "source": [
        "for i in range(4,10):\n",
        "  print(i-4,i)"
      ]
    }
  ]
}
