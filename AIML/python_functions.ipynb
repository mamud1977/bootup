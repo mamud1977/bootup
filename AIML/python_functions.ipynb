{
  "nbformat": 4,
  "nbformat_minor": 0,
  "metadata": {
    "colab": {
      "provenance": [],
      "authorship_tag": "ABX9TyNwUsN0I3/KROHorz9upcrd",
      "include_colab_link": true
    },
    "kernelspec": {
      "name": "python3",
      "display_name": "Python 3"
    },
    "language_info": {
      "name": "python"
    }
  },
  "cells": [
    {
      "cell_type": "markdown",
      "metadata": {
        "id": "view-in-github",
        "colab_type": "text"
      },
      "source": [
        "<a href=\"https://colab.research.google.com/github/mamud1977/bootup/blob/main/python_functions.ipynb\" target=\"_parent\"><img src=\"https://colab.research.google.com/assets/colab-badge.svg\" alt=\"Open In Colab\"/></a>"
      ]
    },
    {
      "cell_type": "markdown",
      "source": [
        "## Important Python Functions\n",
        "\n",
        "1. map function\n",
        "2. reduce function\n",
        "3. lambda function\n",
        "4. filter function"
      ],
      "metadata": {
        "id": "53l7pMBkyJAj"
      }
    },
    {
      "cell_type": "markdown",
      "source": [
        "## map function"
      ],
      "metadata": {
        "id": "v4NejsZlyEv-"
      }
    },
    {
      "cell_type": "code",
      "source": [
        "v_list = [0,1,2,3,4,10,5,8,9,6,7]\n",
        "\n",
        "def square(x):\n",
        "    return x**2\n",
        "\n",
        "squared_vals = map(square,v_list)\n",
        "\n",
        "for i,s in enumerate(squared_vals):\n",
        "    print(i,v_list[i],s)"
      ],
      "metadata": {
        "colab": {
          "base_uri": "https://localhost:8080/"
        },
        "id": "4YDnmlwBxV_0",
        "outputId": "ba6038a8-5709-4719-c0ac-36b44737ae4f"
      },
      "execution_count": 6,
      "outputs": [
        {
          "output_type": "stream",
          "name": "stdout",
          "text": [
            "0 0 0\n",
            "1 1 1\n",
            "2 2 4\n",
            "3 3 9\n",
            "4 4 16\n",
            "5 10 100\n",
            "6 5 25\n",
            "7 8 64\n",
            "8 9 81\n",
            "9 6 36\n",
            "10 7 49\n"
          ]
        }
      ]
    },
    {
      "cell_type": "markdown",
      "source": [],
      "metadata": {
        "id": "ttDdFnblxDmH"
      }
    }
  ]
}