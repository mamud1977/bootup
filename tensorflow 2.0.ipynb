{
  "cells": [
    {
      "cell_type": "markdown",
      "metadata": {
        "id": "view-in-github",
        "colab_type": "text"
      },
      "source": [
        "<a href=\"https://colab.research.google.com/github/mamud1977/bootup/blob/main/tensorflow%202.0.ipynb\" target=\"_parent\"><img src=\"https://colab.research.google.com/assets/colab-badge.svg\" alt=\"Open In Colab\"/></a>"
      ]
    },
    {
      "cell_type": "markdown",
      "source": [
        "# **Tensorflow 2.0.....**"
      ],
      "metadata": {
        "id": "_JnFiBXLdBSh"
      },
      "id": "_JnFiBXLdBSh"
    },
    {
      "cell_type": "code",
      "source": [
        "# !pip install tensorflow-gpu==2.8.4"
      ],
      "metadata": {
        "id": "fulA-ae-LC4R"
      },
      "id": "fulA-ae-LC4R",
      "execution_count": null,
      "outputs": []
    },
    {
      "cell_type": "code",
      "source": [
        "import numpy as np\n",
        "import tensorflow as tf\n",
        "\n",
        "print(tf.__version__)"
      ],
      "metadata": {
        "id": "ODFmqZe9F9-Y",
        "outputId": "0a49cc88-f35a-41f3-b43d-623c806ceed2",
        "colab": {
          "base_uri": "https://localhost:8080/"
        }
      },
      "id": "ODFmqZe9F9-Y",
      "execution_count": 23,
      "outputs": [
        {
          "output_type": "stream",
          "name": "stdout",
          "text": [
            "2.17.0\n"
          ]
        }
      ]
    },
    {
      "cell_type": "markdown",
      "source": [
        "## TF Constant....."
      ],
      "metadata": {
        "id": "lJdrEbjzMJmb"
      },
      "id": "lJdrEbjzMJmb"
    },
    {
      "cell_type": "code",
      "source": [
        "tf_const = tf.constant(10)\n",
        "x = tf_const.numpy()\n",
        "print(f'TF Constant-Scalar: Shape{tf_const.shape}')\n",
        "print(x)\n",
        "\n",
        "\n",
        "tf_const = tf.constant([\"a\",\"b\",\"c\",\"d\",\"e\"])\n",
        "x = tf_const.numpy()\n",
        "print(f'TF Constant-vector: Shape{tf_const.shape}')\n",
        "print(x)\n",
        "\n",
        "tf_const = tf.constant([[1,2,5],[3,4,7]])\n",
        "x = tf_const.numpy()\n",
        "print(f'TF Constant-matrix: Shape{tf_const.shape}')\n",
        "print(x)\n",
        "\n",
        "tf_const = tf.constant([\n",
        "                        [[1,2,5],[3,4,7]],\n",
        "                        [[1,2,5],[3,6,7]],\n",
        "                        [[1,5,5],[3,4,7]],\n",
        "                        [[1,1,5],[3,9,7]],\n",
        "                        [[1,1,5],[3,9,7]],\n",
        "                        [[1,1,5],[3,9,7]]\n",
        "                       ])\n",
        "x = tf_const.numpy()\n",
        "print(f'TF Constant-matrix: Shape{tf_const.shape}') #6,2,3\n",
        "print(x)\n"
      ],
      "metadata": {
        "colab": {
          "base_uri": "https://localhost:8080/"
        },
        "id": "_BCGB213AsmC",
        "outputId": "c6e82c46-851f-4f24-d43a-51ca5d7077a4"
      },
      "id": "_BCGB213AsmC",
      "execution_count": 24,
      "outputs": [
        {
          "output_type": "stream",
          "name": "stdout",
          "text": [
            "TF Constant-Scalar: Shape()\n",
            "10\n",
            "TF Constant-vector: Shape(5,)\n",
            "[b'a' b'b' b'c' b'd' b'e']\n",
            "TF Constant-matrix: Shape(2, 3)\n",
            "[[1 2 5]\n",
            " [3 4 7]]\n",
            "TF Constant-matrix: Shape(6, 2, 3)\n",
            "[[[1 2 5]\n",
            "  [3 4 7]]\n",
            "\n",
            " [[1 2 5]\n",
            "  [3 6 7]]\n",
            "\n",
            " [[1 5 5]\n",
            "  [3 4 7]]\n",
            "\n",
            " [[1 1 5]\n",
            "  [3 9 7]]\n",
            "\n",
            " [[1 1 5]\n",
            "  [3 9 7]]\n",
            "\n",
            " [[1 1 5]\n",
            "  [3 9 7]]]\n"
          ]
        }
      ]
    },
    {
      "cell_type": "markdown",
      "source": [
        "## Slicing..."
      ],
      "metadata": {
        "id": "5P84Kky0MUAs"
      },
      "id": "5P84Kky0MUAs"
    },
    {
      "cell_type": "code",
      "source": [
        "x = tf_const[2:4,1,1:3]\n",
        "x"
      ],
      "metadata": {
        "id": "2qRRCUfMMYZw",
        "outputId": "3756a3cd-4f40-4e73-cac4-79eb4906d2f6",
        "colab": {
          "base_uri": "https://localhost:8080/"
        }
      },
      "id": "2qRRCUfMMYZw",
      "execution_count": 30,
      "outputs": [
        {
          "output_type": "execute_result",
          "data": {
            "text/plain": [
              "<tf.Tensor: shape=(2, 2), dtype=int32, numpy=\n",
              "array([[4, 7],\n",
              "       [9, 7]], dtype=int32)>"
            ]
          },
          "metadata": {},
          "execution_count": 30
        }
      ]
    },
    {
      "cell_type": "markdown",
      "source": [
        "## Reshaping..."
      ],
      "metadata": {
        "id": "dZdcZvSQNcz7"
      },
      "id": "dZdcZvSQNcz7"
    },
    {
      "cell_type": "code",
      "source": [
        "tf_const = tf.constant([\n",
        "                        [[1,2,5],[3,4,7]],\n",
        "                        [[1,2,5],[3,6,7]],\n",
        "                        [[1,5,5],[3,4,7]],\n",
        "                        [[1,1,5],[3,9,7]],\n",
        "                        [[1,1,5],[3,9,7]],\n",
        "                        [[1,1,5],[3,9,7]]\n",
        "                       ])\n",
        "\n",
        "tf_const = tf.reshape(tf_const,[6,6])\n",
        "tf_const"
      ],
      "metadata": {
        "id": "hrVNyi6jNgK5",
        "outputId": "218067cb-b038-43a9-aaaf-fae072acc316",
        "colab": {
          "base_uri": "https://localhost:8080/"
        }
      },
      "id": "hrVNyi6jNgK5",
      "execution_count": 31,
      "outputs": [
        {
          "output_type": "execute_result",
          "data": {
            "text/plain": [
              "<tf.Tensor: shape=(6, 6), dtype=int32, numpy=\n",
              "array([[1, 2, 5, 3, 4, 7],\n",
              "       [1, 2, 5, 3, 6, 7],\n",
              "       [1, 5, 5, 3, 4, 7],\n",
              "       [1, 1, 5, 3, 9, 7],\n",
              "       [1, 1, 5, 3, 9, 7],\n",
              "       [1, 1, 5, 3, 9, 7]], dtype=int32)>"
            ]
          },
          "metadata": {},
          "execution_count": 31
        }
      ]
    },
    {
      "cell_type": "code",
      "source": [
        "\n",
        "print('TF Variable.....')\n",
        "tensor_var = tf.Variable([[23,44,55],[333,33,7]])\n",
        "print('Initial :',tensor_var)\n",
        "\n",
        "tensor_var = tensor_var[1,2].assign(200)\n",
        "print('Updated :',tensor_var)\n",
        "\n",
        "tf_c = tf.constant([[1,2],[3,4]])\n",
        "print('Initial constant:',tf_c)\n",
        "\n",
        "tf_c = tf_c + 10\n",
        "\n",
        "print('Initial + 10 :',tf_c)\n",
        "\n",
        "tf_c = tf_c * 2\n",
        "print('Mult:',tf_c)\n",
        "\n",
        "tf_c = tf.constant([[1,2],[3,4]])\n",
        "tf_c =np.square(tf_c)\n",
        "print('Square:',tf_c)\n",
        "\n",
        "tf_c =np.sqrt(tf_c)\n",
        "print('Sqrt:',tf_c)\n",
        "\n",
        "tf_c =np.log(tf_c)\n",
        "print('Log:',tf_c)\n",
        "\n",
        "\n",
        "\n",
        "tfv1 = tf.Variable([[1,2],[3,4]])\n",
        "tfv2 = tf.Variable([[2,0],[1,1]])\n",
        "\n",
        "\n",
        "print('Dot product of two tensor:')\n",
        "y = np.dot(tfv1, tfv2)\n",
        "print(y)\n",
        "\n",
        "s = tf.constant('Hello World!!!')\n",
        "print('Length:',tf.strings.length(s))\n",
        "print(\"Unicode Decode:\",tf.strings.unicode_decode(s,\"UTF8\"))\n",
        "\n",
        "\n",
        "tf_array = tf.constant([\"Big\",\"Class\",\"Room\"])\n",
        "\n",
        "for s in tf_array:\n",
        "  print(s)\n",
        "  print(type(s))"
      ],
      "metadata": {
        "id": "uqHWUFVTkB-m"
      },
      "id": "uqHWUFVTkB-m",
      "execution_count": null,
      "outputs": []
    },
    {
      "cell_type": "code",
      "source": [
        "import tensorflow as tf\n",
        "import numpy as np\n",
        "import datetime\n",
        "from tensorflow.keras.datasets import fashion_mnist\n",
        "\n",
        "(X_train,Y_train), (X_test, Y_test) = fashion_mnist.load_data()\n",
        "\n",
        "X_train = X_train/255.0\n",
        "X_test = X_test/255.0\n",
        "\n",
        "print('Initial Shape:',X_train.shape)\n",
        "# (60000, 28, 28)\n",
        "\n",
        "X_train = X_train.reshape(-1,28*28)\n",
        "X_test = X_test.reshape(-1,28*28)\n",
        "\n",
        "print('After flatenning:',X_train.shape)\n",
        "\n",
        "model = tf.keras.models.Sequential()\n",
        "\n",
        "model.add(tf.keras.layers.Dense(units=128,activation='relu',input_shape=(784,)))\n",
        "model.add(tf.keras.layers.Dense(units=10,activation='softmax'))\n",
        "\n",
        "model.compile(optimizer='adam', loss = 'sparse_categorical_crossentropy',metrics=['sparse_categorical_accuracy'])\n",
        "\n",
        "\n",
        "model.summary()\n",
        "\n",
        "model.fit(X_train, Y_train, epochs=5)"
      ],
      "metadata": {
        "outputId": "46ea26ec-e68d-4b6c-d0c0-28ebcea08cbb",
        "colab": {
          "base_uri": "https://localhost:8080/"
        },
        "id": "lWgRVeBZl5TZ"
      },
      "execution_count": null,
      "outputs": [
        {
          "output_type": "stream",
          "name": "stdout",
          "text": [
            "Initial Shape: (60000, 28, 28)\n",
            "After flatenning: (60000, 784)\n",
            "Model: \"sequential_16\"\n",
            "_________________________________________________________________\n",
            " Layer (type)                Output Shape              Param #   \n",
            "=================================================================\n",
            " dense_20 (Dense)            (None, 128)               100480    \n",
            "                                                                 \n",
            " dense_21 (Dense)            (None, 10)                1290      \n",
            "                                                                 \n",
            "=================================================================\n",
            "Total params: 101,770\n",
            "Trainable params: 101,770\n",
            "Non-trainable params: 0\n",
            "_________________________________________________________________\n",
            "Epoch 1/5\n",
            "1875/1875 [==============================] - 5s 2ms/step - loss: 0.5018 - sparse_categorical_accuracy: 0.8238\n",
            "Epoch 2/5\n",
            "1875/1875 [==============================] - 5s 3ms/step - loss: 0.3765 - sparse_categorical_accuracy: 0.8620\n",
            "Epoch 3/5\n",
            "1875/1875 [==============================] - 4s 2ms/step - loss: 0.3402 - sparse_categorical_accuracy: 0.8759\n",
            "Epoch 4/5\n",
            "1875/1875 [==============================] - 5s 3ms/step - loss: 0.3138 - sparse_categorical_accuracy: 0.8850\n",
            "Epoch 5/5\n",
            "1875/1875 [==============================] - 5s 3ms/step - loss: 0.2968 - sparse_categorical_accuracy: 0.8909\n"
          ]
        },
        {
          "output_type": "execute_result",
          "data": {
            "text/plain": [
              "<keras.callbacks.History at 0x7a47ea444a60>"
            ]
          },
          "metadata": {},
          "execution_count": 64
        }
      ],
      "id": "lWgRVeBZl5TZ"
    },
    {
      "cell_type": "code",
      "source": [
        "test_loss, test_accuracy = model.evaluate(X_test, Y_test)\n",
        "\n",
        "print('Test loss {}'.format(test_loss))\n",
        "print('Test Accuracy {}'.format(test_accuracy))"
      ],
      "metadata": {
        "id": "xAfiFudx1K8T",
        "outputId": "7ca88393-b482-4335-b670-1182b2ff6422",
        "colab": {
          "base_uri": "https://localhost:8080/"
        }
      },
      "id": "xAfiFudx1K8T",
      "execution_count": null,
      "outputs": [
        {
          "output_type": "stream",
          "name": "stdout",
          "text": [
            "313/313 [==============================] - 1s 3ms/step - loss: 0.3694 - sparse_categorical_accuracy: 0.8687\n",
            "Test loss 0.3694240152835846\n",
            "Test Accuracy 0.8687000274658203\n"
          ]
        }
      ]
    },
    {
      "cell_type": "code",
      "source": [
        "\n",
        "\n",
        "\n"
      ],
      "metadata": {
        "id": "6LJ873QeKpxO"
      },
      "id": "6LJ873QeKpxO",
      "execution_count": null,
      "outputs": []
    }
  ],
  "metadata": {
    "colab": {
      "provenance": [],
      "include_colab_link": true
    },
    "language_info": {
      "name": "python"
    },
    "kernelspec": {
      "name": "python3",
      "display_name": "Python 3"
    }
  },
  "nbformat": 4,
  "nbformat_minor": 5
}