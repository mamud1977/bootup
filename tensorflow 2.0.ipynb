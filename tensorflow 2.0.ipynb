{
  "cells": [
    {
      "cell_type": "markdown",
      "metadata": {
        "id": "view-in-github",
        "colab_type": "text"
      },
      "source": [
        "<a href=\"https://colab.research.google.com/github/mamud1977/bootup/blob/main/tensorflow%202.0.ipynb\" target=\"_parent\"><img src=\"https://colab.research.google.com/assets/colab-badge.svg\" alt=\"Open In Colab\"/></a>"
      ]
    },
    {
      "cell_type": "markdown",
      "source": [
        "# **Tensorflow 2.0.....**"
      ],
      "metadata": {
        "id": "_JnFiBXLdBSh"
      },
      "id": "_JnFiBXLdBSh"
    },
    {
      "cell_type": "markdown",
      "source": [
        "# Tensorflow 2.0."
      ],
      "metadata": {
        "id": "sJtvG52UFwzL"
      },
      "id": "sJtvG52UFwzL"
    },
    {
      "cell_type": "code",
      "source": [
        "# !pip install tensorflow-gpu==2.8.4"
      ],
      "metadata": {
        "id": "fulA-ae-LC4R"
      },
      "id": "fulA-ae-LC4R",
      "execution_count": null,
      "outputs": []
    },
    {
      "cell_type": "code",
      "source": [
        "import numpy as np\n",
        "import tensorflow as tf\n",
        "\n",
        "print(tf.__version__)"
      ],
      "metadata": {
        "id": "ODFmqZe9F9-Y",
        "outputId": "f868dc02-6093-434b-c14d-81b5c12ea511",
        "colab": {
          "base_uri": "https://localhost:8080/"
        }
      },
      "id": "ODFmqZe9F9-Y",
      "execution_count": 2,
      "outputs": [
        {
          "output_type": "stream",
          "name": "stdout",
          "text": [
            "2.17.0\n"
          ]
        }
      ]
    },
    {
      "cell_type": "code",
      "source": [
        "print('TF Constant.....')\n",
        "tensor_const = tf.constant([[1,2],[3,4]])\n",
        "x = tensor_const.numpy()\n",
        "print('TF Constant:',x)\n",
        "\n",
        "np_array = np.array([[23,44,55],[333,33,7]])\n",
        "tensor_from_numpy = tf.constant(np_array)\n",
        "x = tensor_from_numpy.numpy()\n",
        "print('tensor_from_numpy:',x)"
      ],
      "metadata": {
        "id": "_BCGB213AsmC",
        "outputId": "6e19aaa1-9c9e-49fa-81fe-2a3cc482d656",
        "colab": {
          "base_uri": "https://localhost:8080/"
        }
      },
      "id": "_BCGB213AsmC",
      "execution_count": 5,
      "outputs": [
        {
          "output_type": "stream",
          "name": "stdout",
          "text": [
            "TF Constant.....\n",
            "TF Constant: [[1 2]\n",
            " [3 4]]\n",
            "tensor_from_numpy: [[ 23  44  55]\n",
            " [333  33   7]]\n"
          ]
        }
      ]
    },
    {
      "cell_type": "code",
      "source": [
        "\n",
        "print('TF Variable.....')\n",
        "tensor_var = tf.Variable([[23,44,55],[333,33,7]])\n",
        "print('Initial :',tensor_var)\n",
        "\n",
        "tensor_var = tensor_var[1,2].assign(200)\n",
        "print('Updated :',tensor_var)\n",
        "\n",
        "tf_c = tf.constant([[1,2],[3,4]])\n",
        "print('Initial constant:',tf_c)\n",
        "\n",
        "tf_c = tf_c + 10\n",
        "\n",
        "print('Initial + 10 :',tf_c)\n",
        "\n",
        "tf_c = tf_c * 2\n",
        "print('Mult:',tf_c)\n",
        "\n",
        "tf_c = tf.constant([[1,2],[3,4]])\n",
        "tf_c =np.square(tf_c)\n",
        "print('Square:',tf_c)\n",
        "\n",
        "tf_c =np.sqrt(tf_c)\n",
        "print('Sqrt:',tf_c)\n",
        "\n",
        "tf_c =np.log(tf_c)\n",
        "print('Log:',tf_c)\n",
        "\n",
        "\n",
        "\n",
        "tfv1 = tf.Variable([[1,2],[3,4]])\n",
        "tfv2 = tf.Variable([[2,0],[1,1]])\n",
        "\n",
        "\n",
        "print('Dot product of two tensor:')\n",
        "y = np.dot(tfv1, tfv2)\n",
        "print(y)\n",
        "\n",
        "s = tf.constant('Hello World!!!')\n",
        "print('Length:',tf.strings.length(s))\n",
        "print(\"Unicode Decode:\",tf.strings.unicode_decode(s,\"UTF8\"))\n",
        "\n",
        "\n",
        "tf_array = tf.constant([\"Big\",\"Class\",\"Room\"])\n",
        "\n",
        "for s in tf_array:\n",
        "  print(s)\n",
        "  print(type(s))"
      ],
      "metadata": {
        "id": "uqHWUFVTkB-m"
      },
      "id": "uqHWUFVTkB-m",
      "execution_count": null,
      "outputs": []
    },
    {
      "cell_type": "code",
      "source": [
        "import tensorflow as tf\n",
        "import numpy as np\n",
        "import datetime\n",
        "from tensorflow.keras.datasets import fashion_mnist\n",
        "\n",
        "(X_train,Y_train), (X_test, Y_test) = fashion_mnist.load_data()\n",
        "\n",
        "X_train = X_train/255.0\n",
        "X_test = X_test/255.0\n",
        "\n",
        "print('Initial Shape:',X_train.shape)\n",
        "# (60000, 28, 28)\n",
        "\n",
        "X_train = X_train.reshape(-1,28*28)\n",
        "X_test = X_test.reshape(-1,28*28)\n",
        "\n",
        "print('After flatenning:',X_train.shape)\n",
        "\n",
        "model = tf.keras.models.Sequential()\n",
        "\n",
        "model.add(tf.keras.layers.Dense(units=128,activation='relu',input_shape=(784,)))\n",
        "model.add(tf.keras.layers.Dense(units=10,activation='softmax'))\n",
        "\n",
        "model.compile(optimizer='adam', loss = 'sparse_categorical_crossentropy',metrics=['sparse_categorical_accuracy'])\n",
        "\n",
        "\n",
        "model.summary()\n",
        "\n",
        "model.fit(X_train, Y_train, epochs=5)"
      ],
      "metadata": {
        "outputId": "46ea26ec-e68d-4b6c-d0c0-28ebcea08cbb",
        "colab": {
          "base_uri": "https://localhost:8080/"
        },
        "id": "lWgRVeBZl5TZ"
      },
      "execution_count": null,
      "outputs": [
        {
          "output_type": "stream",
          "name": "stdout",
          "text": [
            "Initial Shape: (60000, 28, 28)\n",
            "After flatenning: (60000, 784)\n",
            "Model: \"sequential_16\"\n",
            "_________________________________________________________________\n",
            " Layer (type)                Output Shape              Param #   \n",
            "=================================================================\n",
            " dense_20 (Dense)            (None, 128)               100480    \n",
            "                                                                 \n",
            " dense_21 (Dense)            (None, 10)                1290      \n",
            "                                                                 \n",
            "=================================================================\n",
            "Total params: 101,770\n",
            "Trainable params: 101,770\n",
            "Non-trainable params: 0\n",
            "_________________________________________________________________\n",
            "Epoch 1/5\n",
            "1875/1875 [==============================] - 5s 2ms/step - loss: 0.5018 - sparse_categorical_accuracy: 0.8238\n",
            "Epoch 2/5\n",
            "1875/1875 [==============================] - 5s 3ms/step - loss: 0.3765 - sparse_categorical_accuracy: 0.8620\n",
            "Epoch 3/5\n",
            "1875/1875 [==============================] - 4s 2ms/step - loss: 0.3402 - sparse_categorical_accuracy: 0.8759\n",
            "Epoch 4/5\n",
            "1875/1875 [==============================] - 5s 3ms/step - loss: 0.3138 - sparse_categorical_accuracy: 0.8850\n",
            "Epoch 5/5\n",
            "1875/1875 [==============================] - 5s 3ms/step - loss: 0.2968 - sparse_categorical_accuracy: 0.8909\n"
          ]
        },
        {
          "output_type": "execute_result",
          "data": {
            "text/plain": [
              "<keras.callbacks.History at 0x7a47ea444a60>"
            ]
          },
          "metadata": {},
          "execution_count": 64
        }
      ],
      "id": "lWgRVeBZl5TZ"
    },
    {
      "cell_type": "code",
      "source": [
        "test_loss, test_accuracy = model.evaluate(X_test, Y_test)\n",
        "\n",
        "print('Test loss {}'.format(test_loss))\n",
        "print('Test Accuracy {}'.format(test_accuracy))"
      ],
      "metadata": {
        "id": "xAfiFudx1K8T",
        "outputId": "7ca88393-b482-4335-b670-1182b2ff6422",
        "colab": {
          "base_uri": "https://localhost:8080/"
        }
      },
      "id": "xAfiFudx1K8T",
      "execution_count": null,
      "outputs": [
        {
          "output_type": "stream",
          "name": "stdout",
          "text": [
            "313/313 [==============================] - 1s 3ms/step - loss: 0.3694 - sparse_categorical_accuracy: 0.8687\n",
            "Test loss 0.3694240152835846\n",
            "Test Accuracy 0.8687000274658203\n"
          ]
        }
      ]
    },
    {
      "cell_type": "code",
      "source": [
        "\n",
        "\n",
        "\n"
      ],
      "metadata": {
        "id": "6LJ873QeKpxO"
      },
      "id": "6LJ873QeKpxO",
      "execution_count": null,
      "outputs": []
    }
  ],
  "metadata": {
    "colab": {
      "provenance": [],
      "include_colab_link": true
    },
    "language_info": {
      "name": "python"
    },
    "kernelspec": {
      "name": "python3",
      "display_name": "Python 3"
    }
  },
  "nbformat": 4,
  "nbformat_minor": 5
}