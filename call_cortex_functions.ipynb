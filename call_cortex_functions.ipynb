{
  "nbformat": 4,
  "nbformat_minor": 0,
  "metadata": {
    "colab": {
      "provenance": [],
      "authorship_tag": "ABX9TyOA6dU2hkaCt3Z9JfiLCzTa",
      "include_colab_link": true
    },
    "kernelspec": {
      "name": "python3",
      "display_name": "Python 3"
    },
    "language_info": {
      "name": "python"
    }
  },
  "cells": [
    {
      "cell_type": "markdown",
      "metadata": {
        "id": "view-in-github",
        "colab_type": "text"
      },
      "source": [
        "<a href=\"https://colab.research.google.com/github/mamud1977/bootup/blob/main/call_cortex_functions.ipynb\" target=\"_parent\"><img src=\"https://colab.research.google.com/assets/colab-badge.svg\" alt=\"Open In Colab\"/></a>"
      ]
    },
    {
      "cell_type": "markdown",
      "source": [
        "Installtion"
      ],
      "metadata": {
        "id": "FW2SDs2HleRk"
      }
    },
    {
      "cell_type": "code",
      "source": [
        "!pip install snowflake-connector-python"
      ],
      "metadata": {
        "colab": {
          "base_uri": "https://localhost:8080/"
        },
        "id": "2bF0yD3jllFU",
        "outputId": "675815fc-da46-40a8-cc6d-434303dd6133"
      },
      "execution_count": 1,
      "outputs": [
        {
          "output_type": "stream",
          "name": "stdout",
          "text": [
            "Requirement already satisfied: snowflake-connector-python in /usr/local/lib/python3.10/dist-packages (3.12.1)\n",
            "Requirement already satisfied: asn1crypto<2.0.0,>0.24.0 in /usr/local/lib/python3.10/dist-packages (from snowflake-connector-python) (1.5.1)\n",
            "Requirement already satisfied: cffi<2.0.0,>=1.9 in /usr/local/lib/python3.10/dist-packages (from snowflake-connector-python) (1.17.0)\n",
            "Requirement already satisfied: cryptography>=3.1.0 in /usr/local/lib/python3.10/dist-packages (from snowflake-connector-python) (43.0.0)\n",
            "Requirement already satisfied: pyOpenSSL<25.0.0,>=16.2.0 in /usr/local/lib/python3.10/dist-packages (from snowflake-connector-python) (24.2.1)\n",
            "Requirement already satisfied: pyjwt<3.0.0 in /usr/local/lib/python3.10/dist-packages (from snowflake-connector-python) (2.9.0)\n",
            "Requirement already satisfied: pytz in /usr/local/lib/python3.10/dist-packages (from snowflake-connector-python) (2024.1)\n",
            "Requirement already satisfied: requests<3.0.0 in /usr/local/lib/python3.10/dist-packages (from snowflake-connector-python) (2.32.3)\n",
            "Requirement already satisfied: packaging in /usr/local/lib/python3.10/dist-packages (from snowflake-connector-python) (24.1)\n",
            "Requirement already satisfied: charset-normalizer<4,>=2 in /usr/local/lib/python3.10/dist-packages (from snowflake-connector-python) (3.3.2)\n",
            "Requirement already satisfied: idna<4,>=2.5 in /usr/local/lib/python3.10/dist-packages (from snowflake-connector-python) (3.8)\n",
            "Requirement already satisfied: certifi>=2017.4.17 in /usr/local/lib/python3.10/dist-packages (from snowflake-connector-python) (2024.8.30)\n",
            "Requirement already satisfied: typing-extensions<5,>=4.3 in /usr/local/lib/python3.10/dist-packages (from snowflake-connector-python) (4.12.2)\n",
            "Requirement already satisfied: filelock<4,>=3.5 in /usr/local/lib/python3.10/dist-packages (from snowflake-connector-python) (3.15.4)\n",
            "Requirement already satisfied: sortedcontainers>=2.4.0 in /usr/local/lib/python3.10/dist-packages (from snowflake-connector-python) (2.4.0)\n",
            "Requirement already satisfied: platformdirs<5.0.0,>=2.6.0 in /usr/local/lib/python3.10/dist-packages (from snowflake-connector-python) (4.2.2)\n",
            "Requirement already satisfied: tomlkit in /usr/local/lib/python3.10/dist-packages (from snowflake-connector-python) (0.13.2)\n",
            "Requirement already satisfied: pycparser in /usr/local/lib/python3.10/dist-packages (from cffi<2.0.0,>=1.9->snowflake-connector-python) (2.22)\n",
            "Requirement already satisfied: urllib3<3,>=1.21.1 in /usr/local/lib/python3.10/dist-packages (from requests<3.0.0->snowflake-connector-python) (2.0.7)\n"
          ]
        }
      ]
    },
    {
      "cell_type": "code",
      "source": [
        "\n",
        "\n",
        "import snowflake.connector\n",
        "\n",
        "conn = snowflake.connector.connect(\n",
        "       user='Welcome123',\n",
        "       password='Welcome123$',\n",
        "       account='VVROJOJ-KCB19941',\n",
        "       warehouse='DASH_S',\n",
        "       database='DASH_DB',\n",
        "       schema='DASH_SCHEMA'\n",
        "   )"
      ],
      "metadata": {
        "id": "qJjozfY_l55q"
      },
      "execution_count": 7,
      "outputs": []
    },
    {
      "cell_type": "code",
      "source": [
        "cur = conn.cursor()\n",
        "cur.execute(\"select textid, Text from Test where textid in ('aeb0e9d730','c672c9da1d', '33987a8ee5', '6d846d7d50')\")\n",
        "results = cur.fetchall()\n",
        "cur.close()\n",
        "conn.close()\n",
        "\n",
        "for row in results:\n",
        "  print(row)"
      ],
      "metadata": {
        "colab": {
          "base_uri": "https://localhost:8080/"
        },
        "id": "F_hhNCTqp6X1",
        "outputId": "41732139-ad06-43bf-f805-32fbb451cf80"
      },
      "execution_count": 9,
      "outputs": [
        {
          "output_type": "stream",
          "name": "stdout",
          "text": [
            "('33987a8ee5', 'iTunes/Apple Music on Windows 10 seems to be buggy, i.e. buttons not working, application not closing, playlists instructions appearing after the fact, etc. The call agent fond the situation abnormal but was not knowledgeable.')\n",
            "('6d846d7d50', 'En el momento de recoger el equipo; realmente tuve que esperar mucho, casi una hora, estaba cansada, porque todo el tiempo está uno de pie. Gracias')\n",
            "('aeb0e9d730', 'My experience went very smoothly, and the person I spoke to was incredibly patient, knowledgeable, and clearly dedicated to finding a solution for my problem. However, the last resort he suggested required that I reinstall the OS on my device. Since the process could take up to thirty minutes, he suggested that we set up a call back, just in case my problem was not resolved after the reinstallation is finished. The callback was not really needed because my problem was resolved. When I received the call, I was ready to answer and thank the person I had spoken to earlier. I was surprised to find that I was speaking to an automated machine; I was being told that I had missed my callback and would be called again later. The same thing happened with the second call as well. This did not really affect my experience because my issue was resolved; however, if it were not, I would have been extremely frustrated for not being able to speak to a customer service representative.')\n",
            "('c672c9da1d', 'The level 2 manager I dealt with was the \"WORST\" I have ve ever dealt with.. He was more in tune to letting me know his title about 6 times and after spending an hour on phone with him he told me I had to have a credit card for the new phone being sent. I have a debit card but he told me required to have a credit card.. . Finally after being given bad information to start with from T mobile it was finally rectified after more than 3.5 hours on calls and over 5 hours of traveling and time spent waiting at the Apple store which was a total waste of time.  After hour on calls i was told to go to apple store.  Apple store told me they would not look at the phone because it was a refurbed phone from 3 party .    Huge waste of my only day off Sunday.   Spent ENTIRE day dealing with something that should not have taken 30 mins most..')\n"
          ]
        }
      ]
    },
    {
      "cell_type": "code",
      "source": [
        "results"
      ],
      "metadata": {
        "colab": {
          "base_uri": "https://localhost:8080/"
        },
        "id": "BZXrXI4FqLGH",
        "outputId": "eed06650-8003-4c41-b713-9e66697cdc32"
      },
      "execution_count": 11,
      "outputs": [
        {
          "output_type": "execute_result",
          "data": {
            "text/plain": [
              "[('33987a8ee5',\n",
              "  'iTunes/Apple Music on Windows 10 seems to be buggy, i.e. buttons not working, application not closing, playlists instructions appearing after the fact, etc. The call agent fond the situation abnormal but was not knowledgeable.'),\n",
              " ('6d846d7d50',\n",
              "  'En el momento de recoger el equipo; realmente tuve que esperar mucho, casi una hora, estaba cansada, porque todo el tiempo está uno de pie. Gracias'),\n",
              " ('aeb0e9d730',\n",
              "  'My experience went very smoothly, and the person I spoke to was incredibly patient, knowledgeable, and clearly dedicated to finding a solution for my problem. However, the last resort he suggested required that I reinstall the OS on my device. Since the process could take up to thirty minutes, he suggested that we set up a call back, just in case my problem was not resolved after the reinstallation is finished. The callback was not really needed because my problem was resolved. When I received the call, I was ready to answer and thank the person I had spoken to earlier. I was surprised to find that I was speaking to an automated machine; I was being told that I had missed my callback and would be called again later. The same thing happened with the second call as well. This did not really affect my experience because my issue was resolved; however, if it were not, I would have been extremely frustrated for not being able to speak to a customer service representative.'),\n",
              " ('c672c9da1d',\n",
              "  'The level 2 manager I dealt with was the \"WORST\" I have ve ever dealt with.. He was more in tune to letting me know his title about 6 times and after spending an hour on phone with him he told me I had to have a credit card for the new phone being sent. I have a debit card but he told me required to have a credit card.. . Finally after being given bad information to start with from T mobile it was finally rectified after more than 3.5 hours on calls and over 5 hours of traveling and time spent waiting at the Apple store which was a total waste of time.  After hour on calls i was told to go to apple store.  Apple store told me they would not look at the phone because it was a refurbed phone from 3 party .    Huge waste of my only day off Sunday.   Spent ENTIRE day dealing with something that should not have taken 30 mins most..')]"
            ]
          },
          "metadata": {},
          "execution_count": 11
        }
      ]
    }
  ]
}