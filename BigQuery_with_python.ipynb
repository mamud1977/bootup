{
  "nbformat": 4,
  "nbformat_minor": 0,
  "metadata": {
    "colab": {
      "provenance": [],
      "authorship_tag": "ABX9TyPsiv2uJIhkiWwMVBlo/hvb",
      "include_colab_link": true
    },
    "kernelspec": {
      "name": "python3",
      "display_name": "Python 3"
    },
    "language_info": {
      "name": "python"
    }
  },
  "cells": [
    {
      "cell_type": "markdown",
      "metadata": {
        "id": "view-in-github",
        "colab_type": "text"
      },
      "source": [
        "<a href=\"https://colab.research.google.com/github/mamud1977/bootup/blob/main/BigQuery_with_python.ipynb\" target=\"_parent\"><img src=\"https://colab.research.google.com/assets/colab-badge.svg\" alt=\"Open In Colab\"/></a>"
      ]
    },
    {
      "cell_type": "code",
      "source": [
        "# !pip install --upgrade google-cloud-bigquery"
      ],
      "metadata": {
        "id": "pwJKXnp_UEqO"
      },
      "execution_count": 11,
      "outputs": []
    },
    {
      "cell_type": "code",
      "source": [
        "from google.colab import auth\n",
        "auth.authenticate_user()\n",
        "\n",
        "print('Authenticated')"
      ],
      "metadata": {
        "colab": {
          "base_uri": "https://localhost:8080/"
        },
        "id": "EYjO4hbrUCD3",
        "outputId": "652aca0e-cfbe-4469-b962-93126d0f3960"
      },
      "execution_count": 12,
      "outputs": [
        {
          "output_type": "stream",
          "name": "stdout",
          "text": [
            "Authenticated\n"
          ]
        }
      ]
    },
    {
      "cell_type": "code",
      "source": [
        "from google.cloud import bigquery\n",
        "\n",
        "project_id = \"concise-option-423004-a3\"\n",
        "client = bigquery.Client(project=project_id)"
      ],
      "metadata": {
        "id": "vsID_JcZRe0i"
      },
      "execution_count": 13,
      "outputs": []
    },
    {
      "cell_type": "code",
      "source": [
        "job = client.query(\"\"\"\n",
        "   SELECT count(*) FROM `concise-option-423004-a3.Insider_trading.tab1`\"\"\")\n",
        "results = job.result() # Wait for the job to complete.\n",
        "\n",
        "print(results.to_dataframe())\n",
        "\n"
      ],
      "metadata": {
        "colab": {
          "base_uri": "https://localhost:8080/"
        },
        "id": "UL1TGGRJSQSE",
        "outputId": "c8e0216e-9fec-40a9-e0f8-0ed2a2e1ae85"
      },
      "execution_count": 22,
      "outputs": [
        {
          "output_type": "stream",
          "name": "stdout",
          "text": [
            "   f0_\n",
            "0   19\n"
          ]
        }
      ]
    }
  ]
}