{
  "cells": [
    {
      "cell_type": "code",
      "execution_count": null,
      "id": "20b41749",
      "metadata": {
        "colab": {
          "base_uri": "https://localhost:8080/"
        },
        "id": "20b41749",
        "outputId": "e1ea10e2-17c4-46f7-d93c-9918fc410947"
      },
      "outputs": [
        {
          "name": "stdout",
          "output_type": "stream",
          "text": [
            "Welcome to Numpy, the numerical python...\n"
          ]
        }
      ],
      "source": [
        "print('Welcome to Numpy, the numerical python....')"
      ]
    },
    {
      "cell_type": "code",
      "execution_count": 9,
      "id": "2RM3sLlr6_uX",
      "metadata": {
        "colab": {
          "base_uri": "https://localhost:8080/"
        },
        "id": "2RM3sLlr6_uX",
        "outputId": "50496b8a-e732-48c0-dc0b-534fb2e0b0c0"
      },
      "outputs": [
        {
          "data": {
            "text/plain": [
              "[1, 2, 3, 4, 5]"
            ]
          },
          "execution_count": 9,
          "metadata": {},
          "output_type": "execute_result"
        }
      ],
      "source": [
        "import numpy as np\n",
        "my_list = [1,2,3,4,5]\n",
        "\n",
        "my_list\n",
        "\n"
      ]
    },
    {
      "cell_type": "code",
      "execution_count": 12,
      "id": "xmXdFZaO7os_",
      "metadata": {
        "colab": {
          "base_uri": "https://localhost:8080/"
        },
        "id": "xmXdFZaO7os_",
        "outputId": "d7a1ca8d-b430-44b5-da80-27a6e4b832f9"
      },
      "outputs": [
        {
          "data": {
            "text/plain": [
              "array([1, 2, 3, 4, 5])"
            ]
          },
          "execution_count": 12,
          "metadata": {},
          "output_type": "execute_result"
        }
      ],
      "source": [
        "my_array = np.array(my_list)\n",
        "\n",
        "my_array"
      ]
    },
    {
      "cell_type": "code",
      "execution_count": 44,
      "id": "g1UkGW9zQK0Z",
      "metadata": {
        "colab": {
          "base_uri": "https://localhost:8080/"
        },
        "id": "g1UkGW9zQK0Z",
        "outputId": "fd780562-0978-47be-87c8-fcd3b078401a"
      },
      "outputs": [
        {
          "data": {
            "text/plain": [
              "5"
            ]
          },
          "execution_count": 44,
          "metadata": {},
          "output_type": "execute_result"
        }
      ],
      "source": [
        "my_array.max()"
      ]
    },
    {
      "cell_type": "code",
      "execution_count": 64,
      "id": "nj9urfyQQWaj",
      "metadata": {
        "colab": {
          "base_uri": "https://localhost:8080/"
        },
        "id": "nj9urfyQQWaj",
        "outputId": "5f35c4dd-235f-462c-9261-38e6a1773b62"
      },
      "outputs": [
        {
          "data": {
            "text/plain": [
              "array([[ 0, 10, 15,  1, 10, 11],\n",
              "       [ 6, 16, 15, 17,  7,  5],\n",
              "       [ 9, 13,  2, 10, 16,  6],\n",
              "       [ 4,  8, 10,  2, 17, 12],\n",
              "       [ 4,  2, 16, 15,  7,  6]])"
            ]
          },
          "execution_count": 64,
          "metadata": {},
          "output_type": "execute_result"
        }
      ],
      "source": [
        "my_array2 = np.random.randint(0, 20, 30)\n",
        "my_array2\n",
        "\n",
        "my_array2.size\n",
        "my_array3 = my_array2.reshape(5,6)\n",
        "my_array3"
      ]
    },
    {
      "cell_type": "code",
      "execution_count": 65,
      "id": "j3reRHCeRQk0",
      "metadata": {
        "colab": {
          "base_uri": "https://localhost:8080/"
        },
        "id": "j3reRHCeRQk0",
        "outputId": "c6ad55be-53ae-4fe3-98be-232af51c7703"
      },
      "outputs": [
        {
          "data": {
            "text/plain": [
              "10"
            ]
          },
          "execution_count": 65,
          "metadata": {},
          "output_type": "execute_result"
        }
      ],
      "source": [
        "my_array3[2,3]"
      ]
    },
    {
      "cell_type": "code",
      "execution_count": 67,
      "id": "_TgQVB0fU0iU",
      "metadata": {
        "colab": {
          "base_uri": "https://localhost:8080/"
        },
        "id": "_TgQVB0fU0iU",
        "outputId": "6c77190e-0909-4287-a2e4-c86ea083b2d8"
      },
      "outputs": [
        {
          "data": {
            "text/plain": [
              "array([ 9, 13,  2, 10, 16,  6])"
            ]
          },
          "execution_count": 67,
          "metadata": {},
          "output_type": "execute_result"
        }
      ],
      "source": [
        "my_array3[2,:]"
      ]
    },
    {
      "cell_type": "code",
      "execution_count": 70,
      "id": "yCQK0NeXVPRV",
      "metadata": {
        "colab": {
          "base_uri": "https://localhost:8080/"
        },
        "id": "yCQK0NeXVPRV",
        "outputId": "cf13a4b8-3898-4324-f29e-f02740978c5f"
      },
      "outputs": [
        {
          "data": {
            "text/plain": [
              "array([[10, 15],\n",
              "       [16, 15]])"
            ]
          },
          "execution_count": 70,
          "metadata": {},
          "output_type": "execute_result"
        }
      ],
      "source": [
        "my_array3[0:2,1:3]"
      ]
    },
    {
      "cell_type": "markdown",
      "id": "ijTKzE3xQhwW",
      "metadata": {
        "id": "ijTKzE3xQhwW"
      },
      "source": []
    },
    {
      "cell_type": "code",
      "execution_count": 16,
      "id": "Zd5CkwJyAuU3",
      "metadata": {
        "colab": {
          "base_uri": "https://localhost:8080/"
        },
        "id": "Zd5CkwJyAuU3",
        "outputId": "f6b8e94b-415a-4aef-9309-9471867c9692"
      },
      "outputs": [
        {
          "data": {
            "text/plain": [
              "array([1, 3, 5, 7, 9])"
            ]
          },
          "execution_count": 16,
          "metadata": {},
          "output_type": "execute_result"
        }
      ],
      "source": [
        "np.arange(1,10,2)"
      ]
    },
    {
      "cell_type": "code",
      "execution_count": 21,
      "id": "n2CQXGZnBMc5",
      "metadata": {
        "colab": {
          "base_uri": "https://localhost:8080/"
        },
        "id": "n2CQXGZnBMc5",
        "outputId": "4827f83d-125b-4752-9ec1-4dd1f11e98b7"
      },
      "outputs": [
        {
          "data": {
            "text/plain": [
              "array([[0., 0., 0., 0., 0., 0.],\n",
              "       [0., 0., 0., 0., 0., 0.],\n",
              "       [0., 0., 0., 0., 0., 0.],\n",
              "       [0., 0., 0., 0., 0., 0.]])"
            ]
          },
          "execution_count": 21,
          "metadata": {},
          "output_type": "execute_result"
        }
      ],
      "source": [
        "np.zeros((4,6))"
      ]
    },
    {
      "cell_type": "code",
      "execution_count": 22,
      "id": "fT3NCIFRBas6",
      "metadata": {
        "colab": {
          "base_uri": "https://localhost:8080/"
        },
        "id": "fT3NCIFRBas6",
        "outputId": "40330e0e-019c-4694-bc0f-43422aa3eeb3"
      },
      "outputs": [
        {
          "data": {
            "text/plain": [
              "array([0. , 0.2, 0.4, 0.6, 0.8, 1. , 1.2, 1.4, 1.6, 1.8, 2. ])"
            ]
          },
          "execution_count": 22,
          "metadata": {},
          "output_type": "execute_result"
        }
      ],
      "source": [
        "np.linspace(0,2,11)"
      ]
    },
    {
      "cell_type": "code",
      "execution_count": 40,
      "id": "-Zp63Q2-B-zW",
      "metadata": {
        "colab": {
          "base_uri": "https://localhost:8080/"
        },
        "id": "-Zp63Q2-B-zW",
        "outputId": "0bb148be-8911-4a04-b0aa-d806bd011d4a"
      },
      "outputs": [
        {
          "data": {
            "text/plain": [
              "1"
            ]
          },
          "execution_count": 40,
          "metadata": {},
          "output_type": "execute_result"
        }
      ],
      "source": [
        "np.random.randint(1,3.2)"
      ]
    },
    {
      "cell_type": "code",
      "execution_count": 41,
      "id": "RF79fiG9CVMV",
      "metadata": {
        "colab": {
          "base_uri": "https://localhost:8080/"
        },
        "id": "RF79fiG9CVMV",
        "outputId": "86d3da70-b1bd-482a-e0b7-c1bcdd401f53"
      },
      "outputs": [
        {
          "data": {
            "text/plain": [
              "array([[55, 48, 55],\n",
              "       [ 3, 45, 70],\n",
              "       [48, 11, 98]])"
            ]
          },
          "execution_count": 41,
          "metadata": {},
          "output_type": "execute_result"
        }
      ],
      "source": [
        "np.random.randint(1,100,(3,3))"
      ]
    },
    {
      "cell_type": "code",
      "execution_count": 43,
      "id": "sBi0YjQ7P5YP",
      "metadata": {
        "colab": {
          "base_uri": "https://localhost:8080/"
        },
        "id": "sBi0YjQ7P5YP",
        "outputId": "12d80a6b-f948-4638-eff9-f78be2396a61"
      },
      "outputs": [
        {
          "data": {
            "text/plain": [
              "array([[[ 5, 51, 27, 31, 83],\n",
              "        [63, 12, 17, 68, 67],\n",
              "        [56, 74, 75,  5, 95],\n",
              "        [48, 28, 42, 76, 52]],\n",
              "\n",
              "       [[90, 22, 26, 51, 22],\n",
              "        [ 4, 80, 82, 55, 58],\n",
              "        [63, 82, 27,  9,  1],\n",
              "        [27,  2, 39, 76, 97]],\n",
              "\n",
              "       [[36, 94, 98, 78, 42],\n",
              "        [39, 64, 41, 28, 78],\n",
              "        [13, 52, 67, 69, 66],\n",
              "        [48, 15, 33, 84, 70]]])"
            ]
          },
          "execution_count": 43,
          "metadata": {},
          "output_type": "execute_result"
        }
      ],
      "source": [
        "np.random.randint(1,100,(3,4,5))"
      ]
    }
  ],
  "metadata": {
    "colab": {
      "provenance": []
    },
    "kernelspec": {
      "display_name": "Python 3 (ipykernel)",
      "language": "python",
      "name": "python3"
    },
    "language_info": {
      "codemirror_mode": {
        "name": "ipython",
        "version": 3
      },
      "file_extension": ".py",
      "mimetype": "text/x-python",
      "name": "python",
      "nbconvert_exporter": "python",
      "pygments_lexer": "ipython3",
      "version": "3.11.4"
    }
  },
  "nbformat": 4,
  "nbformat_minor": 5
}
