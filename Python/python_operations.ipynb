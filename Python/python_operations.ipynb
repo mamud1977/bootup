{
  "nbformat": 4,
  "nbformat_minor": 0,
  "metadata": {
    "colab": {
      "provenance": [],
      "authorship_tag": "ABX9TyMJCV5F0bXFh46DDM2YOrbT",
      "include_colab_link": true
    },
    "kernelspec": {
      "name": "python3",
      "display_name": "Python 3"
    },
    "language_info": {
      "name": "python"
    }
  },
  "cells": [
    {
      "cell_type": "markdown",
      "metadata": {
        "id": "view-in-github",
        "colab_type": "text"
      },
      "source": [
        "<a href=\"https://colab.research.google.com/github/mamud1977/bootup/blob/main/python_operations.ipynb\" target=\"_parent\"><img src=\"https://colab.research.google.com/assets/colab-badge.svg\" alt=\"Open In Colab\"/></a>"
      ]
    },
    {
      "cell_type": "markdown",
      "source": [
        "## Enumeration"
      ],
      "metadata": {
        "id": "g9mfiAJeU0Mj"
      }
    },
    {
      "cell_type": "code",
      "source": [
        "arr = [\"apple\",\"banana\",\"coconut\", \"cherry\"]\n",
        "\n",
        "for i,a in enumerate(arr):\n",
        "    print(i,a)"
      ],
      "metadata": {
        "colab": {
          "base_uri": "https://localhost:8080/"
        },
        "id": "zL6qdcY4U5kJ",
        "outputId": "7f12df1b-596d-4754-b441-d75dff5b8dff"
      },
      "execution_count": 10,
      "outputs": [
        {
          "output_type": "stream",
          "name": "stdout",
          "text": [
            "0 apple\n",
            "1 banana\n",
            "2 coconut\n",
            "3 cherry\n"
          ]
        }
      ]
    }
  ]
}