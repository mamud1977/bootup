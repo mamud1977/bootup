{
  "nbformat": 4,
  "nbformat_minor": 0,
  "metadata": {
    "colab": {
      "provenance": [],
      "authorship_tag": "ABX9TyM//Hhcj51+4RDau3NY2neb",
      "include_colab_link": true
    },
    "kernelspec": {
      "name": "python3",
      "display_name": "Python 3"
    },
    "language_info": {
      "name": "python"
    }
  },
  "cells": [
    {
      "cell_type": "markdown",
      "metadata": {
        "id": "view-in-github",
        "colab_type": "text"
      },
      "source": [
        "<a href=\"https://colab.research.google.com/github/mamud1977/bootup/blob/main/BigQuery_with_python.ipynb\" target=\"_parent\"><img src=\"https://colab.research.google.com/assets/colab-badge.svg\" alt=\"Open In Colab\"/></a>"
      ]
    },
    {
      "cell_type": "code",
      "source": [
        "# !pip install --upgrade google-cloud-bigquery"
      ],
      "metadata": {
        "id": "pwJKXnp_UEqO"
      },
      "execution_count": 11,
      "outputs": []
    },
    {
      "cell_type": "code",
      "source": [
        "from google.colab import auth\n",
        "from google.cloud import bigquery"
      ],
      "metadata": {
        "id": "EYjO4hbrUCD3"
      },
      "execution_count": 34,
      "outputs": []
    },
    {
      "cell_type": "code",
      "source": [
        "auth.authenticate_user()"
      ],
      "metadata": {
        "id": "TiRVWGu0XsCQ"
      },
      "execution_count": 35,
      "outputs": []
    },
    {
      "cell_type": "code",
      "source": [
        "project_id = \"concise-option-423004-a3\"\n",
        "client = bigquery.Client(project=project_id)"
      ],
      "metadata": {
        "id": "vsID_JcZRe0i"
      },
      "execution_count": 36,
      "outputs": []
    },
    {
      "cell_type": "code",
      "source": [
        "job = client.query(\"\"\"SELECT count(*) FROM `concise-option-423004-a3.equity_transaction.insider_trading`\"\"\")\n",
        "r = job.result() # Wait for the job to complete.\n",
        "\n",
        "print(r.to_dataframe())"
      ],
      "metadata": {
        "colab": {
          "base_uri": "https://localhost:8080/"
        },
        "id": "UL1TGGRJSQSE",
        "outputId": "528739a7-ae6d-4ae1-cf4b-caeff7f524eb"
      },
      "execution_count": 40,
      "outputs": [
        {
          "output_type": "stream",
          "name": "stdout",
          "text": [
            "   f0_\n",
            "0  108\n"
          ]
        }
      ]
    },
    {
      "cell_type": "code",
      "source": [
        "job = client.query(\"\"\"\n",
        "SELECT\n",
        "SYMBOL,\n",
        "COMPANY,\n",
        "NAME_OF_ACQUIRER_DISPOSER,\n",
        "CATEGORY_OF_PERSON,\n",
        "QTY_OF_SECURITIES_ACQUIRED_DISPLOSED,\n",
        "TRANSACTION_TYPE,\n",
        "TRANSACTION_DATE,\n",
        "MODE_OF_ACQUISITION\n",
        "FROM\n",
        "  `concise-option-423004-a3.equity_transaction.insider_trading`\"\"\")\n",
        "r = job.result() # Wait for the job to complete.\n",
        "\n",
        "print(r.to_dataframe())"
      ],
      "metadata": {
        "colab": {
          "base_uri": "https://localhost:8080/"
        },
        "id": "ODkvqzQzWhnY",
        "outputId": "b4b39f19-f117-46b8-e46c-4468dfbe2cf1"
      },
      "execution_count": 41,
      "outputs": [
        {
          "output_type": "stream",
          "name": "stdout",
          "text": [
            "         SYMBOL                                  COMPANY  \\\n",
            "0         EMKAY  Emkay Global Financial Services Limited   \n",
            "1       DRREDDY         Dr. Reddy's Laboratories Limited   \n",
            "2       DRREDDY         Dr. Reddy's Laboratories Limited   \n",
            "3       DRREDDY         Dr. Reddy's Laboratories Limited   \n",
            "4       DRREDDY         Dr. Reddy's Laboratories Limited   \n",
            "..          ...                                      ...   \n",
            "103        LTTS          L&T Technology Services Limited   \n",
            "104        LTTS          L&T Technology Services Limited   \n",
            "105  JBCHEPHARM   JB Chemicals & Pharmaceuticals Limited   \n",
            "106  JBCHEPHARM   JB Chemicals & Pharmaceuticals Limited   \n",
            "107  JBCHEPHARM   JB Chemicals & Pharmaceuticals Limited   \n",
            "\n",
            "    NAME_OF_ACQUIRER_DISPOSER              CATEGORY_OF_PERSON  \\\n",
            "0                 Parag Morey                               -   \n",
            "1                 Bryan Dixon                               -   \n",
            "2              Jeff Jorgenson                               -   \n",
            "3               C Swaminathan                               -   \n",
            "4                  Subba Inta                               -   \n",
            "..                        ...                             ...   \n",
            "103        Pawan Kumar Jaitly  Employees/Designated Employees   \n",
            "104             Ramesh Babu S  Employees/Designated Employees   \n",
            "105           Amarendra Kumar  Employees/Designated Employees   \n",
            "106       Tissa Thomas Varkey  Employees/Designated Employees   \n",
            "107             Manoj Chitnis  Employees/Designated Employees   \n",
            "\n",
            "     QTY_OF_SECURITIES_ACQUIRED_DISPLOSED TRANSACTION_TYPE TRANSACTION_DATE  \\\n",
            "0                                   20640              Buy      08-Aug-2024   \n",
            "1                                     150              Buy      29-Aug-2024   \n",
            "2                                     474              Buy      29-Aug-2024   \n",
            "3                                    1250              Buy      29-Aug-2024   \n",
            "4                                     704              Buy      29-Aug-2024   \n",
            "..                                    ...              ...              ...   \n",
            "103                                  1200             Sell      28-Aug-2024   \n",
            "104                                   300             Sell      29-Aug-2024   \n",
            "105                                  3000    Pledge Revoke      03-Sep-2024   \n",
            "106                                  3500    Pledge Revoke      30-Aug-2024   \n",
            "107                                  5000    Pledge Revoke      02-Sep-2024   \n",
            "\n",
            "      MODE_OF_ACQUISITION  \n",
            "0                    ESOP  \n",
            "1                    ESOP  \n",
            "2                    ESOP  \n",
            "3                    ESOP  \n",
            "4                    ESOP  \n",
            "..                    ...  \n",
            "103           Market Sale  \n",
            "104           Market Sale  \n",
            "105  Revokation of Pledge  \n",
            "106  Revokation of Pledge  \n",
            "107  Revokation of Pledge  \n",
            "\n",
            "[108 rows x 8 columns]\n"
          ]
        }
      ]
    }
  ]
}
