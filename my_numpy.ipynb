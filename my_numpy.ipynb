{
  "cells": [
    {
      "cell_type": "code",
      "execution_count": 4,
      "id": "20b41749",
      "metadata": {
        "id": "20b41749",
        "outputId": "e1ea10e2-17c4-46f7-d93c-9918fc410947",
        "colab": {
          "base_uri": "https://localhost:8080/"
        }
      },
      "outputs": [
        {
          "output_type": "stream",
          "name": "stdout",
          "text": [
            "Welcome to Numpy, the numerical python...\n"
          ]
        }
      ],
      "source": [
        "print('Welcome to Numpy, the numerical python...')"
      ]
    },
    {
      "cell_type": "code",
      "source": [
        "import numpy as np\n",
        "my_list = [1,2,3,4,5]\n",
        "\n",
        "my_list\n",
        "\n"
      ],
      "metadata": {
        "id": "2RM3sLlr6_uX",
        "outputId": "50496b8a-e732-48c0-dc0b-534fb2e0b0c0",
        "colab": {
          "base_uri": "https://localhost:8080/"
        }
      },
      "id": "2RM3sLlr6_uX",
      "execution_count": 9,
      "outputs": [
        {
          "output_type": "execute_result",
          "data": {
            "text/plain": [
              "[1, 2, 3, 4, 5]"
            ]
          },
          "metadata": {},
          "execution_count": 9
        }
      ]
    },
    {
      "cell_type": "code",
      "source": [
        "my_array = np.array(my_list)\n",
        "\n",
        "my_array"
      ],
      "metadata": {
        "id": "xmXdFZaO7os_",
        "outputId": "d7a1ca8d-b430-44b5-da80-27a6e4b832f9",
        "colab": {
          "base_uri": "https://localhost:8080/"
        }
      },
      "id": "xmXdFZaO7os_",
      "execution_count": 12,
      "outputs": [
        {
          "output_type": "execute_result",
          "data": {
            "text/plain": [
              "array([1, 2, 3, 4, 5])"
            ]
          },
          "metadata": {},
          "execution_count": 12
        }
      ]
    },
    {
      "cell_type": "code",
      "source": [
        "np.arange(1,10,2)"
      ],
      "metadata": {
        "id": "Zd5CkwJyAuU3",
        "outputId": "f6b8e94b-415a-4aef-9309-9471867c9692",
        "colab": {
          "base_uri": "https://localhost:8080/"
        }
      },
      "id": "Zd5CkwJyAuU3",
      "execution_count": 16,
      "outputs": [
        {
          "output_type": "execute_result",
          "data": {
            "text/plain": [
              "array([1, 3, 5, 7, 9])"
            ]
          },
          "metadata": {},
          "execution_count": 16
        }
      ]
    },
    {
      "cell_type": "code",
      "source": [
        "np.zeros((4,6))"
      ],
      "metadata": {
        "id": "n2CQXGZnBMc5",
        "outputId": "4827f83d-125b-4752-9ec1-4dd1f11e98b7",
        "colab": {
          "base_uri": "https://localhost:8080/"
        }
      },
      "id": "n2CQXGZnBMc5",
      "execution_count": 21,
      "outputs": [
        {
          "output_type": "execute_result",
          "data": {
            "text/plain": [
              "array([[0., 0., 0., 0., 0., 0.],\n",
              "       [0., 0., 0., 0., 0., 0.],\n",
              "       [0., 0., 0., 0., 0., 0.],\n",
              "       [0., 0., 0., 0., 0., 0.]])"
            ]
          },
          "metadata": {},
          "execution_count": 21
        }
      ]
    },
    {
      "cell_type": "code",
      "source": [
        "np.linspace(0,2,11)"
      ],
      "metadata": {
        "id": "fT3NCIFRBas6",
        "outputId": "40330e0e-019c-4694-bc0f-43422aa3eeb3",
        "colab": {
          "base_uri": "https://localhost:8080/"
        }
      },
      "id": "fT3NCIFRBas6",
      "execution_count": 22,
      "outputs": [
        {
          "output_type": "execute_result",
          "data": {
            "text/plain": [
              "array([0. , 0.2, 0.4, 0.6, 0.8, 1. , 1.2, 1.4, 1.6, 1.8, 2. ])"
            ]
          },
          "metadata": {},
          "execution_count": 22
        }
      ]
    }
  ],
  "metadata": {
    "kernelspec": {
      "display_name": "Python 3 (ipykernel)",
      "language": "python",
      "name": "python3"
    },
    "language_info": {
      "codemirror_mode": {
        "name": "ipython",
        "version": 3
      },
      "file_extension": ".py",
      "mimetype": "text/x-python",
      "name": "python",
      "nbconvert_exporter": "python",
      "pygments_lexer": "ipython3",
      "version": "3.11.4"
    },
    "colab": {
      "provenance": []
    }
  },
  "nbformat": 4,
  "nbformat_minor": 5
}