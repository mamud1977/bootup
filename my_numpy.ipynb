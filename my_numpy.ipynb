{
 "cells": [
  {
   "cell_type": "code",
   "execution_count": 1,
   "id": "20b41749",
   "metadata": {},
   "outputs": [
    {
     "name": "stdout",
     "output_type": "stream",
     "text": [
      "Hello World in Python\n"
     ]
    }
   ],
   "source": [
    "print('Hello World in Python')"
   ]
  },
  {
   "cell_type": "markdown",
   "id": "5aeab52b",
   "metadata": {},
   "source": [
    "2023-09-03 : Learning Python , Press SHIFT + ENTER"
   ]
  },
  {
   "cell_type": "code",
   "execution_count": 3,
   "id": "6e16f148",
   "metadata": {},
   "outputs": [],
   "source": [
    "x = 'Hello World, We are all good'"
   ]
  },
  {
   "cell_type": "code",
   "execution_count": 33,
   "id": "93e79b25",
   "metadata": {},
   "outputs": [
    {
     "data": {
      "text/plain": [
       "'Hello World, We are all good'"
      ]
     },
     "execution_count": 33,
     "metadata": {},
     "output_type": "execute_result"
    }
   ],
   "source": [
    "x"
   ]
  },
  {
   "cell_type": "code",
   "execution_count": 4,
   "id": "c4fce79c",
   "metadata": {},
   "outputs": [
    {
     "data": {
      "text/plain": [
       "'Hello World, We are all goodHello World, We are all good'"
      ]
     },
     "execution_count": 4,
     "metadata": {},
     "output_type": "execute_result"
    }
   ],
   "source": [
    "x * 2"
   ]
  },
  {
   "cell_type": "code",
   "execution_count": 6,
   "id": "c5c3022a",
   "metadata": {},
   "outputs": [
    {
     "data": {
      "text/plain": [
       "'HELLO WORLD, WE ARE ALL GOOD'"
      ]
     },
     "execution_count": 6,
     "metadata": {},
     "output_type": "execute_result"
    }
   ],
   "source": [
    "x.upper()"
   ]
  },
  {
   "cell_type": "code",
   "execution_count": 7,
   "id": "b0a4979e",
   "metadata": {},
   "outputs": [
    {
     "data": {
      "text/plain": [
       "['Hell', ' W', 'rld, We are all g', '', 'd']"
      ]
     },
     "execution_count": 7,
     "metadata": {},
     "output_type": "execute_result"
    }
   ],
   "source": [
    "x.split('o')"
   ]
  },
  {
   "cell_type": "code",
   "execution_count": 5,
   "id": "94d5460c",
   "metadata": {},
   "outputs": [
    {
     "name": "stdout",
     "output_type": "stream",
     "text": [
      "Today is Sunday....\n"
     ]
    }
   ],
   "source": [
    "print('Today is {}....'.format(\"Sunday\"))"
   ]
  },
  {
   "cell_type": "code",
   "execution_count": 11,
   "id": "ac355f47",
   "metadata": {},
   "outputs": [
    {
     "name": "stdout",
     "output_type": "stream",
     "text": [
      "Hello World, my name is Abrar\n"
     ]
    }
   ],
   "source": [
    "name = 'Abrar'\n",
    "print(f'Hello World, my name is {name}')"
   ]
  },
  {
   "cell_type": "code",
   "execution_count": 7,
   "id": "e799ed54",
   "metadata": {},
   "outputs": [
    {
     "data": {
      "text/plain": [
       "{'M', 'i', 'p', 's'}"
      ]
     },
     "execution_count": 7,
     "metadata": {},
     "output_type": "execute_result"
    }
   ],
   "source": [
    "str = 'Mississippi'\n",
    "str\n",
    "set(str)"
   ]
  },
  {
   "cell_type": "code",
   "execution_count": 19,
   "id": "bb2277fa",
   "metadata": {},
   "outputs": [
    {
     "data": {
      "text/plain": [
       "bool"
      ]
     },
     "execution_count": 19,
     "metadata": {},
     "output_type": "execute_result"
    }
   ],
   "source": [
    "type(1>2==False)"
   ]
  },
  {
   "cell_type": "code",
   "execution_count": 10,
   "id": "f28971dd",
   "metadata": {},
   "outputs": [
    {
     "name": "stdout",
     "output_type": "stream",
     "text": [
      "2024-08-07 13:33:26.527273\n",
      "2024-09-14 10:33:26.527273\n"
     ]
    }
   ],
   "source": [
    "from datetime import *\n",
    "from dateutil.relativedelta import *\n",
    "now = datetime.now()\n",
    "print(now)\n",
    "\n",
    "now = now + relativedelta(months=1, weeks=1, hour=10)\n",
    "\n",
    "print(now)"
   ]
  },
  {
   "cell_type": "code",
   "execution_count": 19,
   "id": "7ee9c979",
   "metadata": {},
   "outputs": [
    {
     "name": "stdout",
     "output_type": "stream",
     "text": [
      "['one', 2, 3, 'five', 'hundred']\n",
      "[3, 'five', 'hundred']\n",
      "['one', 2, 3, 'five', 'hundred', 'jjjj']\n"
     ]
    },
    {
     "data": {
      "text/plain": [
       "['one', 2, 3, 'five', 'hundred', 'jjjj']"
      ]
     },
     "execution_count": 19,
     "metadata": {},
     "output_type": "execute_result"
    }
   ],
   "source": [
    "l = ['one',2,3,'five', 'hundred']\n",
    "print (l)\n",
    "print(l[2:])\n",
    "l.append('jjjj')\n",
    "print(l)\n",
    "l"
   ]
  },
  {
   "cell_type": "code",
   "execution_count": null,
   "id": "6214bc40",
   "metadata": {},
   "outputs": [],
   "source": []
  }
 ],
 "metadata": {
  "kernelspec": {
   "display_name": "Python 3 (ipykernel)",
   "language": "python",
   "name": "python3"
  },
  "language_info": {
   "codemirror_mode": {
    "name": "ipython",
    "version": 3
   },
   "file_extension": ".py",
   "mimetype": "text/x-python",
   "name": "python",
   "nbconvert_exporter": "python",
   "pygments_lexer": "ipython3",
   "version": "3.11.4"
  }
 },
 "nbformat": 4,
 "nbformat_minor": 5
}
