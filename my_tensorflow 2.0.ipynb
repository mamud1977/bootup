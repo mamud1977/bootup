{
  "cells": [
    {
      "cell_type": "markdown",
      "metadata": {
        "id": "view-in-github",
        "colab_type": "text"
      },
      "source": [
        "<a href=\"https://colab.research.google.com/github/mamud1977/bootup/blob/main/my_tensorflow%202.0.ipynb\" target=\"_parent\"><img src=\"https://colab.research.google.com/assets/colab-badge.svg\" alt=\"Open In Colab\"/></a>"
      ]
    },
    {
      "cell_type": "markdown",
      "source": [
        "# **Tensorflow 2.0.....**"
      ],
      "metadata": {
        "id": "_JnFiBXLdBSh"
      },
      "id": "_JnFiBXLdBSh"
    },
    {
      "cell_type": "markdown",
      "source": [
        "# Tensorflow 2.0."
      ],
      "metadata": {
        "id": "sJtvG52UFwzL"
      },
      "id": "sJtvG52UFwzL"
    },
    {
      "cell_type": "code",
      "source": [
        "!pip install tensorflow-gpu==2.8.4"
      ],
      "metadata": {
        "id": "fulA-ae-LC4R"
      },
      "id": "fulA-ae-LC4R",
      "execution_count": null,
      "outputs": []
    },
    {
      "cell_type": "code",
      "source": [
        "import tensorflow as tf\n",
        "import numpy as np\n",
        "\n",
        "print(tf.__version__)\n",
        "\n",
        "\n",
        "print('TF Constant.....')\n",
        "tensor_conc = tf.constant([[1,2],[3,4]])\n",
        "#tensor_conc\n",
        "tensor_conc.numpy()\n",
        "print(tensor_conc)\n",
        "\n",
        "np_array = np.array([[23,44,55],[333,33,7]])\n",
        "tensor_from_numpy = tf.constant(np_array)\n",
        "tensor_from_numpy\n",
        "\n",
        "print('TF Variable.....')\n",
        "tensor_var = tf.Variable([[23,44,55],[333,33,7]])\n",
        "print('Initial :',tensor_var.numpy())\n",
        "\n",
        "tensor_var = tensor_var[1,2].assign(200)\n",
        "print('Updated :',tensor_var.numpy())\n",
        "\n",
        "tf_c = tf.constant([[1,2],[3,4]])\n",
        "print('Initial:',tf_c.numpy())\n",
        "\n",
        "tf_c = tf_c + 10\n",
        "\n",
        "print('Initial:',tf_c.numpy())\n",
        "\n",
        "tf_c = tf_c * 2\n",
        "\n",
        "print('Mult:',tf_c.numpy())\n",
        "\n",
        "tf_c = tf.constant([[1,2],[3,4]])\n",
        "\n",
        "tf_c =np.square(tf_c)\n",
        "print('Square:',tf_c)\n",
        "\n",
        "tf_c =np.sqrt(tf_c)\n",
        "print('Sqrt:',tf_c)\n",
        "\n",
        "\n",
        "tf_c =np.log(tf_c)\n",
        "print('Log:',tf_c)\n",
        "\n",
        "tfv1 = tf.Variable([[1,2],[3,4]])\n",
        "tfv2 = tf.Variable([[2,0],[1,1]])\n",
        "\n",
        "\n",
        "#x= tf.tensordot(tfv1, tfv2, axes=1 )\n",
        "#print('tensordot',x)\n",
        "\n",
        "print('np dot')\n",
        "y = np.dot(tfv1, tfv2)\n",
        "print(y)\n",
        "\n",
        "s = tf.constant('Hello World!!!')\n",
        "print('Lengt:',tf.strings.length(s))\n",
        "\n",
        "\n",
        "print(\"Unicode Decode:\",tf.strings.unicode_decode(s,\"UTF8\"))\n",
        "\n",
        "\n",
        "tf_array = tf.constant([\"Big\",\"Class\",\"Room\"])\n",
        "\n",
        "for s in tf_array:\n",
        "  print(s)\n",
        "  print(type(s))\n",
        "\n",
        "\n"
      ],
      "metadata": {
        "id": "ODFmqZe9F9-Y"
      },
      "id": "ODFmqZe9F9-Y",
      "execution_count": null,
      "outputs": []
    },
    {
      "cell_type": "code",
      "source": [
        "\n",
        "\n",
        "\n"
      ],
      "metadata": {
        "id": "6LJ873QeKpxO"
      },
      "id": "6LJ873QeKpxO",
      "execution_count": null,
      "outputs": []
    }
  ],
  "metadata": {
    "colab": {
      "provenance": [],
      "include_colab_link": true
    },
    "language_info": {
      "name": "python"
    },
    "kernelspec": {
      "name": "python3",
      "display_name": "Python 3"
    }
  },
  "nbformat": 4,
  "nbformat_minor": 5
}